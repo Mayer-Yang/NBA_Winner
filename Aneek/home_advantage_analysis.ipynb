{
 "cells": [
  {
   "cell_type": "markdown",
   "metadata": {},
   "source": [
    "# Objective : \n",
    "\n",
    "NBA has the highest home-court win percentage of the four major American sports leagues, with a historical overall winning percentage of 60%. \n",
    "\n",
    "We want to investigate the reason behind this statistic. "
   ]
  },
  {
   "cell_type": "markdown",
   "metadata": {},
   "source": [
    "#### Why analyze stats for the Regular Season and not Post Season/Playoffs?\n",
    "\n",
    "During the regular season, teams have very little preparation time for a game. They generally arrive at the home teams stadium the night before. So, the effects of scouting and advanced tactics are much less expressed during the regular season. Moreover, teams in the NBA are notorious for not playing their best players/ optimal intensity during the playoffs. So, teams are a bit more balanced and elite teams have a greater chance of losing. This implies that if any such thing as home advantage exists, it will be much more pronounced during the regular season. \n"
   ]
  },
  {
   "cell_type": "code",
   "execution_count": 17,
   "metadata": {},
   "outputs": [],
   "source": [
    "# imports\n",
    "import pandas as pd\n",
    "import sklearn\n",
    "import matplotlib.pyplot as plt \n",
    "import numpy as np \n",
    "import seaborn as sns\n",
    "from scipy import stats\n",
    "from statsmodels.stats import weightstats as stests\n",
    "from scipy.stats import ttest_ind\n",
    "from sklearn.manifold import TSNE\n",
    "from matplotlib import rcParams\n",
    "from mpl_toolkits import mplot3d\n",
    "from mpl_toolkits.mplot3d import Axes3D\n",
    "from matplotlib.colors import ListedColormap\n",
    "from sklearn.decomposition import PCA \n",
    "import pprint"
   ]
  },
  {
   "cell_type": "markdown",
   "metadata": {},
   "source": [
    "We will be using 3 dataframes for our home advantage analysis:\n",
    "\n",
    "# 1. master_df \n",
    "\n",
    "#### GLOSSARY\n",
    "contains the following features separated by home and away for all seasons from 2002-2020.\n",
    "\n",
    "GP:Games Played | GS:Games Started | MIN:Minutes Per Game | PTS:Points Per Game | OR:Offensive Rebounds Per Game\n",
    "\n",
    "DR:Defensive Rebounds Per Game | REB:Rebounds Per Game | AST:Assists Per Game | STL:Steals Per Game \n",
    "\n",
    "BLK:Blocks Per Game | TO:Turnovers Per Game | PF:Fouls Per Game | AST/TO:Assist To Turnover Ratio\n",
    "\n",
    "\n",
    "# 2. shots_df \n",
    "\n",
    "#### GLOSSARY\n",
    "contains the following features separated by home and away for all seasons from 2002-2020.\n",
    "\n",
    "FGM:Average Field Goals Made | FGA:Average Field Goals Attempted | FG%:Field Goal Percentage\n",
    "\n",
    "3PM:Average 3-Point Field Goals Made | 3PA:Average 3-Point Field Goals Attempted | 3P%:3-Point Field Goal Percentage\n",
    "\n",
    "FTM:Average Free Throws Made | FTA:Average Free Throws Attempted | FT%:Free Throw Percentage \n",
    "\n",
    "2PM:2-Point Field Goals Made / game | 2PA:2-Point Field Goals Attempted per Game | 2P%:2-Point Field Goal Percentage\n",
    "\n",
    "SC-EFF:Scoring Efficiency | SH-EFF:Shooting Efficiency\n",
    "\n",
    "# 3.ref_df\n",
    "\n",
    "#### GLOSSARY\n",
    "contains the following statistics of referees from 2009-2020\n",
    "\n",
    "YEAR:year of officiating | TYPE:Crew Referee/Main Referee | GAMES OFFICIATED: No. of games officiated in that year\n",
    "\n",
    "HTW%:Home team win % under that referee | HTPD:Home team points differential | TPPG:Average total points per game\n",
    "\n",
    "CFPG:Called fouls per game | FAR%:Foul % agaist away teams | FAH%:Foul percentage against home teams"
   ]
  },
  {
   "cell_type": "markdown",
   "metadata": {},
   "source": [
    "# Load the Datasets"
   ]
  },
  {
   "cell_type": "code",
   "execution_count": 2,
   "metadata": {},
   "outputs": [
    {
     "data": {
      "text/html": [
       "<div>\n",
       "<style scoped>\n",
       "    .dataframe tbody tr th:only-of-type {\n",
       "        vertical-align: middle;\n",
       "    }\n",
       "\n",
       "    .dataframe tbody tr th {\n",
       "        vertical-align: top;\n",
       "    }\n",
       "\n",
       "    .dataframe thead th {\n",
       "        text-align: right;\n",
       "    }\n",
       "</style>\n",
       "<table border=\"1\" class=\"dataframe\">\n",
       "  <thead>\n",
       "    <tr style=\"text-align: right;\">\n",
       "      <th></th>\n",
       "      <th>PNAME</th>\n",
       "      <th>POS</th>\n",
       "      <th>TEAM</th>\n",
       "      <th>YEAR</th>\n",
       "      <th>TYPE</th>\n",
       "      <th>GP</th>\n",
       "      <th>GS</th>\n",
       "      <th>MIN</th>\n",
       "      <th>PTS</th>\n",
       "      <th>OR</th>\n",
       "      <th>DR</th>\n",
       "      <th>REB</th>\n",
       "      <th>AST</th>\n",
       "      <th>STL</th>\n",
       "      <th>BLK</th>\n",
       "      <th>TO</th>\n",
       "      <th>PF</th>\n",
       "      <th>AST/TO</th>\n",
       "      <th>PER</th>\n",
       "    </tr>\n",
       "  </thead>\n",
       "  <tbody>\n",
       "    <tr>\n",
       "      <th>0</th>\n",
       "      <td>Jamal Mashburn</td>\n",
       "      <td>SF</td>\n",
       "      <td>no</td>\n",
       "      <td>2003</td>\n",
       "      <td>33</td>\n",
       "      <td>41</td>\n",
       "      <td>40</td>\n",
       "      <td>40.4</td>\n",
       "      <td>22.4</td>\n",
       "      <td>0.7</td>\n",
       "      <td>5.6</td>\n",
       "      <td>6.3</td>\n",
       "      <td>5.7</td>\n",
       "      <td>1.0</td>\n",
       "      <td>0.3</td>\n",
       "      <td>2.9</td>\n",
       "      <td>2.3</td>\n",
       "      <td>2.0</td>\n",
       "      <td>0</td>\n",
       "    </tr>\n",
       "    <tr>\n",
       "      <th>1</th>\n",
       "      <td>David Wesley</td>\n",
       "      <td>SG</td>\n",
       "      <td>no</td>\n",
       "      <td>2003</td>\n",
       "      <td>33</td>\n",
       "      <td>36</td>\n",
       "      <td>36</td>\n",
       "      <td>38.1</td>\n",
       "      <td>17.6</td>\n",
       "      <td>0.7</td>\n",
       "      <td>1.8</td>\n",
       "      <td>2.5</td>\n",
       "      <td>4.0</td>\n",
       "      <td>1.6</td>\n",
       "      <td>0.2</td>\n",
       "      <td>1.8</td>\n",
       "      <td>2.5</td>\n",
       "      <td>2.2</td>\n",
       "      <td>0</td>\n",
       "    </tr>\n",
       "    <tr>\n",
       "      <th>2</th>\n",
       "      <td>Baron Davis</td>\n",
       "      <td>PG</td>\n",
       "      <td>no</td>\n",
       "      <td>2003</td>\n",
       "      <td>33</td>\n",
       "      <td>25</td>\n",
       "      <td>25</td>\n",
       "      <td>37.0</td>\n",
       "      <td>16.9</td>\n",
       "      <td>1.0</td>\n",
       "      <td>2.7</td>\n",
       "      <td>3.7</td>\n",
       "      <td>7.4</td>\n",
       "      <td>2.0</td>\n",
       "      <td>0.6</td>\n",
       "      <td>2.8</td>\n",
       "      <td>3.0</td>\n",
       "      <td>2.7</td>\n",
       "      <td>0</td>\n",
       "    </tr>\n",
       "    <tr>\n",
       "      <th>3</th>\n",
       "      <td>Jamaal Magloire</td>\n",
       "      <td>C</td>\n",
       "      <td>no</td>\n",
       "      <td>2003</td>\n",
       "      <td>33</td>\n",
       "      <td>41</td>\n",
       "      <td>41</td>\n",
       "      <td>31.5</td>\n",
       "      <td>11.5</td>\n",
       "      <td>3.7</td>\n",
       "      <td>6.3</td>\n",
       "      <td>10.0</td>\n",
       "      <td>1.5</td>\n",
       "      <td>0.7</td>\n",
       "      <td>1.6</td>\n",
       "      <td>1.9</td>\n",
       "      <td>3.2</td>\n",
       "      <td>0.8</td>\n",
       "      <td>0</td>\n",
       "    </tr>\n",
       "    <tr>\n",
       "      <th>4</th>\n",
       "      <td>P.J. Brown</td>\n",
       "      <td>PF</td>\n",
       "      <td>no</td>\n",
       "      <td>2003</td>\n",
       "      <td>33</td>\n",
       "      <td>39</td>\n",
       "      <td>39</td>\n",
       "      <td>32.9</td>\n",
       "      <td>11.3</td>\n",
       "      <td>2.7</td>\n",
       "      <td>5.7</td>\n",
       "      <td>8.4</td>\n",
       "      <td>1.9</td>\n",
       "      <td>0.9</td>\n",
       "      <td>1.0</td>\n",
       "      <td>1.3</td>\n",
       "      <td>2.6</td>\n",
       "      <td>1.4</td>\n",
       "      <td>0</td>\n",
       "    </tr>\n",
       "  </tbody>\n",
       "</table>\n",
       "</div>"
      ],
      "text/plain": [
       "             PNAME POS TEAM  YEAR  TYPE  GP  GS   MIN   PTS   OR   DR   REB  \\\n",
       "0   Jamal Mashburn  SF   no  2003    33  41  40  40.4  22.4  0.7  5.6   6.3   \n",
       "1     David Wesley  SG   no  2003    33  36  36  38.1  17.6  0.7  1.8   2.5   \n",
       "2      Baron Davis  PG   no  2003    33  25  25  37.0  16.9  1.0  2.7   3.7   \n",
       "3  Jamaal Magloire   C   no  2003    33  41  41  31.5  11.5  3.7  6.3  10.0   \n",
       "4       P.J. Brown  PF   no  2003    33  39  39  32.9  11.3  2.7  5.7   8.4   \n",
       "\n",
       "   AST  STL  BLK   TO   PF  AST/TO  PER  \n",
       "0  5.7  1.0  0.3  2.9  2.3     2.0    0  \n",
       "1  4.0  1.6  0.2  1.8  2.5     2.2    0  \n",
       "2  7.4  2.0  0.6  2.8  3.0     2.7    0  \n",
       "3  1.5  0.7  1.6  1.9  3.2     0.8    0  \n",
       "4  1.9  0.9  1.0  1.3  2.6     1.4    0  "
      ]
     },
     "execution_count": 2,
     "metadata": {},
     "output_type": "execute_result"
    }
   ],
   "source": [
    "# type = 33 refers to home games, 34 refers to away games\n",
    "master_df = pd.read_csv('home_away.csv')\n",
    "master_df.head()"
   ]
  },
  {
   "cell_type": "code",
   "execution_count": 3,
   "metadata": {},
   "outputs": [
    {
     "data": {
      "text/html": [
       "<div>\n",
       "<style scoped>\n",
       "    .dataframe tbody tr th:only-of-type {\n",
       "        vertical-align: middle;\n",
       "    }\n",
       "\n",
       "    .dataframe tbody tr th {\n",
       "        vertical-align: top;\n",
       "    }\n",
       "\n",
       "    .dataframe thead th {\n",
       "        text-align: right;\n",
       "    }\n",
       "</style>\n",
       "<table border=\"1\" class=\"dataframe\">\n",
       "  <thead>\n",
       "    <tr style=\"text-align: right;\">\n",
       "      <th></th>\n",
       "      <th>PNAME</th>\n",
       "      <th>POS</th>\n",
       "      <th>TEAM</th>\n",
       "      <th>YEAR</th>\n",
       "      <th>TYPE</th>\n",
       "      <th>FGM</th>\n",
       "      <th>FGA</th>\n",
       "      <th>FG%</th>\n",
       "      <th>3PM</th>\n",
       "      <th>3PA</th>\n",
       "      <th>3P%</th>\n",
       "      <th>FTM</th>\n",
       "      <th>FTA</th>\n",
       "      <th>FT%</th>\n",
       "      <th>2PM</th>\n",
       "      <th>2PA</th>\n",
       "      <th>2P%</th>\n",
       "      <th>SC-EFF</th>\n",
       "      <th>SH-EFF</th>\n",
       "    </tr>\n",
       "  </thead>\n",
       "  <tbody>\n",
       "    <tr>\n",
       "      <th>0</th>\n",
       "      <td>Shareef Abdur-Rahim</td>\n",
       "      <td>PF</td>\n",
       "      <td>atl</td>\n",
       "      <td>2002</td>\n",
       "      <td>33</td>\n",
       "      <td>8.1</td>\n",
       "      <td>17.1</td>\n",
       "      <td>47.4</td>\n",
       "      <td>0.4</td>\n",
       "      <td>1.1</td>\n",
       "      <td>39.0</td>\n",
       "      <td>5.2</td>\n",
       "      <td>6.4</td>\n",
       "      <td>81.6</td>\n",
       "      <td>7.7</td>\n",
       "      <td>16.0</td>\n",
       "      <td>48.0</td>\n",
       "      <td>1.279</td>\n",
       "      <td>0.49</td>\n",
       "    </tr>\n",
       "    <tr>\n",
       "      <th>1</th>\n",
       "      <td>Jason Terry</td>\n",
       "      <td>G</td>\n",
       "      <td>atl</td>\n",
       "      <td>2002</td>\n",
       "      <td>33</td>\n",
       "      <td>7.3</td>\n",
       "      <td>16.3</td>\n",
       "      <td>44.6</td>\n",
       "      <td>2.3</td>\n",
       "      <td>5.7</td>\n",
       "      <td>39.9</td>\n",
       "      <td>3.9</td>\n",
       "      <td>4.7</td>\n",
       "      <td>82.0</td>\n",
       "      <td>5.0</td>\n",
       "      <td>10.6</td>\n",
       "      <td>47.1</td>\n",
       "      <td>1.269</td>\n",
       "      <td>0.52</td>\n",
       "    </tr>\n",
       "    <tr>\n",
       "      <th>2</th>\n",
       "      <td>Theo Ratliff</td>\n",
       "      <td>C</td>\n",
       "      <td>atl</td>\n",
       "      <td>2002</td>\n",
       "      <td>33</td>\n",
       "      <td>5.0</td>\n",
       "      <td>8.0</td>\n",
       "      <td>62.5</td>\n",
       "      <td>0.0</td>\n",
       "      <td>0.0</td>\n",
       "      <td>0.0</td>\n",
       "      <td>2.0</td>\n",
       "      <td>6.0</td>\n",
       "      <td>33.3</td>\n",
       "      <td>5.0</td>\n",
       "      <td>8.0</td>\n",
       "      <td>62.5</td>\n",
       "      <td>1.500</td>\n",
       "      <td>0.63</td>\n",
       "    </tr>\n",
       "    <tr>\n",
       "      <th>3</th>\n",
       "      <td>Toni Kukoc</td>\n",
       "      <td>SF</td>\n",
       "      <td>atl</td>\n",
       "      <td>2002</td>\n",
       "      <td>33</td>\n",
       "      <td>4.1</td>\n",
       "      <td>9.1</td>\n",
       "      <td>45.3</td>\n",
       "      <td>1.1</td>\n",
       "      <td>3.0</td>\n",
       "      <td>36.7</td>\n",
       "      <td>2.0</td>\n",
       "      <td>2.7</td>\n",
       "      <td>76.3</td>\n",
       "      <td>3.0</td>\n",
       "      <td>6.1</td>\n",
       "      <td>49.5</td>\n",
       "      <td>1.248</td>\n",
       "      <td>0.51</td>\n",
       "    </tr>\n",
       "    <tr>\n",
       "      <th>4</th>\n",
       "      <td>Dion Glover</td>\n",
       "      <td>SG</td>\n",
       "      <td>atl</td>\n",
       "      <td>2002</td>\n",
       "      <td>33</td>\n",
       "      <td>4.5</td>\n",
       "      <td>9.8</td>\n",
       "      <td>46.3</td>\n",
       "      <td>0.8</td>\n",
       "      <td>2.3</td>\n",
       "      <td>36.8</td>\n",
       "      <td>1.3</td>\n",
       "      <td>1.6</td>\n",
       "      <td>78.0</td>\n",
       "      <td>3.7</td>\n",
       "      <td>7.5</td>\n",
       "      <td>49.2</td>\n",
       "      <td>1.143</td>\n",
       "      <td>0.51</td>\n",
       "    </tr>\n",
       "  </tbody>\n",
       "</table>\n",
       "</div>"
      ],
      "text/plain": [
       "                 PNAME POS TEAM  YEAR  TYPE  FGM   FGA   FG%  3PM  3PA   3P%  \\\n",
       "0  Shareef Abdur-Rahim  PF  atl  2002    33  8.1  17.1  47.4  0.4  1.1  39.0   \n",
       "1          Jason Terry   G  atl  2002    33  7.3  16.3  44.6  2.3  5.7  39.9   \n",
       "2         Theo Ratliff   C  atl  2002    33  5.0   8.0  62.5  0.0  0.0   0.0   \n",
       "3           Toni Kukoc  SF  atl  2002    33  4.1   9.1  45.3  1.1  3.0  36.7   \n",
       "4          Dion Glover  SG  atl  2002    33  4.5   9.8  46.3  0.8  2.3  36.8   \n",
       "\n",
       "   FTM  FTA   FT%  2PM   2PA   2P%  SC-EFF  SH-EFF  \n",
       "0  5.2  6.4  81.6  7.7  16.0  48.0   1.279    0.49  \n",
       "1  3.9  4.7  82.0  5.0  10.6  47.1   1.269    0.52  \n",
       "2  2.0  6.0  33.3  5.0   8.0  62.5   1.500    0.63  \n",
       "3  2.0  2.7  76.3  3.0   6.1  49.5   1.248    0.51  \n",
       "4  1.3  1.6  78.0  3.7   7.5  49.2   1.143    0.51  "
      ]
     },
     "execution_count": 3,
     "metadata": {},
     "output_type": "execute_result"
    }
   ],
   "source": [
    "# type = 33 refers to home games, 34 refers to away games\n",
    "shots_df = pd.read_csv('shots_home_away_stats.csv')\n",
    "shots_df.head()"
   ]
  },
  {
   "cell_type": "code",
   "execution_count": 4,
   "metadata": {},
   "outputs": [
    {
     "data": {
      "text/html": [
       "<div>\n",
       "<style scoped>\n",
       "    .dataframe tbody tr th:only-of-type {\n",
       "        vertical-align: middle;\n",
       "    }\n",
       "\n",
       "    .dataframe tbody tr th {\n",
       "        vertical-align: top;\n",
       "    }\n",
       "\n",
       "    .dataframe thead th {\n",
       "        text-align: right;\n",
       "    }\n",
       "</style>\n",
       "<table border=\"1\" class=\"dataframe\">\n",
       "  <thead>\n",
       "    <tr style=\"text-align: right;\">\n",
       "      <th></th>\n",
       "      <th>YEAR</th>\n",
       "      <th>TYPE</th>\n",
       "      <th>GAMES OFFICIATED</th>\n",
       "      <th>HTW%</th>\n",
       "      <th>HTPD</th>\n",
       "      <th>TPPG</th>\n",
       "      <th>CFPG</th>\n",
       "      <th>FAR%</th>\n",
       "      <th>FAH%</th>\n",
       "    </tr>\n",
       "  </thead>\n",
       "  <tbody>\n",
       "    <tr>\n",
       "      <th>0</th>\n",
       "      <td>2020</td>\n",
       "      <td>CREW</td>\n",
       "      <td>54</td>\n",
       "      <td>0.574</td>\n",
       "      <td>3.704</td>\n",
       "      <td>217.370</td>\n",
       "      <td>39.333</td>\n",
       "      <td>50.189</td>\n",
       "      <td>49.812</td>\n",
       "    </tr>\n",
       "    <tr>\n",
       "      <th>1</th>\n",
       "      <td>2020</td>\n",
       "      <td>CREW</td>\n",
       "      <td>55</td>\n",
       "      <td>0.618</td>\n",
       "      <td>2.745</td>\n",
       "      <td>221.618</td>\n",
       "      <td>42.545</td>\n",
       "      <td>50.855</td>\n",
       "      <td>49.146</td>\n",
       "    </tr>\n",
       "    <tr>\n",
       "      <th>2</th>\n",
       "      <td>2020</td>\n",
       "      <td>CREW</td>\n",
       "      <td>55</td>\n",
       "      <td>0.564</td>\n",
       "      <td>2.036</td>\n",
       "      <td>224.582</td>\n",
       "      <td>43.273</td>\n",
       "      <td>50.126</td>\n",
       "      <td>49.874</td>\n",
       "    </tr>\n",
       "    <tr>\n",
       "      <th>3</th>\n",
       "      <td>2020</td>\n",
       "      <td>CREW</td>\n",
       "      <td>56</td>\n",
       "      <td>0.464</td>\n",
       "      <td>0.571</td>\n",
       "      <td>226.393</td>\n",
       "      <td>40.768</td>\n",
       "      <td>51.905</td>\n",
       "      <td>48.094</td>\n",
       "    </tr>\n",
       "    <tr>\n",
       "      <th>4</th>\n",
       "      <td>2020</td>\n",
       "      <td>CREW</td>\n",
       "      <td>54</td>\n",
       "      <td>0.500</td>\n",
       "      <td>-0.278</td>\n",
       "      <td>229.870</td>\n",
       "      <td>44.185</td>\n",
       "      <td>50.797</td>\n",
       "      <td>49.204</td>\n",
       "    </tr>\n",
       "  </tbody>\n",
       "</table>\n",
       "</div>"
      ],
      "text/plain": [
       "   YEAR  TYPE  GAMES OFFICIATED   HTW%   HTPD     TPPG    CFPG    FAR%    FAH%\n",
       "0  2020  CREW                54  0.574  3.704  217.370  39.333  50.189  49.812\n",
       "1  2020  CREW                55  0.618  2.745  221.618  42.545  50.855  49.146\n",
       "2  2020  CREW                55  0.564  2.036  224.582  43.273  50.126  49.874\n",
       "3  2020  CREW                56  0.464  0.571  226.393  40.768  51.905  48.094\n",
       "4  2020  CREW                54  0.500 -0.278  229.870  44.185  50.797  49.204"
      ]
     },
     "execution_count": 4,
     "metadata": {},
     "output_type": "execute_result"
    }
   ],
   "source": [
    "ref_df = pd.read_csv('referee_stats.csv')\n",
    "ref_df.head()"
   ]
  },
  {
   "cell_type": "markdown",
   "metadata": {},
   "source": [
    "# Clean the Datasets"
   ]
  },
  {
   "cell_type": "code",
   "execution_count": 5,
   "metadata": {},
   "outputs": [
    {
     "data": {
      "text/html": [
       "<div>\n",
       "<style scoped>\n",
       "    .dataframe tbody tr th:only-of-type {\n",
       "        vertical-align: middle;\n",
       "    }\n",
       "\n",
       "    .dataframe tbody tr th {\n",
       "        vertical-align: top;\n",
       "    }\n",
       "\n",
       "    .dataframe thead th {\n",
       "        text-align: right;\n",
       "    }\n",
       "</style>\n",
       "<table border=\"1\" class=\"dataframe\">\n",
       "  <thead>\n",
       "    <tr style=\"text-align: right;\">\n",
       "      <th></th>\n",
       "      <th>YEAR</th>\n",
       "      <th>TYPE</th>\n",
       "      <th>GP</th>\n",
       "      <th>GS</th>\n",
       "      <th>MIN</th>\n",
       "      <th>PTS</th>\n",
       "      <th>OR</th>\n",
       "      <th>DR</th>\n",
       "      <th>REB</th>\n",
       "      <th>AST</th>\n",
       "      <th>STL</th>\n",
       "      <th>BLK</th>\n",
       "      <th>TO</th>\n",
       "      <th>PF</th>\n",
       "      <th>AST/TO</th>\n",
       "      <th>PER</th>\n",
       "    </tr>\n",
       "  </thead>\n",
       "  <tbody>\n",
       "    <tr>\n",
       "      <th>count</th>\n",
       "      <td>19289.000000</td>\n",
       "      <td>19289.000000</td>\n",
       "      <td>19289.000000</td>\n",
       "      <td>19289.000000</td>\n",
       "      <td>19289.000000</td>\n",
       "      <td>19289.00000</td>\n",
       "      <td>19289.000000</td>\n",
       "      <td>19289.000000</td>\n",
       "      <td>19289.000000</td>\n",
       "      <td>19289.000000</td>\n",
       "      <td>19289.000000</td>\n",
       "      <td>19289.000000</td>\n",
       "      <td>19289.000000</td>\n",
       "      <td>19289.000000</td>\n",
       "      <td>19289.0</td>\n",
       "      <td>19289.0</td>\n",
       "    </tr>\n",
       "    <tr>\n",
       "      <th>mean</th>\n",
       "      <td>2011.495982</td>\n",
       "      <td>33.499093</td>\n",
       "      <td>23.632174</td>\n",
       "      <td>11.450308</td>\n",
       "      <td>20.059443</td>\n",
       "      <td>8.08045</td>\n",
       "      <td>0.918715</td>\n",
       "      <td>2.592742</td>\n",
       "      <td>3.508761</td>\n",
       "      <td>1.786002</td>\n",
       "      <td>0.629307</td>\n",
       "      <td>0.402167</td>\n",
       "      <td>1.151874</td>\n",
       "      <td>1.801659</td>\n",
       "      <td>inf</td>\n",
       "      <td>0.0</td>\n",
       "    </tr>\n",
       "    <tr>\n",
       "      <th>std</th>\n",
       "      <td>5.472670</td>\n",
       "      <td>0.500012</td>\n",
       "      <td>13.132732</td>\n",
       "      <td>13.993289</td>\n",
       "      <td>10.014791</td>\n",
       "      <td>5.97299</td>\n",
       "      <td>0.835390</td>\n",
       "      <td>1.821683</td>\n",
       "      <td>2.502688</td>\n",
       "      <td>1.786815</td>\n",
       "      <td>0.464474</td>\n",
       "      <td>0.481532</td>\n",
       "      <td>0.813595</td>\n",
       "      <td>0.849869</td>\n",
       "      <td>NaN</td>\n",
       "      <td>0.0</td>\n",
       "    </tr>\n",
       "    <tr>\n",
       "      <th>min</th>\n",
       "      <td>2002.000000</td>\n",
       "      <td>33.000000</td>\n",
       "      <td>1.000000</td>\n",
       "      <td>0.000000</td>\n",
       "      <td>0.000000</td>\n",
       "      <td>0.00000</td>\n",
       "      <td>0.000000</td>\n",
       "      <td>0.000000</td>\n",
       "      <td>0.000000</td>\n",
       "      <td>0.000000</td>\n",
       "      <td>0.000000</td>\n",
       "      <td>0.000000</td>\n",
       "      <td>0.000000</td>\n",
       "      <td>0.000000</td>\n",
       "      <td>0.0</td>\n",
       "      <td>0.0</td>\n",
       "    </tr>\n",
       "    <tr>\n",
       "      <th>25%</th>\n",
       "      <td>2007.000000</td>\n",
       "      <td>33.000000</td>\n",
       "      <td>12.000000</td>\n",
       "      <td>0.000000</td>\n",
       "      <td>11.900000</td>\n",
       "      <td>3.50000</td>\n",
       "      <td>0.300000</td>\n",
       "      <td>1.300000</td>\n",
       "      <td>1.700000</td>\n",
       "      <td>0.600000</td>\n",
       "      <td>0.300000</td>\n",
       "      <td>0.100000</td>\n",
       "      <td>0.600000</td>\n",
       "      <td>1.200000</td>\n",
       "      <td>0.8</td>\n",
       "      <td>0.0</td>\n",
       "    </tr>\n",
       "    <tr>\n",
       "      <th>50%</th>\n",
       "      <td>2012.000000</td>\n",
       "      <td>33.000000</td>\n",
       "      <td>26.000000</td>\n",
       "      <td>4.000000</td>\n",
       "      <td>19.600000</td>\n",
       "      <td>6.70000</td>\n",
       "      <td>0.700000</td>\n",
       "      <td>2.200000</td>\n",
       "      <td>3.000000</td>\n",
       "      <td>1.200000</td>\n",
       "      <td>0.500000</td>\n",
       "      <td>0.300000</td>\n",
       "      <td>1.000000</td>\n",
       "      <td>1.800000</td>\n",
       "      <td>1.3</td>\n",
       "      <td>0.0</td>\n",
       "    </tr>\n",
       "    <tr>\n",
       "      <th>75%</th>\n",
       "      <td>2016.000000</td>\n",
       "      <td>34.000000</td>\n",
       "      <td>36.000000</td>\n",
       "      <td>21.000000</td>\n",
       "      <td>28.300000</td>\n",
       "      <td>11.40000</td>\n",
       "      <td>1.300000</td>\n",
       "      <td>3.400000</td>\n",
       "      <td>4.700000</td>\n",
       "      <td>2.400000</td>\n",
       "      <td>0.900000</td>\n",
       "      <td>0.500000</td>\n",
       "      <td>1.600000</td>\n",
       "      <td>2.400000</td>\n",
       "      <td>2.0</td>\n",
       "      <td>0.0</td>\n",
       "    </tr>\n",
       "    <tr>\n",
       "      <th>max</th>\n",
       "      <td>2020.000000</td>\n",
       "      <td>34.000000</td>\n",
       "      <td>41.000000</td>\n",
       "      <td>41.000000</td>\n",
       "      <td>48.000000</td>\n",
       "      <td>37.90000</td>\n",
       "      <td>7.000000</td>\n",
       "      <td>12.100000</td>\n",
       "      <td>18.000000</td>\n",
       "      <td>12.700000</td>\n",
       "      <td>3.200000</td>\n",
       "      <td>6.000000</td>\n",
       "      <td>6.300000</td>\n",
       "      <td>6.000000</td>\n",
       "      <td>inf</td>\n",
       "      <td>0.0</td>\n",
       "    </tr>\n",
       "  </tbody>\n",
       "</table>\n",
       "</div>"
      ],
      "text/plain": [
       "               YEAR          TYPE            GP            GS           MIN  \\\n",
       "count  19289.000000  19289.000000  19289.000000  19289.000000  19289.000000   \n",
       "mean    2011.495982     33.499093     23.632174     11.450308     20.059443   \n",
       "std        5.472670      0.500012     13.132732     13.993289     10.014791   \n",
       "min     2002.000000     33.000000      1.000000      0.000000      0.000000   \n",
       "25%     2007.000000     33.000000     12.000000      0.000000     11.900000   \n",
       "50%     2012.000000     33.000000     26.000000      4.000000     19.600000   \n",
       "75%     2016.000000     34.000000     36.000000     21.000000     28.300000   \n",
       "max     2020.000000     34.000000     41.000000     41.000000     48.000000   \n",
       "\n",
       "               PTS            OR            DR           REB           AST  \\\n",
       "count  19289.00000  19289.000000  19289.000000  19289.000000  19289.000000   \n",
       "mean       8.08045      0.918715      2.592742      3.508761      1.786002   \n",
       "std        5.97299      0.835390      1.821683      2.502688      1.786815   \n",
       "min        0.00000      0.000000      0.000000      0.000000      0.000000   \n",
       "25%        3.50000      0.300000      1.300000      1.700000      0.600000   \n",
       "50%        6.70000      0.700000      2.200000      3.000000      1.200000   \n",
       "75%       11.40000      1.300000      3.400000      4.700000      2.400000   \n",
       "max       37.90000      7.000000     12.100000     18.000000     12.700000   \n",
       "\n",
       "                STL           BLK            TO            PF   AST/TO  \\\n",
       "count  19289.000000  19289.000000  19289.000000  19289.000000  19289.0   \n",
       "mean       0.629307      0.402167      1.151874      1.801659      inf   \n",
       "std        0.464474      0.481532      0.813595      0.849869      NaN   \n",
       "min        0.000000      0.000000      0.000000      0.000000      0.0   \n",
       "25%        0.300000      0.100000      0.600000      1.200000      0.8   \n",
       "50%        0.500000      0.300000      1.000000      1.800000      1.3   \n",
       "75%        0.900000      0.500000      1.600000      2.400000      2.0   \n",
       "max        3.200000      6.000000      6.300000      6.000000      inf   \n",
       "\n",
       "           PER  \n",
       "count  19289.0  \n",
       "mean       0.0  \n",
       "std        0.0  \n",
       "min        0.0  \n",
       "25%        0.0  \n",
       "50%        0.0  \n",
       "75%        0.0  \n",
       "max        0.0  "
      ]
     },
     "execution_count": 5,
     "metadata": {},
     "output_type": "execute_result"
    }
   ],
   "source": [
    "master_df.describe()"
   ]
  },
  {
   "cell_type": "markdown",
   "metadata": {},
   "source": [
    "Observations : \n",
    "1. PER has all 0 values.\n",
    "2. None of the columns have missing values. \n",
    "3. AST/TO has INF mean and NAN std, such values should be removed. \n",
    "4. There are observations where the player has played 0 minutes in a season, we should remove that.\n",
    "\n",
    "So, we clean the data in the following code block"
   ]
  },
  {
   "cell_type": "code",
   "execution_count": 6,
   "metadata": {},
   "outputs": [
    {
     "data": {
      "text/html": [
       "<div>\n",
       "<style scoped>\n",
       "    .dataframe tbody tr th:only-of-type {\n",
       "        vertical-align: middle;\n",
       "    }\n",
       "\n",
       "    .dataframe tbody tr th {\n",
       "        vertical-align: top;\n",
       "    }\n",
       "\n",
       "    .dataframe thead th {\n",
       "        text-align: right;\n",
       "    }\n",
       "</style>\n",
       "<table border=\"1\" class=\"dataframe\">\n",
       "  <thead>\n",
       "    <tr style=\"text-align: right;\">\n",
       "      <th></th>\n",
       "      <th>YEAR</th>\n",
       "      <th>TYPE</th>\n",
       "      <th>GP</th>\n",
       "      <th>GS</th>\n",
       "      <th>MIN</th>\n",
       "      <th>PTS</th>\n",
       "      <th>OR</th>\n",
       "      <th>DR</th>\n",
       "      <th>REB</th>\n",
       "      <th>AST</th>\n",
       "      <th>STL</th>\n",
       "      <th>BLK</th>\n",
       "      <th>TO</th>\n",
       "      <th>PF</th>\n",
       "      <th>AST/TO</th>\n",
       "    </tr>\n",
       "  </thead>\n",
       "  <tbody>\n",
       "    <tr>\n",
       "      <th>count</th>\n",
       "      <td>18847.000000</td>\n",
       "      <td>18847.000000</td>\n",
       "      <td>18847.000000</td>\n",
       "      <td>18847.000000</td>\n",
       "      <td>18847.000000</td>\n",
       "      <td>18847.000000</td>\n",
       "      <td>18847.000000</td>\n",
       "      <td>18847.000000</td>\n",
       "      <td>18847.000000</td>\n",
       "      <td>18847.000000</td>\n",
       "      <td>18847.000000</td>\n",
       "      <td>18847.000000</td>\n",
       "      <td>18847.000000</td>\n",
       "      <td>18847.000000</td>\n",
       "      <td>18847.000000</td>\n",
       "    </tr>\n",
       "    <tr>\n",
       "      <th>mean</th>\n",
       "      <td>2011.466334</td>\n",
       "      <td>33.499071</td>\n",
       "      <td>24.104950</td>\n",
       "      <td>11.717515</td>\n",
       "      <td>20.355054</td>\n",
       "      <td>8.219855</td>\n",
       "      <td>0.932881</td>\n",
       "      <td>2.634377</td>\n",
       "      <td>3.564509</td>\n",
       "      <td>1.809333</td>\n",
       "      <td>0.638399</td>\n",
       "      <td>0.408712</td>\n",
       "      <td>1.178835</td>\n",
       "      <td>1.827028</td>\n",
       "      <td>1.475476</td>\n",
       "    </tr>\n",
       "    <tr>\n",
       "      <th>std</th>\n",
       "      <td>5.469482</td>\n",
       "      <td>0.500012</td>\n",
       "      <td>12.905987</td>\n",
       "      <td>14.045854</td>\n",
       "      <td>9.903014</td>\n",
       "      <td>5.958998</td>\n",
       "      <td>0.835049</td>\n",
       "      <td>1.816654</td>\n",
       "      <td>2.496676</td>\n",
       "      <td>1.797503</td>\n",
       "      <td>0.462270</td>\n",
       "      <td>0.483157</td>\n",
       "      <td>0.803546</td>\n",
       "      <td>0.834915</td>\n",
       "      <td>1.078696</td>\n",
       "    </tr>\n",
       "    <tr>\n",
       "      <th>min</th>\n",
       "      <td>2002.000000</td>\n",
       "      <td>33.000000</td>\n",
       "      <td>1.000000</td>\n",
       "      <td>0.000000</td>\n",
       "      <td>0.500000</td>\n",
       "      <td>0.000000</td>\n",
       "      <td>0.000000</td>\n",
       "      <td>0.000000</td>\n",
       "      <td>0.000000</td>\n",
       "      <td>0.000000</td>\n",
       "      <td>0.000000</td>\n",
       "      <td>0.000000</td>\n",
       "      <td>0.000000</td>\n",
       "      <td>0.000000</td>\n",
       "      <td>0.000000</td>\n",
       "    </tr>\n",
       "    <tr>\n",
       "      <th>25%</th>\n",
       "      <td>2007.000000</td>\n",
       "      <td>33.000000</td>\n",
       "      <td>12.000000</td>\n",
       "      <td>0.000000</td>\n",
       "      <td>12.300000</td>\n",
       "      <td>3.700000</td>\n",
       "      <td>0.300000</td>\n",
       "      <td>1.300000</td>\n",
       "      <td>1.800000</td>\n",
       "      <td>0.600000</td>\n",
       "      <td>0.300000</td>\n",
       "      <td>0.100000</td>\n",
       "      <td>0.600000</td>\n",
       "      <td>1.300000</td>\n",
       "      <td>0.800000</td>\n",
       "    </tr>\n",
       "    <tr>\n",
       "      <th>50%</th>\n",
       "      <td>2012.000000</td>\n",
       "      <td>33.000000</td>\n",
       "      <td>26.000000</td>\n",
       "      <td>4.000000</td>\n",
       "      <td>20.000000</td>\n",
       "      <td>6.800000</td>\n",
       "      <td>0.700000</td>\n",
       "      <td>2.300000</td>\n",
       "      <td>3.000000</td>\n",
       "      <td>1.200000</td>\n",
       "      <td>0.600000</td>\n",
       "      <td>0.300000</td>\n",
       "      <td>1.000000</td>\n",
       "      <td>1.800000</td>\n",
       "      <td>1.300000</td>\n",
       "    </tr>\n",
       "    <tr>\n",
       "      <th>75%</th>\n",
       "      <td>2016.000000</td>\n",
       "      <td>34.000000</td>\n",
       "      <td>36.000000</td>\n",
       "      <td>22.000000</td>\n",
       "      <td>28.500000</td>\n",
       "      <td>11.600000</td>\n",
       "      <td>1.300000</td>\n",
       "      <td>3.500000</td>\n",
       "      <td>4.700000</td>\n",
       "      <td>2.400000</td>\n",
       "      <td>0.900000</td>\n",
       "      <td>0.500000</td>\n",
       "      <td>1.600000</td>\n",
       "      <td>2.400000</td>\n",
       "      <td>2.000000</td>\n",
       "    </tr>\n",
       "    <tr>\n",
       "      <th>max</th>\n",
       "      <td>2020.000000</td>\n",
       "      <td>34.000000</td>\n",
       "      <td>41.000000</td>\n",
       "      <td>41.000000</td>\n",
       "      <td>48.000000</td>\n",
       "      <td>37.900000</td>\n",
       "      <td>7.000000</td>\n",
       "      <td>12.100000</td>\n",
       "      <td>18.000000</td>\n",
       "      <td>12.700000</td>\n",
       "      <td>3.200000</td>\n",
       "      <td>6.000000</td>\n",
       "      <td>6.300000</td>\n",
       "      <td>5.500000</td>\n",
       "      <td>20.000000</td>\n",
       "    </tr>\n",
       "  </tbody>\n",
       "</table>\n",
       "</div>"
      ],
      "text/plain": [
       "               YEAR          TYPE            GP            GS           MIN  \\\n",
       "count  18847.000000  18847.000000  18847.000000  18847.000000  18847.000000   \n",
       "mean    2011.466334     33.499071     24.104950     11.717515     20.355054   \n",
       "std        5.469482      0.500012     12.905987     14.045854      9.903014   \n",
       "min     2002.000000     33.000000      1.000000      0.000000      0.500000   \n",
       "25%     2007.000000     33.000000     12.000000      0.000000     12.300000   \n",
       "50%     2012.000000     33.000000     26.000000      4.000000     20.000000   \n",
       "75%     2016.000000     34.000000     36.000000     22.000000     28.500000   \n",
       "max     2020.000000     34.000000     41.000000     41.000000     48.000000   \n",
       "\n",
       "                PTS            OR            DR           REB           AST  \\\n",
       "count  18847.000000  18847.000000  18847.000000  18847.000000  18847.000000   \n",
       "mean       8.219855      0.932881      2.634377      3.564509      1.809333   \n",
       "std        5.958998      0.835049      1.816654      2.496676      1.797503   \n",
       "min        0.000000      0.000000      0.000000      0.000000      0.000000   \n",
       "25%        3.700000      0.300000      1.300000      1.800000      0.600000   \n",
       "50%        6.800000      0.700000      2.300000      3.000000      1.200000   \n",
       "75%       11.600000      1.300000      3.500000      4.700000      2.400000   \n",
       "max       37.900000      7.000000     12.100000     18.000000     12.700000   \n",
       "\n",
       "                STL           BLK            TO            PF        AST/TO  \n",
       "count  18847.000000  18847.000000  18847.000000  18847.000000  18847.000000  \n",
       "mean       0.638399      0.408712      1.178835      1.827028      1.475476  \n",
       "std        0.462270      0.483157      0.803546      0.834915      1.078696  \n",
       "min        0.000000      0.000000      0.000000      0.000000      0.000000  \n",
       "25%        0.300000      0.100000      0.600000      1.300000      0.800000  \n",
       "50%        0.600000      0.300000      1.000000      1.800000      1.300000  \n",
       "75%        0.900000      0.500000      1.600000      2.400000      2.000000  \n",
       "max        3.200000      6.000000      6.300000      5.500000     20.000000  "
      ]
     },
     "execution_count": 6,
     "metadata": {},
     "output_type": "execute_result"
    }
   ],
   "source": [
    "master_df = master_df.drop(columns=['PER']) # drop the PER column\n",
    "# master_df[master_df['MIN']==0.0] # 16 players have played 0 minutes \n",
    "master_df = master_df[master_df['MIN'] != 0.0] # remove the players who havent played any minutes\n",
    "master_df = master_df[master_df['AST/TO'] != np.inf] # remove the observations where AST/TO is INF\n",
    "master_df.describe()"
   ]
  },
  {
   "cell_type": "code",
   "execution_count": 7,
   "metadata": {},
   "outputs": [
    {
     "data": {
      "text/html": [
       "<div>\n",
       "<style scoped>\n",
       "    .dataframe tbody tr th:only-of-type {\n",
       "        vertical-align: middle;\n",
       "    }\n",
       "\n",
       "    .dataframe tbody tr th {\n",
       "        vertical-align: top;\n",
       "    }\n",
       "\n",
       "    .dataframe thead th {\n",
       "        text-align: right;\n",
       "    }\n",
       "</style>\n",
       "<table border=\"1\" class=\"dataframe\">\n",
       "  <thead>\n",
       "    <tr style=\"text-align: right;\">\n",
       "      <th></th>\n",
       "      <th>YEAR</th>\n",
       "      <th>TYPE</th>\n",
       "      <th>FGM</th>\n",
       "      <th>FGA</th>\n",
       "      <th>FG%</th>\n",
       "      <th>3PM</th>\n",
       "      <th>3PA</th>\n",
       "      <th>3P%</th>\n",
       "      <th>FTM</th>\n",
       "      <th>FTA</th>\n",
       "      <th>FT%</th>\n",
       "      <th>2PM</th>\n",
       "      <th>2PA</th>\n",
       "      <th>2P%</th>\n",
       "      <th>SC-EFF</th>\n",
       "      <th>SH-EFF</th>\n",
       "    </tr>\n",
       "  </thead>\n",
       "  <tbody>\n",
       "    <tr>\n",
       "      <th>count</th>\n",
       "      <td>19307.000000</td>\n",
       "      <td>19307.000000</td>\n",
       "      <td>19307.000000</td>\n",
       "      <td>19307.000000</td>\n",
       "      <td>19307.000000</td>\n",
       "      <td>19307.000000</td>\n",
       "      <td>19307.000000</td>\n",
       "      <td>19307.000000</td>\n",
       "      <td>19307.000000</td>\n",
       "      <td>19307.000000</td>\n",
       "      <td>19307.000000</td>\n",
       "      <td>19307.000000</td>\n",
       "      <td>19307.000000</td>\n",
       "      <td>19307.000000</td>\n",
       "      <td>19307.000000</td>\n",
       "      <td>19307.000000</td>\n",
       "    </tr>\n",
       "    <tr>\n",
       "      <th>mean</th>\n",
       "      <td>2011.503910</td>\n",
       "      <td>33.499560</td>\n",
       "      <td>3.018335</td>\n",
       "      <td>6.761004</td>\n",
       "      <td>42.964930</td>\n",
       "      <td>0.606189</td>\n",
       "      <td>1.738768</td>\n",
       "      <td>23.769141</td>\n",
       "      <td>1.443155</td>\n",
       "      <td>1.923820</td>\n",
       "      <td>67.302755</td>\n",
       "      <td>2.413467</td>\n",
       "      <td>5.024525</td>\n",
       "      <td>45.805247</td>\n",
       "      <td>1.146687</td>\n",
       "      <td>0.470631</td>\n",
       "    </tr>\n",
       "    <tr>\n",
       "      <th>std</th>\n",
       "      <td>5.476272</td>\n",
       "      <td>0.500013</td>\n",
       "      <td>2.180458</td>\n",
       "      <td>4.607926</td>\n",
       "      <td>12.575957</td>\n",
       "      <td>0.713546</td>\n",
       "      <td>1.851453</td>\n",
       "      <td>19.408221</td>\n",
       "      <td>1.415204</td>\n",
       "      <td>1.773382</td>\n",
       "      <td>25.144918</td>\n",
       "      <td>1.909204</td>\n",
       "      <td>3.765015</td>\n",
       "      <td>14.145289</td>\n",
       "      <td>0.330984</td>\n",
       "      <td>0.133706</td>\n",
       "    </tr>\n",
       "    <tr>\n",
       "      <th>min</th>\n",
       "      <td>2002.000000</td>\n",
       "      <td>33.000000</td>\n",
       "      <td>0.000000</td>\n",
       "      <td>0.000000</td>\n",
       "      <td>0.000000</td>\n",
       "      <td>0.000000</td>\n",
       "      <td>0.000000</td>\n",
       "      <td>0.000000</td>\n",
       "      <td>0.000000</td>\n",
       "      <td>0.000000</td>\n",
       "      <td>0.000000</td>\n",
       "      <td>0.000000</td>\n",
       "      <td>0.000000</td>\n",
       "      <td>0.000000</td>\n",
       "      <td>0.000000</td>\n",
       "      <td>0.000000</td>\n",
       "    </tr>\n",
       "    <tr>\n",
       "      <th>25%</th>\n",
       "      <td>2007.000000</td>\n",
       "      <td>33.000000</td>\n",
       "      <td>1.300000</td>\n",
       "      <td>3.200000</td>\n",
       "      <td>38.900000</td>\n",
       "      <td>0.000000</td>\n",
       "      <td>0.100000</td>\n",
       "      <td>0.000000</td>\n",
       "      <td>0.500000</td>\n",
       "      <td>0.700000</td>\n",
       "      <td>60.700000</td>\n",
       "      <td>1.000000</td>\n",
       "      <td>2.200000</td>\n",
       "      <td>41.700000</td>\n",
       "      <td>1.032500</td>\n",
       "      <td>0.430000</td>\n",
       "    </tr>\n",
       "    <tr>\n",
       "      <th>50%</th>\n",
       "      <td>2012.000000</td>\n",
       "      <td>33.000000</td>\n",
       "      <td>2.500000</td>\n",
       "      <td>5.700000</td>\n",
       "      <td>43.800000</td>\n",
       "      <td>0.300000</td>\n",
       "      <td>1.200000</td>\n",
       "      <td>29.200000</td>\n",
       "      <td>1.000000</td>\n",
       "      <td>1.400000</td>\n",
       "      <td>74.600000</td>\n",
       "      <td>1.900000</td>\n",
       "      <td>4.000000</td>\n",
       "      <td>47.200000</td>\n",
       "      <td>1.169000</td>\n",
       "      <td>0.490000</td>\n",
       "    </tr>\n",
       "    <tr>\n",
       "      <th>75%</th>\n",
       "      <td>2016.000000</td>\n",
       "      <td>34.000000</td>\n",
       "      <td>4.300000</td>\n",
       "      <td>9.500000</td>\n",
       "      <td>48.900000</td>\n",
       "      <td>1.000000</td>\n",
       "      <td>2.900000</td>\n",
       "      <td>37.400000</td>\n",
       "      <td>2.000000</td>\n",
       "      <td>2.600000</td>\n",
       "      <td>82.600000</td>\n",
       "      <td>3.400000</td>\n",
       "      <td>7.000000</td>\n",
       "      <td>52.100000</td>\n",
       "      <td>1.299000</td>\n",
       "      <td>0.530000</td>\n",
       "    </tr>\n",
       "    <tr>\n",
       "      <th>max</th>\n",
       "      <td>2020.000000</td>\n",
       "      <td>34.000000</td>\n",
       "      <td>12.800000</td>\n",
       "      <td>28.400000</td>\n",
       "      <td>100.000000</td>\n",
       "      <td>5.300000</td>\n",
       "      <td>13.300000</td>\n",
       "      <td>100.000000</td>\n",
       "      <td>12.600000</td>\n",
       "      <td>14.200000</td>\n",
       "      <td>100.000000</td>\n",
       "      <td>11.300000</td>\n",
       "      <td>23.700000</td>\n",
       "      <td>100.000000</td>\n",
       "      <td>7.000000</td>\n",
       "      <td>1.500000</td>\n",
       "    </tr>\n",
       "  </tbody>\n",
       "</table>\n",
       "</div>"
      ],
      "text/plain": [
       "               YEAR          TYPE           FGM           FGA           FG%  \\\n",
       "count  19307.000000  19307.000000  19307.000000  19307.000000  19307.000000   \n",
       "mean    2011.503910     33.499560      3.018335      6.761004     42.964930   \n",
       "std        5.476272      0.500013      2.180458      4.607926     12.575957   \n",
       "min     2002.000000     33.000000      0.000000      0.000000      0.000000   \n",
       "25%     2007.000000     33.000000      1.300000      3.200000     38.900000   \n",
       "50%     2012.000000     33.000000      2.500000      5.700000     43.800000   \n",
       "75%     2016.000000     34.000000      4.300000      9.500000     48.900000   \n",
       "max     2020.000000     34.000000     12.800000     28.400000    100.000000   \n",
       "\n",
       "                3PM           3PA           3P%           FTM           FTA  \\\n",
       "count  19307.000000  19307.000000  19307.000000  19307.000000  19307.000000   \n",
       "mean       0.606189      1.738768     23.769141      1.443155      1.923820   \n",
       "std        0.713546      1.851453     19.408221      1.415204      1.773382   \n",
       "min        0.000000      0.000000      0.000000      0.000000      0.000000   \n",
       "25%        0.000000      0.100000      0.000000      0.500000      0.700000   \n",
       "50%        0.300000      1.200000     29.200000      1.000000      1.400000   \n",
       "75%        1.000000      2.900000     37.400000      2.000000      2.600000   \n",
       "max        5.300000     13.300000    100.000000     12.600000     14.200000   \n",
       "\n",
       "                FT%           2PM           2PA           2P%        SC-EFF  \\\n",
       "count  19307.000000  19307.000000  19307.000000  19307.000000  19307.000000   \n",
       "mean      67.302755      2.413467      5.024525     45.805247      1.146687   \n",
       "std       25.144918      1.909204      3.765015     14.145289      0.330984   \n",
       "min        0.000000      0.000000      0.000000      0.000000      0.000000   \n",
       "25%       60.700000      1.000000      2.200000     41.700000      1.032500   \n",
       "50%       74.600000      1.900000      4.000000     47.200000      1.169000   \n",
       "75%       82.600000      3.400000      7.000000     52.100000      1.299000   \n",
       "max      100.000000     11.300000     23.700000    100.000000      7.000000   \n",
       "\n",
       "             SH-EFF  \n",
       "count  19307.000000  \n",
       "mean       0.470631  \n",
       "std        0.133706  \n",
       "min        0.000000  \n",
       "25%        0.430000  \n",
       "50%        0.490000  \n",
       "75%        0.530000  \n",
       "max        1.500000  "
      ]
     },
     "execution_count": 7,
     "metadata": {},
     "output_type": "execute_result"
    }
   ],
   "source": [
    "shots_df.describe()"
   ]
  },
  {
   "cell_type": "markdown",
   "metadata": {},
   "source": [
    "Observations : \n",
    "1. No missing values or Nan values in any column. \n",
    "2. However, 220 observations have 0 field goals attempted. We will remove them as they are probably players who haven't played \n",
    "   a single minute or played just a few minutes in the entire season."
   ]
  },
  {
   "cell_type": "code",
   "execution_count": 8,
   "metadata": {},
   "outputs": [
    {
     "data": {
      "text/html": [
       "<div>\n",
       "<style scoped>\n",
       "    .dataframe tbody tr th:only-of-type {\n",
       "        vertical-align: middle;\n",
       "    }\n",
       "\n",
       "    .dataframe tbody tr th {\n",
       "        vertical-align: top;\n",
       "    }\n",
       "\n",
       "    .dataframe thead th {\n",
       "        text-align: right;\n",
       "    }\n",
       "</style>\n",
       "<table border=\"1\" class=\"dataframe\">\n",
       "  <thead>\n",
       "    <tr style=\"text-align: right;\">\n",
       "      <th></th>\n",
       "      <th>YEAR</th>\n",
       "      <th>TYPE</th>\n",
       "      <th>FGM</th>\n",
       "      <th>FGA</th>\n",
       "      <th>FG%</th>\n",
       "      <th>3PM</th>\n",
       "      <th>3PA</th>\n",
       "      <th>3P%</th>\n",
       "      <th>FTM</th>\n",
       "      <th>FTA</th>\n",
       "      <th>FT%</th>\n",
       "      <th>2PM</th>\n",
       "      <th>2PA</th>\n",
       "      <th>2P%</th>\n",
       "      <th>SC-EFF</th>\n",
       "      <th>SH-EFF</th>\n",
       "    </tr>\n",
       "  </thead>\n",
       "  <tbody>\n",
       "    <tr>\n",
       "      <th>count</th>\n",
       "      <td>19087.000000</td>\n",
       "      <td>19087.000000</td>\n",
       "      <td>19087.000000</td>\n",
       "      <td>19087.000000</td>\n",
       "      <td>19087.000000</td>\n",
       "      <td>19087.000000</td>\n",
       "      <td>19087.000000</td>\n",
       "      <td>19087.000000</td>\n",
       "      <td>19087.000000</td>\n",
       "      <td>19087.000000</td>\n",
       "      <td>19087.000000</td>\n",
       "      <td>19087.000000</td>\n",
       "      <td>19087.000000</td>\n",
       "      <td>19087.000000</td>\n",
       "      <td>19087.000000</td>\n",
       "      <td>19087.000000</td>\n",
       "    </tr>\n",
       "    <tr>\n",
       "      <th>mean</th>\n",
       "      <td>2011.502384</td>\n",
       "      <td>33.500079</td>\n",
       "      <td>3.053125</td>\n",
       "      <td>6.838932</td>\n",
       "      <td>43.460151</td>\n",
       "      <td>0.613177</td>\n",
       "      <td>1.758810</td>\n",
       "      <td>24.043108</td>\n",
       "      <td>1.458836</td>\n",
       "      <td>1.944177</td>\n",
       "      <td>68.015188</td>\n",
       "      <td>2.441285</td>\n",
       "      <td>5.082438</td>\n",
       "      <td>46.333206</td>\n",
       "      <td>1.159904</td>\n",
       "      <td>0.476056</td>\n",
       "    </tr>\n",
       "    <tr>\n",
       "      <th>std</th>\n",
       "      <td>5.478458</td>\n",
       "      <td>0.500013</td>\n",
       "      <td>2.168635</td>\n",
       "      <td>4.576544</td>\n",
       "      <td>11.766657</td>\n",
       "      <td>0.714655</td>\n",
       "      <td>1.852604</td>\n",
       "      <td>19.350286</td>\n",
       "      <td>1.415338</td>\n",
       "      <td>1.772449</td>\n",
       "      <td>24.302742</td>\n",
       "      <td>1.902409</td>\n",
       "      <td>3.747583</td>\n",
       "      <td>13.339125</td>\n",
       "      <td>0.309002</td>\n",
       "      <td>0.124503</td>\n",
       "    </tr>\n",
       "    <tr>\n",
       "      <th>min</th>\n",
       "      <td>2002.000000</td>\n",
       "      <td>33.000000</td>\n",
       "      <td>0.000000</td>\n",
       "      <td>0.100000</td>\n",
       "      <td>0.000000</td>\n",
       "      <td>0.000000</td>\n",
       "      <td>0.000000</td>\n",
       "      <td>0.000000</td>\n",
       "      <td>0.000000</td>\n",
       "      <td>0.000000</td>\n",
       "      <td>0.000000</td>\n",
       "      <td>0.000000</td>\n",
       "      <td>0.000000</td>\n",
       "      <td>0.000000</td>\n",
       "      <td>0.000000</td>\n",
       "      <td>0.000000</td>\n",
       "    </tr>\n",
       "    <tr>\n",
       "      <th>25%</th>\n",
       "      <td>2007.000000</td>\n",
       "      <td>33.000000</td>\n",
       "      <td>1.400000</td>\n",
       "      <td>3.300000</td>\n",
       "      <td>39.100000</td>\n",
       "      <td>0.000000</td>\n",
       "      <td>0.100000</td>\n",
       "      <td>0.000000</td>\n",
       "      <td>0.500000</td>\n",
       "      <td>0.700000</td>\n",
       "      <td>61.500000</td>\n",
       "      <td>1.000000</td>\n",
       "      <td>2.300000</td>\n",
       "      <td>41.900000</td>\n",
       "      <td>1.039000</td>\n",
       "      <td>0.440000</td>\n",
       "    </tr>\n",
       "    <tr>\n",
       "      <th>50%</th>\n",
       "      <td>2012.000000</td>\n",
       "      <td>34.000000</td>\n",
       "      <td>2.600000</td>\n",
       "      <td>5.800000</td>\n",
       "      <td>43.900000</td>\n",
       "      <td>0.400000</td>\n",
       "      <td>1.200000</td>\n",
       "      <td>29.500000</td>\n",
       "      <td>1.000000</td>\n",
       "      <td>1.400000</td>\n",
       "      <td>75.000000</td>\n",
       "      <td>1.900000</td>\n",
       "      <td>4.100000</td>\n",
       "      <td>47.400000</td>\n",
       "      <td>1.171000</td>\n",
       "      <td>0.490000</td>\n",
       "    </tr>\n",
       "    <tr>\n",
       "      <th>75%</th>\n",
       "      <td>2016.000000</td>\n",
       "      <td>34.000000</td>\n",
       "      <td>4.300000</td>\n",
       "      <td>9.500000</td>\n",
       "      <td>49.000000</td>\n",
       "      <td>1.000000</td>\n",
       "      <td>2.900000</td>\n",
       "      <td>37.500000</td>\n",
       "      <td>2.000000</td>\n",
       "      <td>2.600000</td>\n",
       "      <td>82.700000</td>\n",
       "      <td>3.400000</td>\n",
       "      <td>7.100000</td>\n",
       "      <td>52.200000</td>\n",
       "      <td>1.300000</td>\n",
       "      <td>0.530000</td>\n",
       "    </tr>\n",
       "    <tr>\n",
       "      <th>max</th>\n",
       "      <td>2020.000000</td>\n",
       "      <td>34.000000</td>\n",
       "      <td>12.800000</td>\n",
       "      <td>28.400000</td>\n",
       "      <td>100.000000</td>\n",
       "      <td>5.300000</td>\n",
       "      <td>13.300000</td>\n",
       "      <td>100.000000</td>\n",
       "      <td>12.600000</td>\n",
       "      <td>14.200000</td>\n",
       "      <td>100.000000</td>\n",
       "      <td>11.300000</td>\n",
       "      <td>23.700000</td>\n",
       "      <td>100.000000</td>\n",
       "      <td>7.000000</td>\n",
       "      <td>1.500000</td>\n",
       "    </tr>\n",
       "  </tbody>\n",
       "</table>\n",
       "</div>"
      ],
      "text/plain": [
       "               YEAR          TYPE           FGM           FGA           FG%  \\\n",
       "count  19087.000000  19087.000000  19087.000000  19087.000000  19087.000000   \n",
       "mean    2011.502384     33.500079      3.053125      6.838932     43.460151   \n",
       "std        5.478458      0.500013      2.168635      4.576544     11.766657   \n",
       "min     2002.000000     33.000000      0.000000      0.100000      0.000000   \n",
       "25%     2007.000000     33.000000      1.400000      3.300000     39.100000   \n",
       "50%     2012.000000     34.000000      2.600000      5.800000     43.900000   \n",
       "75%     2016.000000     34.000000      4.300000      9.500000     49.000000   \n",
       "max     2020.000000     34.000000     12.800000     28.400000    100.000000   \n",
       "\n",
       "                3PM           3PA           3P%           FTM           FTA  \\\n",
       "count  19087.000000  19087.000000  19087.000000  19087.000000  19087.000000   \n",
       "mean       0.613177      1.758810     24.043108      1.458836      1.944177   \n",
       "std        0.714655      1.852604     19.350286      1.415338      1.772449   \n",
       "min        0.000000      0.000000      0.000000      0.000000      0.000000   \n",
       "25%        0.000000      0.100000      0.000000      0.500000      0.700000   \n",
       "50%        0.400000      1.200000     29.500000      1.000000      1.400000   \n",
       "75%        1.000000      2.900000     37.500000      2.000000      2.600000   \n",
       "max        5.300000     13.300000    100.000000     12.600000     14.200000   \n",
       "\n",
       "                FT%           2PM           2PA           2P%        SC-EFF  \\\n",
       "count  19087.000000  19087.000000  19087.000000  19087.000000  19087.000000   \n",
       "mean      68.015188      2.441285      5.082438     46.333206      1.159904   \n",
       "std       24.302742      1.902409      3.747583     13.339125      0.309002   \n",
       "min        0.000000      0.000000      0.000000      0.000000      0.000000   \n",
       "25%       61.500000      1.000000      2.300000     41.900000      1.039000   \n",
       "50%       75.000000      1.900000      4.100000     47.400000      1.171000   \n",
       "75%       82.700000      3.400000      7.100000     52.200000      1.300000   \n",
       "max      100.000000     11.300000     23.700000    100.000000      7.000000   \n",
       "\n",
       "             SH-EFF  \n",
       "count  19087.000000  \n",
       "mean       0.476056  \n",
       "std        0.124503  \n",
       "min        0.000000  \n",
       "25%        0.440000  \n",
       "50%        0.490000  \n",
       "75%        0.530000  \n",
       "max        1.500000  "
      ]
     },
     "execution_count": 8,
     "metadata": {},
     "output_type": "execute_result"
    }
   ],
   "source": [
    "shots_df = shots_df[shots_df['FGA'] != 0]\n",
    "shots_df.describe()"
   ]
  },
  {
   "cell_type": "markdown",
   "metadata": {},
   "source": [
    "Now we check if both the datasets are balanced."
   ]
  },
  {
   "cell_type": "code",
   "execution_count": 9,
   "metadata": {},
   "outputs": [
    {
     "name": "stdout",
     "output_type": "stream",
     "text": [
      "33    9441\n",
      "34    9406\n",
      "Name: TYPE, dtype: int64\n",
      "34    9545\n",
      "33    9542\n",
      "Name: TYPE, dtype: int64\n"
     ]
    }
   ],
   "source": [
    "# type = 33 refers to home games, 34 refers to away games\n",
    "print(master_df['TYPE'].value_counts())\n",
    "print(shots_df['TYPE'].value_counts())"
   ]
  },
  {
   "cell_type": "markdown",
   "metadata": {},
   "source": [
    "Both datasets are pretty balanced as they have almost equal number of observations for home and away games."
   ]
  },
  {
   "cell_type": "markdown",
   "metadata": {},
   "source": [
    "Finally, we spilt both the datasets into home and away datasets. \n",
    "So, master_df becomes (master_home), (master_away)\n",
    "And, shots_df becomes (shots_home), (shots_away)"
   ]
  },
  {
   "cell_type": "code",
   "execution_count": 10,
   "metadata": {},
   "outputs": [],
   "source": [
    "master_home = master_df[master_df['TYPE'] == 33]\n",
    "master_away = master_df[master_df['TYPE'] == 34]\n",
    "\n",
    "shots_home = shots_df[shots_df['TYPE'] == 33]\n",
    "shots_away = shots_df[shots_df['TYPE'] == 34]"
   ]
  },
  {
   "cell_type": "markdown",
   "metadata": {},
   "source": [
    "Check if the referee dataset needs preprocessing "
   ]
  },
  {
   "cell_type": "code",
   "execution_count": 11,
   "metadata": {
    "scrolled": true
   },
   "outputs": [
    {
     "data": {
      "text/html": [
       "<div>\n",
       "<style scoped>\n",
       "    .dataframe tbody tr th:only-of-type {\n",
       "        vertical-align: middle;\n",
       "    }\n",
       "\n",
       "    .dataframe tbody tr th {\n",
       "        vertical-align: top;\n",
       "    }\n",
       "\n",
       "    .dataframe thead th {\n",
       "        text-align: right;\n",
       "    }\n",
       "</style>\n",
       "<table border=\"1\" class=\"dataframe\">\n",
       "  <thead>\n",
       "    <tr style=\"text-align: right;\">\n",
       "      <th></th>\n",
       "      <th>YEAR</th>\n",
       "      <th>GAMES OFFICIATED</th>\n",
       "      <th>HTW%</th>\n",
       "      <th>HTPD</th>\n",
       "      <th>TPPG</th>\n",
       "      <th>CFPG</th>\n",
       "      <th>FAR%</th>\n",
       "      <th>FAH%</th>\n",
       "    </tr>\n",
       "  </thead>\n",
       "  <tbody>\n",
       "    <tr>\n",
       "      <th>count</th>\n",
       "      <td>1272.000000</td>\n",
       "      <td>1272.000000</td>\n",
       "      <td>1272.000000</td>\n",
       "      <td>1272.000000</td>\n",
       "      <td>1272.000000</td>\n",
       "      <td>1272.000000</td>\n",
       "      <td>1272.000000</td>\n",
       "      <td>1272.000000</td>\n",
       "    </tr>\n",
       "    <tr>\n",
       "      <th>mean</th>\n",
       "      <td>2015.483491</td>\n",
       "      <td>35.298742</td>\n",
       "      <td>0.588562</td>\n",
       "      <td>2.909266</td>\n",
       "      <td>207.926937</td>\n",
       "      <td>40.825454</td>\n",
       "      <td>50.737887</td>\n",
       "      <td>49.260451</td>\n",
       "    </tr>\n",
       "    <tr>\n",
       "      <th>std</th>\n",
       "      <td>3.575603</td>\n",
       "      <td>22.739528</td>\n",
       "      <td>0.178662</td>\n",
       "      <td>4.811666</td>\n",
       "      <td>13.169819</td>\n",
       "      <td>2.665919</td>\n",
       "      <td>2.300288</td>\n",
       "      <td>2.299913</td>\n",
       "    </tr>\n",
       "    <tr>\n",
       "      <th>min</th>\n",
       "      <td>2009.000000</td>\n",
       "      <td>1.000000</td>\n",
       "      <td>0.000000</td>\n",
       "      <td>-24.000000</td>\n",
       "      <td>161.000000</td>\n",
       "      <td>23.000000</td>\n",
       "      <td>36.400000</td>\n",
       "      <td>35.000000</td>\n",
       "    </tr>\n",
       "    <tr>\n",
       "      <th>25%</th>\n",
       "      <td>2013.000000</td>\n",
       "      <td>12.000000</td>\n",
       "      <td>0.520000</td>\n",
       "      <td>1.100000</td>\n",
       "      <td>198.975000</td>\n",
       "      <td>39.500000</td>\n",
       "      <td>50.000000</td>\n",
       "      <td>48.400000</td>\n",
       "    </tr>\n",
       "    <tr>\n",
       "      <th>50%</th>\n",
       "      <td>2016.000000</td>\n",
       "      <td>39.000000</td>\n",
       "      <td>0.587000</td>\n",
       "      <td>2.800000</td>\n",
       "      <td>205.400000</td>\n",
       "      <td>40.800000</td>\n",
       "      <td>50.800000</td>\n",
       "      <td>49.200000</td>\n",
       "    </tr>\n",
       "    <tr>\n",
       "      <th>75%</th>\n",
       "      <td>2019.000000</td>\n",
       "      <td>56.000000</td>\n",
       "      <td>0.652000</td>\n",
       "      <td>4.500000</td>\n",
       "      <td>218.812500</td>\n",
       "      <td>42.200000</td>\n",
       "      <td>51.600000</td>\n",
       "      <td>50.000000</td>\n",
       "    </tr>\n",
       "    <tr>\n",
       "      <th>max</th>\n",
       "      <td>2020.000000</td>\n",
       "      <td>73.000000</td>\n",
       "      <td>1.000000</td>\n",
       "      <td>32.000000</td>\n",
       "      <td>282.000000</td>\n",
       "      <td>54.000000</td>\n",
       "      <td>65.000000</td>\n",
       "      <td>63.600000</td>\n",
       "    </tr>\n",
       "  </tbody>\n",
       "</table>\n",
       "</div>"
      ],
      "text/plain": [
       "              YEAR  GAMES OFFICIATED         HTW%         HTPD         TPPG  \\\n",
       "count  1272.000000       1272.000000  1272.000000  1272.000000  1272.000000   \n",
       "mean   2015.483491         35.298742     0.588562     2.909266   207.926937   \n",
       "std       3.575603         22.739528     0.178662     4.811666    13.169819   \n",
       "min    2009.000000          1.000000     0.000000   -24.000000   161.000000   \n",
       "25%    2013.000000         12.000000     0.520000     1.100000   198.975000   \n",
       "50%    2016.000000         39.000000     0.587000     2.800000   205.400000   \n",
       "75%    2019.000000         56.000000     0.652000     4.500000   218.812500   \n",
       "max    2020.000000         73.000000     1.000000    32.000000   282.000000   \n",
       "\n",
       "              CFPG         FAR%         FAH%  \n",
       "count  1272.000000  1272.000000  1272.000000  \n",
       "mean     40.825454    50.737887    49.260451  \n",
       "std       2.665919     2.300288     2.299913  \n",
       "min      23.000000    36.400000    35.000000  \n",
       "25%      39.500000    50.000000    48.400000  \n",
       "50%      40.800000    50.800000    49.200000  \n",
       "75%      42.200000    51.600000    50.000000  \n",
       "max      54.000000    65.000000    63.600000  "
      ]
     },
     "execution_count": 11,
     "metadata": {},
     "output_type": "execute_result"
    }
   ],
   "source": [
    "ref_df.describe()"
   ]
  },
  {
   "cell_type": "markdown",
   "metadata": {},
   "source": [
    "#### Using t-SNE to visualize the data"
   ]
  },
  {
   "cell_type": "code",
   "execution_count": 25,
   "metadata": {},
   "outputs": [],
   "source": [
    "master_features = master_df.drop(columns=['PNAME', 'POS', 'TEAM', 'TYPE'])"
   ]
  },
  {
   "cell_type": "code",
   "execution_count": 26,
   "metadata": {},
   "outputs": [],
   "source": [
    "embedded_master_features = TSNE(n_components=2).fit_transform(master_features)\n",
    "master_tsne = pd.DataFrame(embedded_master_features, columns=['comp1', 'comp2'])"
   ]
  },
  {
   "cell_type": "code",
   "execution_count": 27,
   "metadata": {},
   "outputs": [],
   "source": [
    "master_tsne['TYPE'] = master_df['TYPE']"
   ]
  },
  {
   "cell_type": "code",
   "execution_count": 29,
   "metadata": {},
   "outputs": [
    {
     "data": {
      "text/plain": [
       "<AxesSubplot:xlabel='comp1', ylabel='comp2'>"
      ]
     },
     "execution_count": 29,
     "metadata": {},
     "output_type": "execute_result"
    },
    {
     "data": {
      "image/png": "[encoded data removed]",
      "text/plain": [
       "<Figure size 432x288 with 1 Axes>"
      ]
     },
     "metadata": {
      "needs_background": "light"
     },
     "output_type": "display_data"
    }
   ],
   "source": [
    "sns.scatterplot(\n",
    "    x=\"comp1\", y=\"comp2\",\n",
    "    hue=\"TYPE\",\n",
    "    data=master_tsne,\n",
    "    legend=\"full\",\n",
    "    alpha=0.3,\n",
    ")"
   ]
  },
  {
   "cell_type": "markdown",
   "metadata": {},
   "source": [
    "TYPE = 33 refers to home games, 34 refers to away games\n",
    "\n",
    "The data looks indistinguishable when plotted against the first 2 components. We will analyse each statistic now to check for significant difference.\n",
    "\n",
    "\n",
    "Referee dataset doesn't need any preprocessing, so we can procees with data analysis"
   ]
  },
  {
   "cell_type": "markdown",
   "metadata": {},
   "source": [
    "# Visualize the data for analysis and check significance"
   ]
  },
  {
   "cell_type": "code",
   "execution_count": 14,
   "metadata": {},
   "outputs": [],
   "source": [
    "def perform_z_test(home_df, away_df):\n",
    "    ztest ,pval = stests.ztest(home_df, x2=away_df, value=0,alternative='two-sided')\n",
    "    print('Z statistic : ', float(ztest))\n",
    "    print('p value : ', float(pval))\n",
    "    if pval<0.05:\n",
    "        print(\"Reject null hypothesis, i.e., there is significant difference between the 2 samples.\")\n",
    "    else:\n",
    "        print(\"Accept null hypothesis, i.e., there is no significant difference between the 2 samples.\")"
   ]
  },
  {
   "cell_type": "code",
   "execution_count": 15,
   "metadata": {},
   "outputs": [],
   "source": [
    "# funnction to plot home and away stats by year\n",
    "def plt_home_away_features_by_year(home_df, away_df, feature):\n",
    "    home_df = home_df.groupby('YEAR')\n",
    "    away_df = away_df.groupby('YEAR')\n",
    "    home_store = []\n",
    "    away_store = []\n",
    "    \n",
    "    for year, group in home_df:\n",
    "        home_store.append(group[feature].mean())\n",
    "    for year, group in away_df:\n",
    "        away_store.append(group[feature].mean())\n",
    "    X = np.arange(2002, 2021)\n",
    "    fig = plt.figure()\n",
    "    ax = fig.add_axes([0,0,1,0.8])\n",
    "    ax.bar(X + 0.00, home_store, color = 'b', width = 0.25)\n",
    "    ax.bar(X + 0.25, away_store, color = 'r', width = 0.25) \n",
    "    plt.xlabel('YEAR')\n",
    "    plt.ylabel(feature)\n",
    "    plt.legend(['Home', 'Away'],loc=2)"
   ]
  },
  {
   "cell_type": "markdown",
   "metadata": {},
   "source": [
    "# GAMEPLAY STATS ANALYSIS"
   ]
  },
  {
   "cell_type": "markdown",
   "metadata": {},
   "source": [
    "### AST/TO ANALYSIS"
   ]
  },
  {
   "cell_type": "markdown",
   "metadata": {},
   "source": [
    "AST : An “assist” goes to the player who passes the ball to a teammate who then scores a basket.\n",
    "\n",
    "TO  : A “turnover” is when a player loses possession of the ball to the opposite team. \n",
    "       Examples of turnovers include: stepping out of bounds, passing the ball out of bounds, creating an offensive foul,\\\n",
    "       being called for a violation, or having the ball stolen.\n",
    "       \n",
    "AST/TO : Assist to turnover ratio puts a player’s assists in context with their turnovers. It is often considered as \n",
    "measure of ball control/game dominance."
   ]
  },
  {
   "cell_type": "code",
   "execution_count": 16,
   "metadata": {},
   "outputs": [
    {
     "data": {
      "image/png": "[encoded data removed]",
      "text/plain": [
       "<Figure size 432x288 with 1 Axes>"
      ]
     },
     "metadata": {
      "needs_background": "light"
     },
     "output_type": "display_data"
    }
   ],
   "source": [
    "# plot the average AST/TO of players for home and away games\n",
    "plt_home_away_features_by_year(master_home, master_away, 'AST/TO')"
   ]
  },
  {
   "cell_type": "code",
   "execution_count": 17,
   "metadata": {},
   "outputs": [
    {
     "name": "stdout",
     "output_type": "stream",
     "text": [
      "Z statistic :  6.225903072031957\n",
      "p value :  4.787900181286169e-10\n",
      "Reject null hypothesis, i.e., there is significant difference between the 2 samples.\n"
     ]
    }
   ],
   "source": [
    "perform_z_test(master_home['AST/TO'], master_away['AST/TO'])"
   ]
  },
  {
   "cell_type": "markdown",
   "metadata": {},
   "source": [
    "Observation:\n",
    "\n",
    "Every year with the exception of 2018 has higher average AST/TO per player in home games than away games.\n",
    "\n",
    "Possible Reasons : \n",
    "1. Home team players have significantly better assist stats.\n",
    "2. Away team give the ball away more and have greater turnovers.\n"
   ]
  },
  {
   "cell_type": "markdown",
   "metadata": {},
   "source": [
    "### AVERAGE STEALS BY A PLAYER ANALYSIS"
   ]
  },
  {
   "cell_type": "code",
   "execution_count": 18,
   "metadata": {},
   "outputs": [
    {
     "data": {
      "image/png": "[encoded data removed]",
      "text/plain": [
       "<Figure size 432x288 with 1 Axes>"
      ]
     },
     "metadata": {
      "needs_background": "light"
     },
     "output_type": "display_data"
    }
   ],
   "source": [
    "# plot the average steals by a player for home and away games\n",
    "plt_home_away_features_by_year(master_home, master_away, 'STL')"
   ]
  },
  {
   "cell_type": "code",
   "execution_count": 19,
   "metadata": {},
   "outputs": [
    {
     "name": "stdout",
     "output_type": "stream",
     "text": [
      "Z statistic :  -0.5994633152580221\n",
      "p value :  0.5488639661965138\n",
      "Accept null hypothesis, i.e., there is no significant difference between the 2 samples.\n"
     ]
    }
   ],
   "source": [
    "perform_z_test(master_home['STL'], master_away['STL'])"
   ]
  },
  {
   "cell_type": "markdown",
   "metadata": {},
   "source": [
    "### AVERAGE FOULS BY A PLAYER ANALYSIS"
   ]
  },
  {
   "cell_type": "code",
   "execution_count": 20,
   "metadata": {
    "scrolled": true
   },
   "outputs": [
    {
     "data": {
      "image/png": "[encoded data removed]",
      "text/plain": [
       "<Figure size 432x288 with 1 Axes>"
      ]
     },
     "metadata": {
      "needs_background": "light"
     },
     "output_type": "display_data"
    }
   ],
   "source": [
    "# plot the average fouls conceded by a player for home and away games\n",
    "plt_home_away_features_by_year(master_home, master_away, 'PF')"
   ]
  },
  {
   "cell_type": "code",
   "execution_count": 21,
   "metadata": {
    "scrolled": true
   },
   "outputs": [
    {
     "name": "stdout",
     "output_type": "stream",
     "text": [
      "Z statistic :  -5.643616891124309\n",
      "p value :  1.6651438162018542e-08\n",
      "Reject null hypothesis, i.e., there is significant difference between the 2 samples.\n"
     ]
    }
   ],
   "source": [
    "perform_z_test(master_home['PF'], master_away['PF'])"
   ]
  },
  {
   "cell_type": "markdown",
   "metadata": {},
   "source": [
    "Observation : \n",
    "    \n",
    "Every single season, on average the away team player concedes more fouls per game than home team players. This could have 2 possible inferences:\n",
    "1. The away players are nervous/get frustrated leading to more fouls committed.\n",
    "2. The referees decision is biased and the home team generally gets the favour of a decision. (We will look into this later)."
   ]
  },
  {
   "cell_type": "markdown",
   "metadata": {},
   "source": [
    "### TUNROVERS BY A PLAYER ANALYSIS"
   ]
  },
  {
   "cell_type": "code",
   "execution_count": 22,
   "metadata": {},
   "outputs": [
    {
     "data": {
      "image/png": "[encoded data removed]",
      "text/plain": [
       "<Figure size 432x288 with 1 Axes>"
      ]
     },
     "metadata": {
      "needs_background": "light"
     },
     "output_type": "display_data"
    }
   ],
   "source": [
    "# As mentioned earlier, TO (Turnover) refers to the number of times the player gave away possession of the ball.\n",
    "# plot the average turnover per player in home/away games.\n",
    "plt_home_away_features_by_year(master_home, master_away, 'TO')"
   ]
  },
  {
   "cell_type": "markdown",
   "metadata": {},
   "source": [
    "Observation :\n",
    "\n",
    "In every year apart from 2014(same), the away team players gave away the ball more on average than home team players. "
   ]
  },
  {
   "cell_type": "code",
   "execution_count": 23,
   "metadata": {
    "scrolled": false
   },
   "outputs": [
    {
     "name": "stdout",
     "output_type": "stream",
     "text": [
      "Z statistic :  -2.9971631422636307\n",
      "p value :  0.0027250483797951978\n",
      "Reject null hypothesis, i.e., there is significant difference between the 2 samples.\n"
     ]
    }
   ],
   "source": [
    "perform_z_test(master_home['TO'], master_away['TO'])"
   ]
  },
  {
   "cell_type": "markdown",
   "metadata": {},
   "source": [
    "Possible Reasons:\n",
    "\n",
    "1. The home team players are significantly better at stealing the ball. (Disproven previously)\n",
    "2. The away team players committed more fouls / mistakes and gave away the ball. (Proven to be significant previously)"
   ]
  },
  {
   "cell_type": "markdown",
   "metadata": {},
   "source": [
    "### OFFENSIVE REBOUNDS ANALYSIS"
   ]
  },
  {
   "cell_type": "code",
   "execution_count": 24,
   "metadata": {},
   "outputs": [
    {
     "data": {
      "image/png": "[encoded data removed]",
      "text/plain": [
       "<Figure size 432x288 with 1 Axes>"
      ]
     },
     "metadata": {
      "needs_background": "light"
     },
     "output_type": "display_data"
    }
   ],
   "source": [
    "# Offensive rebounds awarded to a player analysis\n",
    "plt_home_away_features_by_year(master_home, master_away, 'OR')"
   ]
  },
  {
   "cell_type": "code",
   "execution_count": 25,
   "metadata": {},
   "outputs": [
    {
     "name": "stdout",
     "output_type": "stream",
     "text": [
      "Z statistic :  1.643050211119988\n",
      "p value :  0.10037254496864959\n",
      "Accept null hypothesis, i.e., there is no significant difference between the 2 samples.\n"
     ]
    }
   ],
   "source": [
    "perform_z_test(master_home['OR'], master_away['OR'])"
   ]
  },
  {
   "cell_type": "markdown",
   "metadata": {},
   "source": [
    "### DEFENSIVE REBOUNDS ANALYSIS"
   ]
  },
  {
   "cell_type": "code",
   "execution_count": 26,
   "metadata": {},
   "outputs": [
    {
     "data": {
      "image/png": "[encoded data removed]",
      "text/plain": [
       "<Figure size 432x288 with 1 Axes>"
      ]
     },
     "metadata": {
      "needs_background": "light"
     },
     "output_type": "display_data"
    }
   ],
   "source": [
    "# Defensive rebounds awarded to a player analysis\n",
    "plt_home_away_features_by_year(master_home, master_away, 'DR')"
   ]
  },
  {
   "cell_type": "code",
   "execution_count": 27,
   "metadata": {},
   "outputs": [
    {
     "name": "stdout",
     "output_type": "stream",
     "text": [
      "Z statistic :  2.4337663677626167\n",
      "p value :  0.01494263645855765\n",
      "Reject null hypothesis, i.e., there is significant difference between the 2 samples.\n"
     ]
    }
   ],
   "source": [
    "perform_z_test(master_home['DR'], master_away['DR'])"
   ]
  },
  {
   "cell_type": "markdown",
   "metadata": {},
   "source": [
    "Observations : \n",
    "    \n",
    "Home teams have significantly more defensive rebounds than away teams. \n",
    "\n",
    "Possible Reason:\n",
    "Away teams are worse in shooting efficiency than home teams.(We will analyze this next)."
   ]
  },
  {
   "cell_type": "markdown",
   "metadata": {},
   "source": [
    "# SHOOTING STATS ANALYSIS"
   ]
  },
  {
   "cell_type": "markdown",
   "metadata": {},
   "source": [
    "### GENERAL SHOOTING EFFICIENCY ANALYSIS"
   ]
  },
  {
   "cell_type": "code",
   "execution_count": 28,
   "metadata": {},
   "outputs": [
    {
     "data": {
      "image/png": "[encoded data removed]",
      "text/plain": [
       "<Figure size 432x288 with 1 Axes>"
      ]
     },
     "metadata": {
      "needs_background": "light"
     },
     "output_type": "display_data"
    }
   ],
   "source": [
    "# plot the average shooting efficiency for players for home and away games\n",
    "plt_home_away_features_by_year(shots_home, shots_away, 'SH-EFF')"
   ]
  },
  {
   "cell_type": "markdown",
   "metadata": {},
   "source": [
    "Observation : \n",
    "\n",
    "In every year apart from 2002(away more), 2010(away more) and 2005(equal) the home team players had higher shooting efficiency than away team players on average. This could mean that away players were nervous/intimidated."
   ]
  },
  {
   "cell_type": "code",
   "execution_count": 29,
   "metadata": {},
   "outputs": [
    {
     "name": "stdout",
     "output_type": "stream",
     "text": [
      "Z statistic :  4.418698338729855\n",
      "p value :  9.929712941203198e-06\n",
      "Reject null hypothesis, i.e., there is significant difference between the 2 samples.\n"
     ]
    }
   ],
   "source": [
    "perform_z_test(shots_home['SH-EFF'], shots_away['SH-EFF'])"
   ]
  },
  {
   "cell_type": "markdown",
   "metadata": {},
   "source": [
    "So there is a significant difference between the shooting efficiencies of home and away teams.\n",
    "Now this can be due to 3 factors :\n",
    "    \n",
    "    1. Shooting efficiency of 2 Pointers\n",
    "    \n",
    "    2. Shooting efficiency of 3 Pointers\n",
    "    \n",
    "    3. Shooting efficiency of free throws\n",
    "    \n",
    "So we will now have a look at each."
   ]
  },
  {
   "cell_type": "markdown",
   "metadata": {},
   "source": [
    "### 2 POINTERS ANALYSIS"
   ]
  },
  {
   "cell_type": "code",
   "execution_count": 30,
   "metadata": {},
   "outputs": [
    {
     "data": {
      "image/png": "[encoded data removed]",
      "text/plain": [
       "<Figure size 432x288 with 1 Axes>"
      ]
     },
     "metadata": {
      "needs_background": "light"
     },
     "output_type": "display_data"
    }
   ],
   "source": [
    "# plt the average number of 2 pointers attempted per game\n",
    "plt_home_away_features_by_year(shots_home, shots_away, '2PA')"
   ]
  },
  {
   "cell_type": "code",
   "execution_count": 31,
   "metadata": {
    "scrolled": true
   },
   "outputs": [
    {
     "name": "stdout",
     "output_type": "stream",
     "text": [
      "Z statistic :  -0.8526307483651704\n",
      "p value :  0.39386410544680517\n",
      "Accept null hypothesis, i.e., there is no significant difference between the 2 samples.\n"
     ]
    }
   ],
   "source": [
    "perform_z_test(shots_home['2PA'], shots_away['2PA'])"
   ]
  },
  {
   "cell_type": "code",
   "execution_count": 32,
   "metadata": {},
   "outputs": [
    {
     "data": {
      "image/png": "[encoded data removed]",
      "text/plain": [
       "<Figure size 432x288 with 1 Axes>"
      ]
     },
     "metadata": {
      "needs_background": "light"
     },
     "output_type": "display_data"
    }
   ],
   "source": [
    "# plt the average number of 2 pointers successfully made per game\n",
    "plt_home_away_features_by_year(shots_home, shots_away, '2PM')"
   ]
  },
  {
   "cell_type": "code",
   "execution_count": 33,
   "metadata": {},
   "outputs": [
    {
     "name": "stdout",
     "output_type": "stream",
     "text": [
      "Z statistic :  1.3953308957893766\n",
      "p value :  0.16291607941058028\n",
      "Accept null hypothesis, i.e., there is no significant difference between the 2 samples.\n"
     ]
    }
   ],
   "source": [
    "perform_z_test(shots_home['2PM'], shots_away['2PM'])"
   ]
  },
  {
   "cell_type": "markdown",
   "metadata": {},
   "source": [
    "### 3 POINTERS ANALYSIS"
   ]
  },
  {
   "cell_type": "code",
   "execution_count": 34,
   "metadata": {},
   "outputs": [
    {
     "data": {
      "image/png": "[encoded data removed]",
      "text/plain": [
       "<Figure size 432x288 with 1 Axes>"
      ]
     },
     "metadata": {
      "needs_background": "light"
     },
     "output_type": "display_data"
    }
   ],
   "source": [
    "# plt the average number of 3 pointers attempted per game\n",
    "plt_home_away_features_by_year(shots_home, shots_away, '3PA')"
   ]
  },
  {
   "cell_type": "code",
   "execution_count": 35,
   "metadata": {},
   "outputs": [
    {
     "name": "stdout",
     "output_type": "stream",
     "text": [
      "Z statistic :  -0.8209555218335292\n",
      "p value :  0.4116716036714274\n",
      "Accept null hypothesis, i.e., there is no significant difference between the 2 samples.\n"
     ]
    }
   ],
   "source": [
    "perform_z_test(shots_home['3PA'], shots_away['3PA'])"
   ]
  },
  {
   "cell_type": "code",
   "execution_count": 36,
   "metadata": {},
   "outputs": [
    {
     "data": {
      "image/png": "[encoded data removed]",
      "text/plain": [
       "<Figure size 432x288 with 1 Axes>"
      ]
     },
     "metadata": {
      "needs_background": "light"
     },
     "output_type": "display_data"
    }
   ],
   "source": [
    "# plt the average number of 3 pointers successfully made per game\n",
    "plt_home_away_features_by_year(shots_home, shots_away, '3PM')"
   ]
  },
  {
   "cell_type": "code",
   "execution_count": 37,
   "metadata": {},
   "outputs": [
    {
     "name": "stdout",
     "output_type": "stream",
     "text": [
      "Z statistic :  0.2485364417261448\n",
      "p value :  0.8037193779594516\n",
      "Accept null hypothesis, i.e., there is no significant difference between the 2 samples.\n"
     ]
    }
   ],
   "source": [
    "perform_z_test(shots_home['3PM'], shots_away['3PM'])"
   ]
  },
  {
   "cell_type": "markdown",
   "metadata": {},
   "source": [
    "### FREE THROWS ANALYSIS"
   ]
  },
  {
   "cell_type": "markdown",
   "metadata": {},
   "source": [
    "Free throws are given to a team when the opponent commits a foul. We have previously seen that Away team players commit significantly more number of fouls.\n",
    "So, they get more number of free throws.\n"
   ]
  },
  {
   "cell_type": "code",
   "execution_count": 38,
   "metadata": {},
   "outputs": [
    {
     "data": {
      "image/png": "[encoded data removed]",
      "text/plain": [
       "<Figure size 432x288 with 1 Axes>"
      ]
     },
     "metadata": {
      "needs_background": "light"
     },
     "output_type": "display_data"
    }
   ],
   "source": [
    "# plt the average number of free throws attempted per game\n",
    "plt_home_away_features_by_year(shots_home, shots_away, 'FTA')"
   ]
  },
  {
   "cell_type": "markdown",
   "metadata": {},
   "source": [
    "Observation: \n",
    "\n",
    "In every year with the exception of 2019, home teams have attempted more free throws on average than away teams. "
   ]
  },
  {
   "cell_type": "code",
   "execution_count": 39,
   "metadata": {},
   "outputs": [
    {
     "name": "stdout",
     "output_type": "stream",
     "text": [
      "Z statistic :  2.142252588228268\n",
      "p value :  0.0321731618059978\n",
      "Reject null hypothesis, i.e., there is significant difference between the 2 samples.\n"
     ]
    }
   ],
   "source": [
    "perform_z_test(shots_home['FTA'], shots_away['FTA'])"
   ]
  },
  {
   "cell_type": "code",
   "execution_count": 40,
   "metadata": {},
   "outputs": [
    {
     "data": {
      "image/png": "[encoded data removed]",
      "text/plain": [
       "<Figure size 432x288 with 1 Axes>"
      ]
     },
     "metadata": {
      "needs_background": "light"
     },
     "output_type": "display_data"
    }
   ],
   "source": [
    "# plt the average number of free throws successfully made per game\n",
    "plt_home_away_features_by_year(shots_home, shots_away, 'FTM')"
   ]
  },
  {
   "cell_type": "code",
   "execution_count": 41,
   "metadata": {},
   "outputs": [
    {
     "name": "stdout",
     "output_type": "stream",
     "text": [
      "Z statistic :  1.990450129038556\n",
      "p value :  0.046541372476880116\n",
      "Reject null hypothesis, i.e., there is significant difference between the 2 samples.\n"
     ]
    }
   ],
   "source": [
    "perform_z_test(shots_home['FTM'], shots_away['FTM'])"
   ]
  },
  {
   "cell_type": "markdown",
   "metadata": {},
   "source": [
    "### CONCLUSION FROM SHOOTING STATS"
   ]
  },
  {
   "cell_type": "markdown",
   "metadata": {},
   "source": [
    "Observation:\n",
    "    \n",
    "The difference in shooting efficiency of Free throws is the major reason behind differences in shooting efficiency.\n",
    "Home Teams were awarded significantly more Free Throws than away teams.\n",
    "Home Teams had higher successful free throws made per game than away teams.\n",
    "\n",
    "Possible Reason:\n",
    "    \n",
    "We have seen earlier that away teams give away significantly more number of fouls on average than home teams.\n",
    "Again this could be because referees are biased towards home teams OR away players are frustrated/nervous and commit more \n",
    "mistakes. "
   ]
  },
  {
   "cell_type": "markdown",
   "metadata": {},
   "source": [
    "# REFEREE STATS ANALYSIS"
   ]
  },
  {
   "cell_type": "code",
   "execution_count": 42,
   "metadata": {},
   "outputs": [],
   "source": [
    "# Plot the average number of fouls given against home and away teams "
   ]
  },
  {
   "cell_type": "code",
   "execution_count": 43,
   "metadata": {},
   "outputs": [],
   "source": [
    "def plot_referee_stat_by_year(ref_dset, feature1, feature2):\n",
    "    ref_dset = ref_dset.groupby('YEAR')\n",
    "    stat1 = []\n",
    "    stat2 = []\n",
    "    for year, group in ref_dset:\n",
    "        stat1.append(group[feature1].mean())\n",
    "        stat2.append(group[feature2].mean())\n",
    "    X = np.arange(2009, 2021)\n",
    "    fig = plt.figure()\n",
    "    ax = fig.add_axes([0,0,1,0.8])\n",
    "    ax.bar(X + 0.00, stat1, color = 'b', width = 0.25)\n",
    "    ax.bar(X + 0.25, stat2, color = 'r', width = 0.25) \n",
    "    plt.xlabel('YEAR')\n",
    "    plt.ylabel('Fouls Against')\n",
    "    plt.legend(['Home', 'Away'],loc=2)"
   ]
  },
  {
   "cell_type": "code",
   "execution_count": 44,
   "metadata": {},
   "outputs": [
    {
     "data": {
      "image/png": "[encoded data removed]",
      "text/plain": [
       "<Figure size 432x288 with 1 Axes>"
      ]
     },
     "metadata": {
      "needs_background": "light"
     },
     "output_type": "display_data"
    }
   ],
   "source": [
    "plot_referee_stat_by_year(ref_df, 'FAH%', 'FAR%')"
   ]
  },
  {
   "cell_type": "code",
   "execution_count": 45,
   "metadata": {},
   "outputs": [
    {
     "name": "stdout",
     "output_type": "stream",
     "text": [
      "Z statistic :  -16.199077354022496\n",
      "p value :  5.1189334084260145e-59\n",
      "Reject null hypothesis, i.e., there is significant difference between the 2 samples.\n"
     ]
    }
   ],
   "source": [
    "perform_z_test(ref_df['FAH%'], ref_df['FAR%'])"
   ]
  },
  {
   "cell_type": "markdown",
   "metadata": {},
   "source": [
    "#### Conclusion:\n",
    "    \n",
    "We can see that there is significant difference between fouls awarded to home and away players. \n",
    "On average, a referee is more likely to give away fouls to the home team than the away team. "
   ]
  },
  {
   "cell_type": "code",
   "execution_count": null,
   "metadata": {},
   "outputs": [],
   "source": []
  }
 ],
 "metadata": {
  "kernelspec": {
   "display_name": "Python 3",
   "language": "python",
   "name": "python3"
  },
  "language_info": {
   "codemirror_mode": {
    "name": "ipython",
    "version": 3
   },
   "file_extension": ".py",
   "mimetype": "text/x-python",
   "name": "python",
   "nbconvert_exporter": "python",
   "pygments_lexer": "ipython3",
   "version": "3.7.7"
  }
 },
 "nbformat": 4,
 "nbformat_minor": 4
}
