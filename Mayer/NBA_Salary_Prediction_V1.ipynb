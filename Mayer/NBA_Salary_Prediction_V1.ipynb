{
 "cells": [
  {
   "cell_type": "markdown",
   "metadata": {},
   "source": [
    "## Import Library\n",
    "\n",
    "---"
   ]
  },
  {
   "cell_type": "code",
   "execution_count": 1,
   "metadata": {},
   "outputs": [],
   "source": [
    "import pandas as pd\n",
    "import numpy as np\n",
    "import seaborn as sns\n",
    "from matplotlib import pyplot as plt\n",
    "import difflib\n",
    "\n",
    "from sklearn.preprocessing import LabelEncoder\n",
    "from sklearn.model_selection import KFold, train_test_split\n",
    "from sklearn.linear_model import LinearRegression\n",
    "import statsmodels.api as sm\n",
    "from sklearn.ensemble import RandomForestRegressor, RandomForestClassifier\n",
    "\n",
    "from sklearn.metrics import mean_squared_error, mean_absolute_error, accuracy_score, roc_auc_score"
   ]
  },
  {
   "cell_type": "markdown",
   "metadata": {},
   "source": [
    "## Get Data\n",
    "\n",
    "---"
   ]
  },
  {
   "cell_type": "code",
   "execution_count": 2,
   "metadata": {},
   "outputs": [],
   "source": [
    "# get csv files of player stats and salary\n",
    "salary_df = pd.read_csv('nba_salary_ESPN_cleaned.csv')\n",
    "player_df = pd.read_csv('nba_player_stats_official.csv')"
   ]
  },
  {
   "cell_type": "code",
   "execution_count": 3,
   "metadata": {},
   "outputs": [],
   "source": [
    "# convert year by taking first 4 char of year feature\n",
    "# i.e. 2019-20 will be 2019 now\n",
    "player_df['year'] = player_df['year'].apply(lambda x: x[:4]).astype(int)\n",
    "\n",
    "# convert year by subtracting year by 2\n",
    "# i.e. 2020 will be 2018 now\n",
    "salary_df['year'] = salary_df['year'].apply(lambda x: x - 2).astype(int)"
   ]
  },
  {
   "cell_type": "code",
   "execution_count": 4,
   "metadata": {},
   "outputs": [],
   "source": [
    "# get close match for each name in salary dataframe with player dataframe\n",
    "player_name = player_df['PLAYER_NAME'].unique()\n",
    "salary_df['name_close_match'] = salary_df['NAME'].apply(\n",
    "    lambda x: (difflib.get_close_matches(x, player_name)[:1] or [None])[0])"
   ]
  },
  {
   "cell_type": "code",
   "execution_count": 5,
   "metadata": {},
   "outputs": [],
   "source": [
    "# inner join salary and player stats by player name and year\n",
    "df = player_df.merge(salary_df, how = 'inner', \n",
    "                     left_on=['PLAYER_NAME','year'], right_on = ['name_close_match','year'])"
   ]
  },
  {
   "cell_type": "code",
   "execution_count": 6,
   "metadata": {},
   "outputs": [
    {
     "data": {
      "text/plain": [
       "(7926, 71)"
      ]
     },
     "execution_count": 6,
     "metadata": {},
     "output_type": "execute_result"
    }
   ],
   "source": [
    "# get data shape\n",
    "df.shape"
   ]
  },
  {
   "cell_type": "markdown",
   "metadata": {},
   "source": [
    "## EDA\n",
    "\n",
    "---"
   ]
  },
  {
   "cell_type": "code",
   "execution_count": 7,
   "metadata": {},
   "outputs": [
    {
     "data": {
      "text/plain": [
       "count    7.926000e+03\n",
       "mean     5.403477e+06\n",
       "std      5.944172e+06\n",
       "min      4.533000e+03\n",
       "25%      1.349383e+06\n",
       "50%      3.150000e+06\n",
       "75%      7.300000e+06\n",
       "max      4.023176e+07\n",
       "Name: SALARY, dtype: float64"
      ]
     },
     "execution_count": 7,
     "metadata": {},
     "output_type": "execute_result"
    }
   ],
   "source": [
    "# get stats of salary\n",
    "df.SALARY.describe()"
   ]
  },
  {
   "cell_type": "code",
   "execution_count": 8,
   "metadata": {},
   "outputs": [],
   "source": [
    "# remove outliers\n",
    "Q1 = df.SALARY.quantile(0.25)\n",
    "Q3 = df.SALARY.quantile(0.75)\n",
    "IQR = Q3 - Q1\n",
    "df = df.loc[df['SALARY'] <= Q3 + 1.5 * IQR]\n",
    "df = df.loc[df['SALARY'] >= Q1 - 1.5 * IQR]\n",
    "df.reset_index(inplace = True, drop = True)\n",
    "\n",
    "# change year feature's name to upper case\n",
    "df['YEAR'] = df['year']\n",
    "df.drop(['year'], 1, inplace = True)"
   ]
  },
  {
   "cell_type": "code",
   "execution_count": 9,
   "metadata": {},
   "outputs": [
    {
     "data": {
      "image/png": "[encoded data removed]",
      "text/plain": [
       "<Figure size 432x288 with 1 Axes>"
      ]
     },
     "metadata": {
      "needs_background": "light"
     },
     "output_type": "display_data"
    }
   ],
   "source": [
    "# plot the salary distribution\n",
    "_ = df.hist('SALARY')"
   ]
  },
  {
   "cell_type": "code",
   "execution_count": 10,
   "metadata": {},
   "outputs": [
    {
     "data": {
      "image/png": "[encoded data removed]",
      "text/plain": [
       "<Figure size 432x288 with 1 Axes>"
      ]
     },
     "metadata": {
      "needs_background": "light"
     },
     "output_type": "display_data"
    }
   ],
   "source": [
    "# take log transformation for salary\n",
    "df['SALARY_log'] = np.log(df['SALARY'])\n",
    "\n",
    "# plot the log salary distribution\n",
    "_ = df.hist('SALARY_log')"
   ]
  },
  {
   "cell_type": "code",
   "execution_count": 13,
   "metadata": {},
   "outputs": [],
   "source": [
    "# split features and raw target\n",
    "X = df[[\n",
    "    'GP', 'MIN', 'FG_PCT', 'FGM', 'FGA', 'FG3M', 'FG3A',\n",
    "    'FG3_PCT', 'FTM', 'FTA', 'FT_PCT', 'OREB', 'DREB', \n",
    "    'REB', 'AST', 'BLK', 'STL', 'PF', 'TOV', 'PTS', 'YEAR']]\n",
    "y = df['SALARY']\n",
    "\n",
    "# train test split\n",
    "X_train, X_test, y_train, y_test = train_test_split(X, y, \n",
    "    test_size = 0.25, random_state = 57)"
   ]
  },
  {
   "cell_type": "code",
   "execution_count": 14,
   "metadata": {},
   "outputs": [],
   "source": [
    "# split features and log salary\n",
    "X = df[[\n",
    "    'GP', 'MIN', 'FG_PCT', 'FGM', 'FGA', 'FG3M', 'FG3A',\n",
    "    'FG3_PCT', 'FTM', 'FTA', 'FT_PCT', 'OREB', 'DREB', \n",
    "    'REB', 'AST', 'BLK', 'STL', 'PF', 'TOV', 'PTS', 'YEAR']]\n",
    "y = df['SALARY_log']\n",
    "\n",
    "# train test split for log salary\n",
    "X_log_train, X_log_test, y_log_train, y_log_test = train_test_split(X, y, \n",
    "    test_size = 0.25, random_state = 57)"
   ]
  },
  {
   "cell_type": "markdown",
   "metadata": {},
   "source": [
    "## Model\n",
    "\n",
    "---"
   ]
  },
  {
   "cell_type": "markdown",
   "metadata": {},
   "source": [
    "###### Linear Regression"
   ]
  },
  {
   "cell_type": "code",
   "execution_count": 16,
   "metadata": {
    "scrolled": true
   },
   "outputs": [
    {
     "name": "stdout",
     "output_type": "stream",
     "text": [
      "Mean Absolute Error is  2259101.107668117\n",
      "\n",
      "Result Summary:\n",
      "                          Results: Ordinary least squares\n",
      "===================================================================================\n",
      "Model:                   OLS                   Adj. R-squared:          0.422      \n",
      "Dependent Variable:      SALARY                AIC:                     181800.3244\n",
      "Date:                    2020-11-18 20:16      BIC:                     181946.0737\n",
      "No. Observations:        5569                  Log-Likelihood:          -90878.    \n",
      "Df Model:                21                    F-statistic:             194.6      \n",
      "Df Residuals:            5547                  Prob (F-statistic):      0.00       \n",
      "R-squared:               0.424                 Scale:                   8.7777e+12 \n",
      "-----------------------------------------------------------------------------------\n",
      "             Coef.         Std.Err.      t    P>|t|       [0.025         0.975]    \n",
      "-----------------------------------------------------------------------------------\n",
      "const   -102467671.8944 15776114.3920 -6.4951 0.0000 -133395036.2964 -71540307.4925\n",
      "GP           -2742.5594     2366.6430 -1.1588 0.2466      -7382.1067      1896.9880\n",
      "MIN          83809.5139    15030.3889  5.5760 0.0000      54344.0635    113274.9644\n",
      "FG_PCT    -1849646.5850   770519.4417 -2.4005 0.0164   -3360166.5369   -339126.6331\n",
      "FGM         424131.7413  1074721.0497  0.3946 0.6931   -1682742.5313   2531006.0140\n",
      "FGA        -310580.4621    91296.6126 -3.4019 0.0007    -489557.5877   -131603.3366\n",
      "FG3M        308898.7975   651366.5060  0.4742 0.6354    -968034.7231   1585832.3180\n",
      "FG3A        -26900.9282   162835.0143 -0.1652 0.8688    -346121.3457    292319.4894\n",
      "FG3_PCT   -1393210.7662   306343.8926 -4.5479 0.0000   -1993764.8040   -792656.7285\n",
      "FTM         460141.4541   569569.8618  0.8079 0.4192    -656438.6004   1576721.5087\n",
      "FTA        -251771.0176   180672.7440 -1.3935 0.1635    -605960.3733    102418.3380\n",
      "FT_PCT     -791720.8811   318062.2566 -2.4892 0.0128   -1415247.5029   -168194.2593\n",
      "OREB        649437.4840   815698.2717  0.7962 0.4260    -949650.6732   2248525.6412\n",
      "DREB       1165208.3881   811408.9464  1.4360 0.1510    -425471.0112   2755887.7874\n",
      "REB        -684242.6694   809439.3589 -0.8453 0.3980   -2271060.9056    902575.5667\n",
      "AST         331889.5868    48628.2745  6.8250 0.0000     236559.1189    427220.0547\n",
      "BLK         690273.7959   122765.2501  5.6227 0.0000     449605.8131    930941.7786\n",
      "STL        -408417.6019   156352.0426 -2.6122 0.0090    -714928.8553   -101906.3486\n",
      "PF         -277477.4920    88572.4138 -3.1328 0.0017    -451114.1207   -103840.8633\n",
      "TOV        -407626.9860   147740.4052 -2.7591 0.0058    -697256.0566   -117997.9154\n",
      "PTS         294319.0747   536898.7837  0.5482 0.5836    -758212.8681   1346851.0176\n",
      "YEAR         51727.1679     7846.8901  6.5921 0.0000      36344.1892     67110.1465\n",
      "-----------------------------------------------------------------------------------\n",
      "Omnibus:                    567.805            Durbin-Watson:               1.985  \n",
      "Prob(Omnibus):              0.000              Jarque-Bera (JB):            943.517\n",
      "Skew:                       0.725              Prob(JB):                    0.000  \n",
      "Kurtosis:                   4.402              Condition No.:               798930 \n",
      "===================================================================================\n",
      "* The condition number is large (8e+05). This might indicate             strong\n",
      "multicollinearity or other numerical problems.\n"
     ]
    },
    {
     "name": "stderr",
     "output_type": "stream",
     "text": [
      "/Users/yangzibin/opt/anaconda3/lib/python3.7/site-packages/numpy/core/fromnumeric.py:2495: FutureWarning: Method .ptp is deprecated and will be removed in a future version. Use numpy.ptp instead.\n",
      "  return ptp(axis=axis, out=out, **kwargs)\n"
     ]
    }
   ],
   "source": [
    "X_const = sm.add_constant(X_train)\n",
    "model = sm.OLS(y_train, X_const)\n",
    "res = model.fit()\n",
    "pred = res.predict(sm.add_constant(X_test))\n",
    "print('Mean Absolute Error is ', mean_absolute_error(y_test, pred))\n",
    "print('\\nResult Summary:')\n",
    "_ = print(res.summary2())"
   ]
  },
  {
   "cell_type": "markdown",
   "metadata": {},
   "source": [
    "###### Linear Regression - Log Transformation"
   ]
  },
  {
   "cell_type": "code",
   "execution_count": 17,
   "metadata": {},
   "outputs": [
    {
     "name": "stdout",
     "output_type": "stream",
     "text": [
      "Mean Absolute Error is  2196677.67230888\n",
      "\n",
      "Result Summary:\n",
      "                  Results: Ordinary least squares\n",
      "===================================================================\n",
      "Model:              OLS              Adj. R-squared:     0.380     \n",
      "Dependent Variable: SALARY_log       AIC:                14100.0966\n",
      "Date:               2020-11-18 20:16 BIC:                14245.8460\n",
      "No. Observations:   5569             Log-Likelihood:     -7028.0   \n",
      "Df Model:           21               F-statistic:        163.3     \n",
      "Df Residuals:       5547             Prob (F-statistic): 0.00      \n",
      "R-squared:          0.382            Scale:              0.73350   \n",
      "---------------------------------------------------------------------\n",
      "           Coef.     Std.Err.      t      P>|t|     [0.025     0.975]\n",
      "---------------------------------------------------------------------\n",
      "const     -11.6763     4.5605   -2.5603   0.0105   -20.6166   -2.7360\n",
      "GP          0.0047     0.0007    6.9132   0.0000     0.0034    0.0061\n",
      "MIN         0.0333     0.0043    7.6595   0.0000     0.0248    0.0418\n",
      "FG_PCT     -0.0236     0.2227   -0.1057   0.9158    -0.4602    0.4131\n",
      "FGM        -0.0721     0.3107   -0.2321   0.8165    -0.6811    0.5369\n",
      "FGA        -0.0340     0.0264   -1.2888   0.1975    -0.0858    0.0177\n",
      "FG3M        0.2453     0.1883    1.3028   0.1927    -0.1238    0.6144\n",
      "FG3A       -0.0862     0.0471   -1.8308   0.0672    -0.1785    0.0061\n",
      "FG3_PCT    -0.4106     0.0886   -4.6368   0.0000    -0.5842   -0.2370\n",
      "FTM         0.0118     0.1646    0.0719   0.9427    -0.3109    0.3346\n",
      "FTA        -0.0396     0.0522   -0.7589   0.4479    -0.1420    0.0628\n",
      "FT_PCT     -0.0085     0.0919   -0.0919   0.9267    -0.1887    0.1718\n",
      "OREB       -0.0575     0.2358   -0.2440   0.8072    -0.5198    0.4047\n",
      "DREB        0.0029     0.2346    0.0124   0.9901    -0.4569    0.4627\n",
      "REB         0.0780     0.2340    0.3333   0.7389    -0.3807    0.5367\n",
      "AST         0.0498     0.0141    3.5434   0.0004     0.0223    0.0774\n",
      "BLK         0.1189     0.0355    3.3515   0.0008     0.0494    0.1885\n",
      "STL        -0.1079     0.0452   -2.3876   0.0170    -0.1965   -0.0193\n",
      "PF         -0.0067     0.0256   -0.2609   0.7942    -0.0569    0.0435\n",
      "TOV        -0.0405     0.0427   -0.9489   0.3427    -0.1243    0.0432\n",
      "PTS         0.0957     0.1552    0.6167   0.5374    -0.2085    0.4000\n",
      "YEAR        0.0125     0.0023    5.4999   0.0000     0.0080    0.0169\n",
      "-------------------------------------------------------------------\n",
      "Omnibus:              1300.974      Durbin-Watson:         1.996   \n",
      "Prob(Omnibus):        0.000         Jarque-Bera (JB):      4728.354\n",
      "Skew:                 -1.136        Prob(JB):              0.000   \n",
      "Kurtosis:             6.901         Condition No.:         798930  \n",
      "===================================================================\n",
      "* The condition number is large (8e+05). This might indicate\n",
      "strong multicollinearity or other numerical problems.\n"
     ]
    },
    {
     "name": "stderr",
     "output_type": "stream",
     "text": [
      "/Users/yangzibin/opt/anaconda3/lib/python3.7/site-packages/numpy/core/fromnumeric.py:2495: FutureWarning: Method .ptp is deprecated and will be removed in a future version. Use numpy.ptp instead.\n",
      "  return ptp(axis=axis, out=out, **kwargs)\n"
     ]
    }
   ],
   "source": [
    "X_const = sm.add_constant(X_log_train)\n",
    "model = sm.OLS(y_log_train, X_const)\n",
    "res = model.fit()\n",
    "pred = res.predict(sm.add_constant(X_log_test))\n",
    "print('Mean Absolute Error is ', mean_absolute_error(np.e**y_log_test, np.e**pred))\n",
    "print('\\nResult Summary:')\n",
    "_ = print(res.summary2())"
   ]
  },
  {
   "cell_type": "markdown",
   "metadata": {},
   "source": [
    "###### Random Forest"
   ]
  },
  {
   "cell_type": "code",
   "execution_count": 18,
   "metadata": {},
   "outputs": [],
   "source": [
    "# cross validation for logistic regression\n",
    "def rf_cv(X_tr, y_tr, X_te, y_te, n_splits = 10, n = 100):\n",
    "\n",
    "    # define kfold and loop through each iteration\n",
    "    kf = KFold(n_splits = n_splits, shuffle = True, random_state = 57)\n",
    "\n",
    "    # out of fold empty array\n",
    "    oof = np.zeros(shape = (X_tr.shape[0]))\n",
    "    # folds empty array\n",
    "    folds = np.zeros(shape = (X_tr.shape[0]))\n",
    "    # test empty array\n",
    "    t_fold = np.zeros(shape = (X_te.shape[0]))\n",
    "\n",
    "    # initial train, test and validation MAE\n",
    "    mae_train = []\n",
    "    mae_valid = []\n",
    "    mae_test = []\n",
    "    \n",
    "    for ti, vi in kf.split(X_tr):\n",
    "        \n",
    "        # split train and valid dataframe\n",
    "        train_features, train_labels = X_tr.loc[ti], y_tr[ti]\n",
    "        valid_features, valid_labels = X_tr.loc[vi], y_tr[vi]\n",
    "\n",
    "        rf = RandomForestRegressor(n_estimators = n, max_depth = 10, random_state = 57)\n",
    "        rf.fit(train_features, train_labels)\n",
    "        \n",
    "        oof[vi] = rf.predict(valid_features)\n",
    "        folds[ti] = rf.predict(train_features)\n",
    "        t_fold += rf.predict(X_te)\n",
    "        \n",
    "        # update MAE score for train and validation\n",
    "        mae_train.append(mean_absolute_error(train_labels, folds[ti]))\n",
    "        mae_valid.append(mean_absolute_error(valid_labels, oof[vi]))\n",
    "    \n",
    "    # update MAE score for test\n",
    "    mae_test.append(mean_absolute_error(y_te, np.round(t_fold / n_splits)))\n",
    "    \n",
    "    return mae_train, mae_valid, mae_test"
   ]
  },
  {
   "cell_type": "code",
   "execution_count": 19,
   "metadata": {},
   "outputs": [
    {
     "name": "stdout",
     "output_type": "stream",
     "text": [
      "Best Model:\n",
      "N =  50\n",
      "Validation MAE:  2143622.9538933584\n",
      "Testing MAE:  2177314.188476037\n"
     ]
    }
   ],
   "source": [
    "# grid search for best model based on MAE score\n",
    "mae_train_list = []\n",
    "mae_valid_list = []\n",
    "mae_test_list = []\n",
    "N = []\n",
    "X_train.reset_index(drop = True, inplace = True)\n",
    "for n in [50, 100, 150, 200]:\n",
    "    mae_train, mae_valid, mae_test = rf_cv(X_train,  y_train.values, X_test, y_test.values, n_splits = 5, n = n)\n",
    "    N.append(n)\n",
    "    mae_train_list.append(np.mean(mae_train))\n",
    "    mae_valid_list.append(np.mean(mae_valid))\n",
    "    mae_test_list.append(mae_test)\n",
    "    \n",
    "print('Best Model:')\n",
    "print('N = ', N[mae_valid_list.index(np.max(mae_valid_list))])\n",
    "print('Validation MAE: ', mae_valid_list[mae_valid_list.index(np.max(mae_valid_list))])\n",
    "print('Testing MAE: ', mae_test_list[mae_valid_list.index(np.max(mae_valid_list))][0])"
   ]
  },
  {
   "cell_type": "markdown",
   "metadata": {},
   "source": [
    "###### Random Forest - Log Transformation"
   ]
  },
  {
   "cell_type": "code",
   "execution_count": 20,
   "metadata": {},
   "outputs": [],
   "source": [
    "# cross validation for logistic regression\n",
    "def rf_log_cv(X_tr, y_tr, X_te, y_te, n_splits = 10, n = 100):\n",
    "\n",
    "    # define kfold and loop through each iteration\n",
    "    kf = KFold(n_splits = n_splits, shuffle = True, random_state = 57)\n",
    "\n",
    "    # out of fold empty array\n",
    "    oof = np.zeros(shape = (X_tr.shape[0]))\n",
    "    # folds empty array\n",
    "    folds = np.zeros(shape = (X_tr.shape[0]))\n",
    "    # test empty array\n",
    "    t_fold = np.zeros(shape = (X_te.shape[0]))\n",
    "\n",
    "    # initial train, test and validation MAE\n",
    "    mae_train = []\n",
    "    mae_valid = []\n",
    "    mae_test = []\n",
    "    \n",
    "    for ti, vi in kf.split(X_tr):\n",
    "        \n",
    "        # split train and valid dataframe\n",
    "        train_features, train_labels = X_tr.loc[ti], y_tr[ti]\n",
    "        valid_features, valid_labels = X_tr.loc[vi], y_tr[vi]\n",
    "\n",
    "        rf = RandomForestRegressor(n_estimators = n, max_depth = 10, random_state = 57)\n",
    "        rf.fit(train_features, train_labels)\n",
    "        \n",
    "        oof[vi] = rf.predict(valid_features)\n",
    "        folds[ti] = rf.predict(train_features)\n",
    "        t_fold += rf.predict(X_te)\n",
    "        \n",
    "        # update MAE score for train and validation\n",
    "        mae_train.append(mean_absolute_error(np.e**train_labels, np.e**folds[ti]))\n",
    "        mae_valid.append(mean_absolute_error(np.e**valid_labels, np.e**oof[vi]))\n",
    "    \n",
    "    # update MAE score for test\n",
    "    mae_test.append(mean_absolute_error(np.e**y_te, np.e**(np.round(t_fold / n_splits))))\n",
    "    \n",
    "    return mae_train, mae_valid, mae_test"
   ]
  },
  {
   "cell_type": "code",
   "execution_count": 21,
   "metadata": {},
   "outputs": [
    {
     "name": "stdout",
     "output_type": "stream",
     "text": [
      "Best Model:\n",
      "N =  50\n",
      "Validation MAE:  2144783.145113663\n",
      "Testing MAE:  2303783.263347635\n"
     ]
    }
   ],
   "source": [
    "# grid search for best model based on MAE score\n",
    "mae_train_list = []\n",
    "mae_valid_list = []\n",
    "mae_test_list = []\n",
    "N = []\n",
    "X_log_train.reset_index(drop = True, inplace = True)\n",
    "for n in [50, 100, 150, 200]:\n",
    "    mae_train, mae_valid, mae_test = rf_log_cv(X_log_train,  y_log_train.values, X_log_test, y_log_test.values, n_splits = 5, n = n)\n",
    "    N.append(n)\n",
    "    mae_train_list.append(np.mean(mae_train))\n",
    "    mae_valid_list.append(np.mean(mae_valid))\n",
    "    mae_test_list.append(mae_test)\n",
    "\n",
    "print('Best Model:')\n",
    "print('N = ', N[mae_valid_list.index(np.max(mae_valid_list))])\n",
    "print('Validation MAE: ', mae_valid_list[mae_valid_list.index(np.max(mae_valid_list))])\n",
    "print('Testing MAE: ', mae_test_list[mae_valid_list.index(np.max(mae_valid_list))][0])"
   ]
  },
  {
   "cell_type": "markdown",
   "metadata": {},
   "source": [
    "## Feature Importance\n",
    "\n",
    "---"
   ]
  },
  {
   "cell_type": "code",
   "execution_count": 24,
   "metadata": {},
   "outputs": [
    {
     "data": {
      "image/png": "[encoded data removed]",
      "text/plain": [
       "<Figure size 432x288 with 1 Axes>"
      ]
     },
     "metadata": {
      "needs_background": "light"
     },
     "output_type": "display_data"
    }
   ],
   "source": [
    "# select the best performance model\n",
    "rf = RandomForestRegressor(n_estimators = 50, max_depth = 10, random_state = 57)\n",
    "rf.fit(X_train,  y_train.values)\n",
    "\n",
    "# dataframe for feature importance and feature names\n",
    "feature_importance = np.array(rf.feature_importances_)\n",
    "features = np.array(X_train.columns)\n",
    "fi_df = pd.DataFrame({'features':features,'feature_importance':feature_importance})\n",
    "\n",
    "# sort the dataframe by feature importance\n",
    "fi_df.sort_values(by=['feature_importance'], ascending = False , inplace = True)\n",
    "\n",
    "\n",
    "# plot bar chart\n",
    "sns.barplot(fi_df['feature_importance'], fi_df['features'])\n",
    "plt.title('FEATURE IMPORTANCE')\n",
    "plt.xlabel('Feature Importance')\n",
    "_ = plt.ylabel('Features')"
   ]
  },
  {
   "cell_type": "markdown",
   "metadata": {},
   "source": [
    "The top three important features are minutes played per game, points per game and year."
   ]
  },
  {
   "cell_type": "markdown",
   "metadata": {},
   "source": [
    "## Reasons of Large MAE\n",
    "\n",
    "---"
   ]
  },
  {
   "cell_type": "code",
   "execution_count": 25,
   "metadata": {},
   "outputs": [],
   "source": [
    "# make predictions for X_test\n",
    "pred = pd.DataFrame({'prediction': rf.predict(X_test)})\n",
    "X_test_temp = X_test.reset_index(drop = True)\n",
    "y_test_temp = y_test.reset_index(drop = True)"
   ]
  },
  {
   "cell_type": "code",
   "execution_count": 26,
   "metadata": {},
   "outputs": [
    {
     "data": {
      "text/plain": [
       "count    1.857000e+03\n",
       "mean    -2.201246e+04\n",
       "std      3.015243e+06\n",
       "min     -9.521163e+06\n",
       "25%     -1.584773e+06\n",
       "50%     -4.585154e+05\n",
       "75%      1.359367e+06\n",
       "max      1.371287e+07\n",
       "Name: diff, dtype: float64"
      ]
     },
     "execution_count": 26,
     "metadata": {},
     "output_type": "execute_result"
    }
   ],
   "source": [
    "# compute the difference of actual salary and prediction\n",
    "result = pd.concat([X_test_temp, pred, y_test_temp], axis = 1)\n",
    "result['diff'] = result['SALARY'] - result['prediction']\n",
    "result['diff'].describe()"
   ]
  },
  {
   "cell_type": "code",
   "execution_count": 27,
   "metadata": {},
   "outputs": [],
   "source": [
    "# get top 10 observations with the most salary and prediction difference\n",
    "\n",
    "# create name list\n",
    "names = []\n",
    "# get player names\n",
    "for i in result.sort_values('diff').index[-10:].values:\n",
    "    j = int(X_test[i:i+1].index.values)\n",
    "    names.append(df[j:j + 1]['PLAYER_NAME'].values[0])\n",
    "\n",
    "# create top 10 overvalued paler dataframe\n",
    "top_10_overvalued = result.sort_values('diff')[-10:].reset_index(drop = True)\n",
    "names = pd.DataFrame({'PLAYER_NAME': names})\n",
    "top_10_overvalued = pd.concat([names, top_10_overvalued], axis = 1)"
   ]
  },
  {
   "cell_type": "code",
   "execution_count": 29,
   "metadata": {},
   "outputs": [
    {
     "data": {
      "text/html": [
       "<div>\n",
       "<style scoped>\n",
       "    .dataframe tbody tr th:only-of-type {\n",
       "        vertical-align: middle;\n",
       "    }\n",
       "\n",
       "    .dataframe tbody tr th {\n",
       "        vertical-align: top;\n",
       "    }\n",
       "\n",
       "    .dataframe thead th {\n",
       "        text-align: right;\n",
       "    }\n",
       "</style>\n",
       "<table border=\"1\" class=\"dataframe\">\n",
       "  <thead>\n",
       "    <tr style=\"text-align: right;\">\n",
       "      <th></th>\n",
       "      <th>PLAYER_NAME</th>\n",
       "      <th>MIN</th>\n",
       "      <th>PTS</th>\n",
       "      <th>YEAR</th>\n",
       "      <th>SALARY</th>\n",
       "      <th>prediction</th>\n",
       "      <th>diff</th>\n",
       "    </tr>\n",
       "  </thead>\n",
       "  <tbody>\n",
       "    <tr>\n",
       "      <td>0</td>\n",
       "      <td>Kenyon Martin</td>\n",
       "      <td>32.0</td>\n",
       "      <td>11.7</td>\n",
       "      <td>2008</td>\n",
       "      <td>15852511.0</td>\n",
       "      <td>6.127674e+06</td>\n",
       "      <td>9.724837e+06</td>\n",
       "    </tr>\n",
       "    <tr>\n",
       "      <td>1</td>\n",
       "      <td>Tim Thomas</td>\n",
       "      <td>27.3</td>\n",
       "      <td>12.0</td>\n",
       "      <td>2004</td>\n",
       "      <td>13975000.0</td>\n",
       "      <td>3.997419e+06</td>\n",
       "      <td>9.977581e+06</td>\n",
       "    </tr>\n",
       "    <tr>\n",
       "      <td>2</td>\n",
       "      <td>Shawn Kemp</td>\n",
       "      <td>15.9</td>\n",
       "      <td>6.5</td>\n",
       "      <td>2000</td>\n",
       "      <td>12770000.0</td>\n",
       "      <td>2.725800e+06</td>\n",
       "      <td>1.004420e+07</td>\n",
       "    </tr>\n",
       "    <tr>\n",
       "      <td>3</td>\n",
       "      <td>Courtney Lee</td>\n",
       "      <td>14.4</td>\n",
       "      <td>4.5</td>\n",
       "      <td>2019</td>\n",
       "      <td>12759670.0</td>\n",
       "      <td>2.651728e+06</td>\n",
       "      <td>1.010794e+07</td>\n",
       "    </tr>\n",
       "    <tr>\n",
       "      <td>4</td>\n",
       "      <td>Vin Baker</td>\n",
       "      <td>24.5</td>\n",
       "      <td>9.8</td>\n",
       "      <td>2003</td>\n",
       "      <td>14625000.0</td>\n",
       "      <td>3.702384e+06</td>\n",
       "      <td>1.092262e+07</td>\n",
       "    </tr>\n",
       "    <tr>\n",
       "      <td>5</td>\n",
       "      <td>Timofey Mozgov</td>\n",
       "      <td>20.4</td>\n",
       "      <td>7.4</td>\n",
       "      <td>2016</td>\n",
       "      <td>16000000.0</td>\n",
       "      <td>5.075336e+06</td>\n",
       "      <td>1.092466e+07</td>\n",
       "    </tr>\n",
       "    <tr>\n",
       "      <td>6</td>\n",
       "      <td>Ian Mahinmi</td>\n",
       "      <td>14.9</td>\n",
       "      <td>4.8</td>\n",
       "      <td>2017</td>\n",
       "      <td>15944154.0</td>\n",
       "      <td>4.291777e+06</td>\n",
       "      <td>1.165238e+07</td>\n",
       "    </tr>\n",
       "    <tr>\n",
       "      <td>7</td>\n",
       "      <td>James Johnson</td>\n",
       "      <td>19.4</td>\n",
       "      <td>8.4</td>\n",
       "      <td>2019</td>\n",
       "      <td>15349400.0</td>\n",
       "      <td>3.184248e+06</td>\n",
       "      <td>1.216515e+07</td>\n",
       "    </tr>\n",
       "    <tr>\n",
       "      <td>8</td>\n",
       "      <td>Brandon Knight</td>\n",
       "      <td>18.5</td>\n",
       "      <td>7.3</td>\n",
       "      <td>2019</td>\n",
       "      <td>15643750.0</td>\n",
       "      <td>3.094426e+06</td>\n",
       "      <td>1.254932e+07</td>\n",
       "    </tr>\n",
       "    <tr>\n",
       "      <td>9</td>\n",
       "      <td>Vin Baker</td>\n",
       "      <td>7.5</td>\n",
       "      <td>1.3</td>\n",
       "      <td>2004</td>\n",
       "      <td>15750000.0</td>\n",
       "      <td>2.037129e+06</td>\n",
       "      <td>1.371287e+07</td>\n",
       "    </tr>\n",
       "  </tbody>\n",
       "</table>\n",
       "</div>"
      ],
      "text/plain": [
       "      PLAYER_NAME   MIN   PTS  YEAR      SALARY    prediction          diff\n",
       "0   Kenyon Martin  32.0  11.7  2008  15852511.0  6.127674e+06  9.724837e+06\n",
       "1      Tim Thomas  27.3  12.0  2004  13975000.0  3.997419e+06  9.977581e+06\n",
       "2      Shawn Kemp  15.9   6.5  2000  12770000.0  2.725800e+06  1.004420e+07\n",
       "3    Courtney Lee  14.4   4.5  2019  12759670.0  2.651728e+06  1.010794e+07\n",
       "4       Vin Baker  24.5   9.8  2003  14625000.0  3.702384e+06  1.092262e+07\n",
       "5  Timofey Mozgov  20.4   7.4  2016  16000000.0  5.075336e+06  1.092466e+07\n",
       "6     Ian Mahinmi  14.9   4.8  2017  15944154.0  4.291777e+06  1.165238e+07\n",
       "7   James Johnson  19.4   8.4  2019  15349400.0  3.184248e+06  1.216515e+07\n",
       "8  Brandon Knight  18.5   7.3  2019  15643750.0  3.094426e+06  1.254932e+07\n",
       "9       Vin Baker   7.5   1.3  2004  15750000.0  2.037129e+06  1.371287e+07"
      ]
     },
     "execution_count": 29,
     "metadata": {},
     "output_type": "execute_result"
    }
   ],
   "source": [
    "top_10_overvalued[['PLAYER_NAME', 'MIN', 'PTS', 'YEAR', 'SALARY', 'prediction', 'diff']]"
   ]
  },
  {
   "cell_type": "markdown",
   "metadata": {},
   "source": [
    "Vin Baker has his worst performance in 2004 - 2005 season while he still has an annual salary over 10 million in 2005. He ends his professional career in 2006.\n",
    "\n",
    "Potential reasons why some palyers are overvalued:\n",
    "\n",
    "1. Some of the palyers may have contracts with the teams for several consecutive years, where the salaries do not change a lot by their performance.\n",
    "2. Although some players do not have fancy stats in some seasons, the team coach sees their potential or thinks they may be a good fit for the whole team.\n",
    "3. Players who are super famous tend to have higher salaries."
   ]
  },
  {
   "cell_type": "code",
   "execution_count": 30,
   "metadata": {},
   "outputs": [],
   "source": [
    "# get top 10 observations with the most prediction and salary difference\n",
    "\n",
    "# create name list\n",
    "names = []\n",
    "for i in result.sort_values('diff').index[:10].values:\n",
    "    j = int(X_test[i:i+1].index.values)\n",
    "    names.append(df[j:j + 1]['PLAYER_NAME'].values[0])\n",
    "    \n",
    "# create top 10 undervalued paler dataframe\n",
    "top_10_undervalued = result.sort_values('diff')[:10].reset_index(drop = True)\n",
    "names = pd.DataFrame({'PLAYER_NAME': names})\n",
    "top_10_undervalued = pd.concat([names, top_10_undervalued], axis = 1)"
   ]
  },
  {
   "cell_type": "code",
   "execution_count": 32,
   "metadata": {},
   "outputs": [
    {
     "data": {
      "text/html": [
       "<div>\n",
       "<style scoped>\n",
       "    .dataframe tbody tr th:only-of-type {\n",
       "        vertical-align: middle;\n",
       "    }\n",
       "\n",
       "    .dataframe tbody tr th {\n",
       "        vertical-align: top;\n",
       "    }\n",
       "\n",
       "    .dataframe thead th {\n",
       "        text-align: right;\n",
       "    }\n",
       "</style>\n",
       "<table border=\"1\" class=\"dataframe\">\n",
       "  <thead>\n",
       "    <tr style=\"text-align: right;\">\n",
       "      <th></th>\n",
       "      <th>PLAYER_NAME</th>\n",
       "      <th>MIN</th>\n",
       "      <th>PTS</th>\n",
       "      <th>YEAR</th>\n",
       "      <th>SALARY</th>\n",
       "      <th>prediction</th>\n",
       "      <th>diff</th>\n",
       "    </tr>\n",
       "  </thead>\n",
       "  <tbody>\n",
       "    <tr>\n",
       "      <td>0</td>\n",
       "      <td>Dwyane Wade</td>\n",
       "      <td>38.7</td>\n",
       "      <td>24.1</td>\n",
       "      <td>2004</td>\n",
       "      <td>3031920.0</td>\n",
       "      <td>1.255308e+07</td>\n",
       "      <td>-9.521163e+06</td>\n",
       "    </tr>\n",
       "    <tr>\n",
       "      <td>1</td>\n",
       "      <td>Michael Jordan</td>\n",
       "      <td>34.8</td>\n",
       "      <td>22.9</td>\n",
       "      <td>2001</td>\n",
       "      <td>1030000.0</td>\n",
       "      <td>1.054219e+07</td>\n",
       "      <td>-9.512187e+06</td>\n",
       "    </tr>\n",
       "    <tr>\n",
       "      <td>2</td>\n",
       "      <td>Dwyane Wade</td>\n",
       "      <td>38.6</td>\n",
       "      <td>27.2</td>\n",
       "      <td>2005</td>\n",
       "      <td>3841443.0</td>\n",
       "      <td>1.326234e+07</td>\n",
       "      <td>-9.420897e+06</td>\n",
       "    </tr>\n",
       "    <tr>\n",
       "      <td>3</td>\n",
       "      <td>Rudy Gobert</td>\n",
       "      <td>31.7</td>\n",
       "      <td>9.1</td>\n",
       "      <td>2015</td>\n",
       "      <td>2121288.0</td>\n",
       "      <td>1.037129e+07</td>\n",
       "      <td>-8.250006e+06</td>\n",
       "    </tr>\n",
       "    <tr>\n",
       "      <td>4</td>\n",
       "      <td>Chris Bosh</td>\n",
       "      <td>39.3</td>\n",
       "      <td>22.5</td>\n",
       "      <td>2005</td>\n",
       "      <td>4235220.0</td>\n",
       "      <td>1.246208e+07</td>\n",
       "      <td>-8.226862e+06</td>\n",
       "    </tr>\n",
       "    <tr>\n",
       "      <td>5</td>\n",
       "      <td>Allen Iverson</td>\n",
       "      <td>36.7</td>\n",
       "      <td>17.5</td>\n",
       "      <td>2008</td>\n",
       "      <td>650686.0</td>\n",
       "      <td>8.724110e+06</td>\n",
       "      <td>-8.073424e+06</td>\n",
       "    </tr>\n",
       "    <tr>\n",
       "      <td>6</td>\n",
       "      <td>Kevin Martin</td>\n",
       "      <td>33.4</td>\n",
       "      <td>20.0</td>\n",
       "      <td>2014</td>\n",
       "      <td>200600.0</td>\n",
       "      <td>8.264081e+06</td>\n",
       "      <td>-8.063481e+06</td>\n",
       "    </tr>\n",
       "    <tr>\n",
       "      <td>7</td>\n",
       "      <td>JaKarr Sampson</td>\n",
       "      <td>31.8</td>\n",
       "      <td>20.0</td>\n",
       "      <td>2018</td>\n",
       "      <td>1620564.0</td>\n",
       "      <td>9.661164e+06</td>\n",
       "      <td>-8.040600e+06</td>\n",
       "    </tr>\n",
       "    <tr>\n",
       "      <td>8</td>\n",
       "      <td>Brook Lopez</td>\n",
       "      <td>36.9</td>\n",
       "      <td>18.8</td>\n",
       "      <td>2009</td>\n",
       "      <td>2413320.0</td>\n",
       "      <td>1.028212e+07</td>\n",
       "      <td>-7.868800e+06</td>\n",
       "    </tr>\n",
       "    <tr>\n",
       "      <td>9</td>\n",
       "      <td>Jose Calderon</td>\n",
       "      <td>28.1</td>\n",
       "      <td>7.6</td>\n",
       "      <td>2015</td>\n",
       "      <td>247991.0</td>\n",
       "      <td>7.988665e+06</td>\n",
       "      <td>-7.740674e+06</td>\n",
       "    </tr>\n",
       "  </tbody>\n",
       "</table>\n",
       "</div>"
      ],
      "text/plain": [
       "      PLAYER_NAME   MIN   PTS  YEAR     SALARY    prediction          diff\n",
       "0     Dwyane Wade  38.7  24.1  2004  3031920.0  1.255308e+07 -9.521163e+06\n",
       "1  Michael Jordan  34.8  22.9  2001  1030000.0  1.054219e+07 -9.512187e+06\n",
       "2     Dwyane Wade  38.6  27.2  2005  3841443.0  1.326234e+07 -9.420897e+06\n",
       "3     Rudy Gobert  31.7   9.1  2015  2121288.0  1.037129e+07 -8.250006e+06\n",
       "4      Chris Bosh  39.3  22.5  2005  4235220.0  1.246208e+07 -8.226862e+06\n",
       "5   Allen Iverson  36.7  17.5  2008   650686.0  8.724110e+06 -8.073424e+06\n",
       "6    Kevin Martin  33.4  20.0  2014   200600.0  8.264081e+06 -8.063481e+06\n",
       "7  JaKarr Sampson  31.8  20.0  2018  1620564.0  9.661164e+06 -8.040600e+06\n",
       "8     Brook Lopez  36.9  18.8  2009  2413320.0  1.028212e+07 -7.868800e+06\n",
       "9   Jose Calderon  28.1   7.6  2015   247991.0  7.988665e+06 -7.740674e+06"
      ]
     },
     "execution_count": 32,
     "metadata": {},
     "output_type": "execute_result"
    }
   ],
   "source": [
    "top_10_undervalued[['PLAYER_NAME', 'MIN', 'PTS', 'YEAR', 'SALARY', 'prediction', 'diff']]"
   ]
  },
  {
   "cell_type": "markdown",
   "metadata": {},
   "source": [
    "Dwyane Wade was a new player in 2004, 2005. That's why he had a low salary but great performance. His salary goes up to 13 million in 2006.\n",
    "\n",
    "Michael Jordan is a legend. Although he retired in 2003, his stats in 2001 are above the NBA average."
   ]
  },
  {
   "cell_type": "markdown",
   "metadata": {},
   "source": [
    "Quantifying or collecting the potential features stated above is not feasible. We conclude that player performance data plays a very import role in predicting salary but the model could be improved by introduing new features.\n",
    "\n",
    "Besides, our model can be used to determine whether a player is overvalued or undervalued based on his previous year's performance and current year's salary."
   ]
  },
  {
   "cell_type": "code",
   "execution_count": null,
   "metadata": {},
   "outputs": [],
   "source": []
  },
  {
   "cell_type": "code",
   "execution_count": null,
   "metadata": {},
   "outputs": [],
   "source": []
  }
 ],
 "metadata": {
  "kernelspec": {
   "display_name": "Python 3",
   "language": "python",
   "name": "python3"
  },
  "language_info": {
   "codemirror_mode": {
    "name": "ipython",
    "version": 3
   },
   "file_extension": ".py",
   "mimetype": "text/x-python",
   "name": "python",
   "nbconvert_exporter": "python",
   "pygments_lexer": "ipython3",
   "version": "3.7.4"
  }
 },
 "nbformat": 4,
 "nbformat_minor": 2
}
