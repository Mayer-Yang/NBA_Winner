{
 "cells": [
  {
   "cell_type": "code",
   "execution_count": 67,
   "metadata": {},
   "outputs": [],
   "source": [
    "from bs4 import BeautifulSoup as bs\n",
    "import urllib\n",
    "import requests\n",
    "import pandas as pd"
   ]
  },
  {
   "cell_type": "markdown",
   "metadata": {},
   "source": [
    "## Basic html notebook\n",
    "\n",
    "---"
   ]
  },
  {
   "cell_type": "code",
   "execution_count": 94,
   "metadata": {},
   "outputs": [],
   "source": [
    "with open('basic_example.html', 'r') as f:\n",
    "\n",
    "    contents = f.read()\n",
    "\n",
    "    soup = BeautifulSoup(contents, 'lxml')"
   ]
  },
  {
   "cell_type": "code",
   "execution_count": 97,
   "metadata": {},
   "outputs": [
    {
     "data": {
      "text/html": [
       "<div>\n",
       "<style scoped>\n",
       "    .dataframe tbody tr th:only-of-type {\n",
       "        vertical-align: middle;\n",
       "    }\n",
       "\n",
       "    .dataframe tbody tr th {\n",
       "        vertical-align: top;\n",
       "    }\n",
       "\n",
       "    .dataframe thead th {\n",
       "        text-align: right;\n",
       "    }\n",
       "</style>\n",
       "<table border=\"1\" class=\"dataframe\">\n",
       "  <thead>\n",
       "    <tr style=\"text-align: right;\">\n",
       "      <th></th>\n",
       "      <th>Firstname</th>\n",
       "      <th>Lastname</th>\n",
       "      <th>Gender</th>\n",
       "      <th>Age</th>\n",
       "    </tr>\n",
       "  </thead>\n",
       "  <tbody>\n",
       "    <tr>\n",
       "      <td>0</td>\n",
       "      <td>Violet</td>\n",
       "      <td>Luca</td>\n",
       "      <td>F</td>\n",
       "      <td>32</td>\n",
       "    </tr>\n",
       "    <tr>\n",
       "      <td>1</td>\n",
       "      <td>Emmett</td>\n",
       "      <td>Otter</td>\n",
       "      <td>M</td>\n",
       "      <td>22</td>\n",
       "    </tr>\n",
       "  </tbody>\n",
       "</table>\n",
       "</div>"
      ],
      "text/plain": [
       "  Firstname Lastname Gender  Age\n",
       "0    Violet     Luca      F   32\n",
       "1    Emmett    Otter      M   22"
      ]
     },
     "execution_count": 97,
     "metadata": {},
     "output_type": "execute_result"
    }
   ],
   "source": [
    "pd.read_html(contents)[0]"
   ]
  },
  {
   "cell_type": "code",
   "execution_count": 26,
   "metadata": {},
   "outputs": [
    {
     "data": {
      "text/plain": [
       "<div style='\\\"background-color:black;color:white;padding:20px;\\\"'>\n",
       "<h1>This is a Heading</h1>\n",
       "<p>This is a paragraph.</p>\n",
       "<p>This is a second paragraph</p>\n",
       "</div>"
      ]
     },
     "execution_count": 26,
     "metadata": {},
     "output_type": "execute_result"
    }
   ],
   "source": [
    "# find all children in body and print the 1st one\n",
    "soup.body.findChildren(recursive=False)[0]"
   ]
  },
  {
   "cell_type": "code",
   "execution_count": 25,
   "metadata": {},
   "outputs": [],
   "source": [
    "## Extracting text from html documents"
   ]
  },
  {
   "cell_type": "code",
   "execution_count": 29,
   "metadata": {},
   "outputs": [
    {
     "data": {
      "text/plain": [
       "'Page Title'"
      ]
     },
     "execution_count": 29,
     "metadata": {},
     "output_type": "execute_result"
    }
   ],
   "source": [
    "soup.title.text"
   ]
  },
  {
   "cell_type": "code",
   "execution_count": 30,
   "metadata": {},
   "outputs": [
    {
     "data": {
      "text/plain": [
       "'This is a paragraph.'"
      ]
     },
     "execution_count": 30,
     "metadata": {},
     "output_type": "execute_result"
    }
   ],
   "source": [
    "soup.p.text"
   ]
  },
  {
   "cell_type": "code",
   "execution_count": 38,
   "metadata": {},
   "outputs": [
    {
     "name": "stdout",
     "output_type": "stream",
     "text": [
      "This is a paragraph.\n",
      "This is a second paragraph\n",
      "                                                                     \n",
      "Mouse over this paragraph, to display the title attribute as a tooltip.                         \n",
      "\n"
     ]
    }
   ],
   "source": [
    "for node in soup.find_all('p'):\n",
    "    print(node.text)"
   ]
  },
  {
   "cell_type": "code",
   "execution_count": 39,
   "metadata": {},
   "outputs": [],
   "source": [
    "## Extracting attributes"
   ]
  },
  {
   "cell_type": "code",
   "execution_count": 55,
   "metadata": {},
   "outputs": [
    {
     "data": {
      "text/plain": [
       "\"I'm a tooltip\""
      ]
     },
     "execution_count": 55,
     "metadata": {},
     "output_type": "execute_result"
    }
   ],
   "source": [
    "soup.find_all('p')[2].get('title')"
   ]
  },
  {
   "cell_type": "code",
   "execution_count": 52,
   "metadata": {},
   "outputs": [
    {
     "name": "stdout",
     "output_type": "stream",
     "text": [
      "None\n",
      "None\n",
      "I'm a tooltip\n"
     ]
    }
   ],
   "source": [
    "for node in soup.find_all('p'):\n",
    "    print(node.get('title'))"
   ]
  },
  {
   "cell_type": "code",
   "execution_count": 122,
   "metadata": {},
   "outputs": [],
   "source": [
    "# incase can't open url\n",
    "cinema_url = 'https://www.cinemaclock.com/ont/toronto/movies/in-theatres'\n",
    "req = urllib.request.Request(cinema_url , headers={'User-Agent': 'Mozilla/5.0'})\n",
    "content = urllib.request.urlopen(req).read()\n",
    "# url = urllib.request.urlopen(cinema_url, headers={'User-Agent': 'Mozilla/5.0'})\n",
    "# content = url.read()\n",
    "soup = BeautifulSoup(content, 'lxml')"
   ]
  },
  {
   "cell_type": "code",
   "execution_count": null,
   "metadata": {},
   "outputs": [],
   "source": [
    "# method 1\n",
    "for node in soup.select(\".movietitle a\"):\n",
    "    print(node.text)"
   ]
  },
  {
   "cell_type": "code",
   "execution_count": 104,
   "metadata": {},
   "outputs": [
    {
     "name": "stdout",
     "output_type": "stream",
     "text": [
      "2 Hearts PG-13GPGPGPGPGPG\n",
      "100% Wolf PGGGGGGG\n",
      "The Addams Family PG-13GPGPGPG\n",
      "The Addams Family PGGPGPGPGPGG\n",
      "After We Collided 13+14A14A14A14A14A\n",
      "Alita: Battle Angel PG-13G14APG14A14A14A\n",
      "Annabelle R13+14A14A14A14A14A\n",
      "Annabelle: Creation R13+14A14A14A14A14A\n",
      "Attack the Block R13+14A14A14A14A14A\n",
      "Ballet: Dracula \n",
      "Beetlejuice PGGPGPGPGPG14A\n",
      "Casper PGGPGPGGPG\n",
      "Come Play PG-1313+\n",
      "The Conjuring R13+14A14A14A14A14A\n",
      "The Conjuring 2 R13+14A14A14A14A14A\n",
      "Dawn of the Dead R13+18A18A18ARR\n",
      "The Empty Man R13+14A14A14A14A14A\n",
      "The Exorcist R13+14A18A18A14PAR\n",
      "Ghostbusters PGGPGPGPGPGPG\n",
      "Goodbye, America PG\n",
      "Goosebumps PGGPGPGPGPGPG\n",
      "Gudbay, Amerika PG\n",
      "Halloween R13+R18A18AR18A\n",
      "Harry Potter and the Half-Blood Prince PGGPGPGPGPGPG\n",
      "Hocus Pocus PGGPGPGPGPGPG\n",
      "Honest Thief GPGPGPGPGPG\n",
      "Hotel Transylvania PGGPGPGGGG\n",
      "I Am Greta GPGPGPGPG\n",
      "The Last Shift RGPG14APG\n",
      "Lupin III: The First GPGPGPGPGPG\n",
      "Memories of Murder 14A14A14A14A14A\n",
      "Monster House PGGPGPGPGPGPG\n",
      "Monsters, Inc. GGGGGGG\n",
      "My People, My Homeland PGPGPGPGPG\n",
      "The New Mutants PG-1313+14A14A14A14A14A\n",
      "The Nightmare Before Christmas PGGPGPGPGPGPG\n",
      "A Nightmare on Elm Street R13+18A18A18A18A\n",
      "On the Rocks RG14A14APGPGPG\n",
      "Possessor R18AR18A18A18A\n",
      "The Rocky Horror Picture Show R13+14A14APGPG18A\n",
      "Salinui chueok 14A14A14A14A14A\n",
      "Scream R13+RR18ARR\n",
      "The SpongeBob Movie: Sponge on the Run GGPGGGG\n",
      "Stevie Nicks 24 Karat Gold the Concert PGPGGG\n",
      "Tenet PG-1313+PGPGPGPGPG\n",
      "Unhinged R13+14A14A14A14A14A\n",
      "The War with Grandpa PGGGGGGG\n",
      "Wo He Wo De Jia Xiang PGPGPGPGPG\n",
      "Gudbay, Amerika PG\n",
      "Salinui chueok 14A14A14A14A14A\n",
      "Wo He Wo De Jia Xiang PGPGPGPGPG\n"
     ]
    }
   ],
   "source": [
    "# method 2\n",
    "for node in soup.find_all('h3', {\"class\": \"movietitle\"}): # can use class_ = \"movietitle\" as well\n",
    "    for n in node.find_all('a'):\n",
    "        print(n.get_text())   "
   ]
  },
  {
   "cell_type": "code",
   "execution_count": 93,
   "metadata": {},
   "outputs": [
    {
     "name": "stdout",
     "output_type": "stream",
     "text": [
      "PG-13\n",
      "PG\n",
      "PG-13\n",
      "PG\n",
      "PG-13\n",
      "R\n",
      "R\n",
      "R\n",
      "PG\n",
      "PG\n",
      "PG-13\n",
      "R\n",
      "R\n",
      "R\n",
      "R\n",
      "PG\n",
      "PG\n",
      "R\n",
      "PG\n",
      "PG\n",
      "PG\n",
      "R\n",
      "R\n",
      "PG\n",
      "G\n",
      "PG-13\n",
      "PG\n",
      "R\n",
      "R\n",
      "R\n",
      "R\n",
      "R\n",
      "PG-13\n",
      "R\n",
      "PG\n"
     ]
    }
   ],
   "source": [
    "for node in soup.find_all('h3', {\"class\": \"movietitle\"}):\n",
    "    for n in node.find_all('a'):\n",
    "        for i in n.find_all('span', {'class': 'rtUS'}):\n",
    "            print(i.text)"
   ]
  },
  {
   "cell_type": "markdown",
   "metadata": {},
   "source": [
    "## Client facing web scraping\n",
    "\n",
    "---"
   ]
  },
  {
   "cell_type": "code",
   "execution_count": 105,
   "metadata": {},
   "outputs": [],
   "source": [
    "wiki_url = 'https://en.wikipedia.org/wiki/List_of_the_100_largest_municipalities_in_Canada_by_population'"
   ]
  },
  {
   "cell_type": "code",
   "execution_count": 130,
   "metadata": {},
   "outputs": [],
   "source": [
    "req = urllib.request.Request(wiki_url , headers={'User-Agent': 'Mozilla/5.0'})\n",
    "content = urllib.request.urlopen(req).read()\n",
    "tables = pd.read_html(content)"
   ]
  },
  {
   "cell_type": "code",
   "execution_count": 113,
   "metadata": {},
   "outputs": [
    {
     "data": {
      "text/html": [
       "<div>\n",
       "<style scoped>\n",
       "    .dataframe tbody tr th:only-of-type {\n",
       "        vertical-align: middle;\n",
       "    }\n",
       "\n",
       "    .dataframe tbody tr th {\n",
       "        vertical-align: top;\n",
       "    }\n",
       "\n",
       "    .dataframe thead th {\n",
       "        text-align: right;\n",
       "    }\n",
       "</style>\n",
       "<table border=\"1\" class=\"dataframe\">\n",
       "  <thead>\n",
       "    <tr style=\"text-align: right;\">\n",
       "      <th></th>\n",
       "      <th>Rank(2016)</th>\n",
       "      <th>Municipality</th>\n",
       "      <th>Province</th>\n",
       "      <th>Municipal status</th>\n",
       "      <th>Land area(km2, 2011)</th>\n",
       "      <th>Growth Rate 2011–2016</th>\n",
       "      <th>Population(2016)</th>\n",
       "      <th>Population(2011)</th>\n",
       "      <th>Population(2006)</th>\n",
       "      <th>Population(2001)</th>\n",
       "      <th>Population(1996)</th>\n",
       "    </tr>\n",
       "  </thead>\n",
       "  <tbody>\n",
       "    <tr>\n",
       "      <td>0</td>\n",
       "      <td>1</td>\n",
       "      <td>Toronto</td>\n",
       "      <td>Ontario</td>\n",
       "      <td>City</td>\n",
       "      <td>630.2</td>\n",
       "      <td>4.46%</td>\n",
       "      <td>2731571</td>\n",
       "      <td>2615060</td>\n",
       "      <td>2503281</td>\n",
       "      <td>2481494</td>\n",
       "      <td>2385421</td>\n",
       "    </tr>\n",
       "    <tr>\n",
       "      <td>1</td>\n",
       "      <td>2</td>\n",
       "      <td>Montreal</td>\n",
       "      <td>Quebec</td>\n",
       "      <td>Ville</td>\n",
       "      <td>365.1</td>\n",
       "      <td>3.34%</td>\n",
       "      <td>1704694</td>\n",
       "      <td>1649519</td>\n",
       "      <td>1620693</td>\n",
       "      <td>1583590</td>\n",
       "      <td>1547030</td>\n",
       "    </tr>\n",
       "    <tr>\n",
       "      <td>2</td>\n",
       "      <td>3</td>\n",
       "      <td>Calgary</td>\n",
       "      <td>Alberta</td>\n",
       "      <td>City</td>\n",
       "      <td>825.3</td>\n",
       "      <td>12.99%</td>\n",
       "      <td>1239220</td>\n",
       "      <td>1096833</td>\n",
       "      <td>988193</td>\n",
       "      <td>879003</td>\n",
       "      <td>768082</td>\n",
       "    </tr>\n",
       "    <tr>\n",
       "      <td>3</td>\n",
       "      <td>4</td>\n",
       "      <td>Ottawa</td>\n",
       "      <td>Ontario</td>\n",
       "      <td>City</td>\n",
       "      <td>2790.2</td>\n",
       "      <td>5.76%</td>\n",
       "      <td>934243</td>\n",
       "      <td>883391</td>\n",
       "      <td>812129</td>\n",
       "      <td>774072</td>\n",
       "      <td>721136</td>\n",
       "    </tr>\n",
       "    <tr>\n",
       "      <td>4</td>\n",
       "      <td>5</td>\n",
       "      <td>Edmonton</td>\n",
       "      <td>Alberta</td>\n",
       "      <td>City</td>\n",
       "      <td>684.4</td>\n",
       "      <td>14.82%</td>\n",
       "      <td>932546</td>\n",
       "      <td>812201</td>\n",
       "      <td>730372</td>\n",
       "      <td>666104</td>\n",
       "      <td>616306</td>\n",
       "    </tr>\n",
       "  </tbody>\n",
       "</table>\n",
       "</div>"
      ],
      "text/plain": [
       "   Rank(2016) Municipality Province Municipal status  Land area(km2, 2011)  \\\n",
       "0           1      Toronto  Ontario             City                 630.2   \n",
       "1           2     Montreal   Quebec            Ville                 365.1   \n",
       "2           3      Calgary  Alberta             City                 825.3   \n",
       "3           4       Ottawa  Ontario             City                2790.2   \n",
       "4           5     Edmonton  Alberta             City                 684.4   \n",
       "\n",
       "  Growth Rate 2011–2016  Population(2016)  Population(2011)  Population(2006)  \\\n",
       "0                 4.46%           2731571           2615060           2503281   \n",
       "1                 3.34%           1704694           1649519           1620693   \n",
       "2                12.99%           1239220           1096833            988193   \n",
       "3                 5.76%            934243            883391            812129   \n",
       "4                14.82%            932546            812201            730372   \n",
       "\n",
       "   Population(2001)  Population(1996)  \n",
       "0           2481494           2385421  \n",
       "1           1583590           1547030  \n",
       "2            879003            768082  \n",
       "3            774072            721136  \n",
       "4            666104            616306  "
      ]
     },
     "execution_count": 113,
     "metadata": {},
     "output_type": "execute_result"
    }
   ],
   "source": [
    "ca_table = tables[0]\n",
    "ca_table.head()"
   ]
  },
  {
   "cell_type": "code",
   "execution_count": 116,
   "metadata": {},
   "outputs": [],
   "source": [
    "## Extracting links"
   ]
  },
  {
   "cell_type": "code",
   "execution_count": 131,
   "metadata": {},
   "outputs": [],
   "source": [
    "soup = BeautifulSoup(content, 'lxml')"
   ]
  },
  {
   "cell_type": "code",
   "execution_count": 136,
   "metadata": {},
   "outputs": [],
   "source": [
    "wiki_links = []\n",
    "for node in soup.select('td:nth-child(2) a'):\n",
    "    wiki_links.append(node.get('href'))"
   ]
  },
  {
   "cell_type": "code",
   "execution_count": 137,
   "metadata": {},
   "outputs": [
    {
     "data": {
      "text/plain": [
       "['/wiki/Toronto',\n",
       " '/wiki/Montreal',\n",
       " '/wiki/Calgary',\n",
       " '/wiki/Ottawa',\n",
       " '/wiki/Edmonton',\n",
       " '/wiki/Mississauga',\n",
       " '/wiki/Winnipeg',\n",
       " '/wiki/Vancouver',\n",
       " '/wiki/Brampton',\n",
       " '/wiki/Hamilton,_Ontario',\n",
       " '/wiki/Quebec_City',\n",
       " '/wiki/Surrey,_British_Columbia',\n",
       " '/wiki/Laval,_Quebec',\n",
       " '/wiki/Halifax,_Nova_Scotia',\n",
       " '/wiki/London,_Ontario',\n",
       " '/wiki/Markham,_Ontario',\n",
       " '/wiki/Vaughan',\n",
       " '/wiki/Gatineau',\n",
       " '/wiki/Saskatoon',\n",
       " '/wiki/Longueuil',\n",
       " '/wiki/Kitchener,_Ontario',\n",
       " '/wiki/Burnaby',\n",
       " '/wiki/Windsor,_Ontario',\n",
       " '/wiki/Regina,_Saskatchewan',\n",
       " '/wiki/Richmond,_British_Columbia',\n",
       " '/wiki/Richmond_Hill,_Ontario',\n",
       " '/wiki/Oakville,_Ontario',\n",
       " '/wiki/Burlington,_Ontario',\n",
       " '/wiki/Greater_Sudbury',\n",
       " '/wiki/Sherbrooke',\n",
       " '/wiki/Oshawa',\n",
       " '/wiki/Saguenay,_Quebec',\n",
       " '/wiki/L%C3%A9vis,_Quebec',\n",
       " '/wiki/Barrie',\n",
       " '/wiki/Abbotsford,_British_Columbia',\n",
       " '/wiki/Coquitlam',\n",
       " '/wiki/Trois-Rivi%C3%A8res',\n",
       " '/wiki/St._Catharines',\n",
       " '/wiki/Guelph',\n",
       " '/wiki/Cambridge,_Ontario',\n",
       " '/wiki/Whitby,_Ontario',\n",
       " '/wiki/Kelowna',\n",
       " '/wiki/Kingston,_Ontario',\n",
       " '/wiki/Ajax,_Ontario',\n",
       " '/wiki/Langley,_British_Columbia_(district_municipality)',\n",
       " '/wiki/Saanich,_British_Columbia',\n",
       " '/wiki/Terrebonne,_Quebec',\n",
       " '/wiki/Milton,_Ontario',\n",
       " '/wiki/St._John%27s,_Newfoundland_and_Labrador',\n",
       " '/wiki/Thunder_Bay',\n",
       " '/wiki/Waterloo,_Ontario',\n",
       " '/wiki/Delta,_British_Columbia',\n",
       " '/wiki/Chatham-Kent',\n",
       " '/wiki/Red_Deer,_Alberta',\n",
       " '/wiki/Strathcona_County',\n",
       " '/wiki/Brantford',\n",
       " '/wiki/Saint-Jean-sur-Richelieu',\n",
       " '/wiki/Cape_Breton_Regional_Municipality',\n",
       " '/wiki/Lethbridge',\n",
       " '/wiki/Clarington',\n",
       " '/wiki/Pickering,_Ontario',\n",
       " '/wiki/Nanaimo',\n",
       " '/wiki/Kamloops',\n",
       " '/wiki/Niagara_Falls,_Ontario',\n",
       " '/wiki/North_Vancouver_(district_municipality)',\n",
       " '/wiki/Victoria,_British_Columbia',\n",
       " '/wiki/Brossard',\n",
       " '/wiki/Repentigny,_Quebec',\n",
       " '/wiki/Newmarket,_Ontario',\n",
       " '/wiki/Chilliwack',\n",
       " '/wiki/Maple_Ridge,_British_Columbia',\n",
       " '/wiki/Peterborough,_Ontario',\n",
       " '/wiki/Kawartha_Lakes',\n",
       " '/wiki/Drummondville',\n",
       " '/wiki/Saint-J%C3%A9r%C3%B4me,_Quebec',\n",
       " '/wiki/Prince_George,_British_Columbia',\n",
       " '/wiki/Sault_Ste._Marie,_Ontario',\n",
       " '/wiki/Moncton',\n",
       " '/wiki/Sarnia',\n",
       " '/wiki/Regional_Municipality_of_Wood_Buffalo',\n",
       " '/wiki/New_Westminster',\n",
       " '/wiki/Saint_John,_New_Brunswick',\n",
       " '/wiki/Caledon,_Ontario',\n",
       " '/wiki/Granby,_Quebec',\n",
       " '/wiki/St._Albert,_Alberta',\n",
       " '/wiki/Norfolk_County,_Ontario',\n",
       " '/wiki/Medicine_Hat',\n",
       " '/wiki/Grande_Prairie',\n",
       " '/wiki/Airdrie,_Alberta',\n",
       " '/wiki/Halton_Hills,_Ontario',\n",
       " '/wiki/Port_Coquitlam',\n",
       " '/wiki/Fredericton',\n",
       " '/wiki/Blainville,_Quebec',\n",
       " '/wiki/Saint-Hyacinthe,_Quebec',\n",
       " '/wiki/Aurora,_Ontario',\n",
       " '/wiki/North_Vancouver_(city)',\n",
       " '/wiki/Welland',\n",
       " '/wiki/North_Bay,_Ontario',\n",
       " '/wiki/Belleville,_Ontario',\n",
       " '/wiki/Mirabel,_Quebec']"
      ]
     },
     "execution_count": 137,
     "metadata": {},
     "output_type": "execute_result"
    }
   ],
   "source": [
    "wiki_links = wiki_links[0:100]\n",
    "wiki_links"
   ]
  },
  {
   "cell_type": "code",
   "execution_count": 138,
   "metadata": {},
   "outputs": [],
   "source": [
    "## Extracting the latitude and longitude"
   ]
  },
  {
   "cell_type": "code",
   "execution_count": 139,
   "metadata": {},
   "outputs": [],
   "source": [
    "base_url = 'https://en.wikipedia.org'\n",
    "city_url = base_url + wiki_links[0]"
   ]
  },
  {
   "cell_type": "code",
   "execution_count": 148,
   "metadata": {},
   "outputs": [],
   "source": [
    "search_pattern = 'geohack.toolforge.org/geohack'"
   ]
  },
  {
   "cell_type": "code",
   "execution_count": 140,
   "metadata": {},
   "outputs": [],
   "source": [
    "req = urllib.request.Request(city_url , headers={'User-Agent': 'Mozilla/5.0'})\n",
    "content = urllib.request.urlopen(req).read()\n",
    "soup = BeautifulSoup(content, 'lxml')"
   ]
  },
  {
   "cell_type": "code",
   "execution_count": 146,
   "metadata": {},
   "outputs": [],
   "source": [
    "import re"
   ]
  },
  {
   "cell_type": "code",
   "execution_count": 177,
   "metadata": {},
   "outputs": [],
   "source": [
    "url_l = []\n",
    "for node in soup.select('a'):\n",
    "    temp = node.get('href')\n",
    "    if temp != None:\n",
    "        if re.search(search_pattern, temp) != None:\n",
    "            url_l.append(temp)\n",
    "url_l = url_l[0]\n",
    "geo_link = 'https:' + url_l"
   ]
  },
  {
   "cell_type": "code",
   "execution_count": 178,
   "metadata": {},
   "outputs": [],
   "source": [
    "req = urllib.request.Request(geo_link , headers={'User-Agent': 'Mozilla/5.0'})\n",
    "content = urllib.request.urlopen(req).read()\n",
    "soup = BeautifulSoup(content, 'lxml')"
   ]
  },
  {
   "cell_type": "code",
   "execution_count": 185,
   "metadata": {},
   "outputs": [
    {
     "name": "stdout",
     "output_type": "stream",
     "text": [
      "43.741667\n"
     ]
    }
   ],
   "source": [
    "lat = soup.select('.latitude')[0].text\n",
    "print(lat)"
   ]
  },
  {
   "cell_type": "code",
   "execution_count": null,
   "metadata": {},
   "outputs": [],
   "source": []
  }
 ],
 "metadata": {
  "kernelspec": {
   "display_name": "Python 3",
   "language": "python",
   "name": "python3"
  },
  "language_info": {
   "codemirror_mode": {
    "name": "ipython",
    "version": 3
   },
   "file_extension": ".py",
   "mimetype": "text/x-python",
   "name": "python",
   "nbconvert_exporter": "python",
   "pygments_lexer": "ipython3",
   "version": "3.7.4"
  }
 },
 "nbformat": 4,
 "nbformat_minor": 2
}
