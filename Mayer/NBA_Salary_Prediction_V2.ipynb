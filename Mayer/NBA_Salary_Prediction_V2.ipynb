{
 "cells": [
  {
   "cell_type": "markdown",
   "metadata": {},
   "source": [
    "## Import Library\n",
    "\n",
    "---"
   ]
  },
  {
   "cell_type": "code",
   "execution_count": 1,
   "metadata": {},
   "outputs": [],
   "source": [
    "import pandas as pd\n",
    "import numpy as np\n",
    "import seaborn as sns\n",
    "from matplotlib import pyplot as plt\n",
    "import difflib\n",
    "# machine learning lib\n",
    "from sklearn.preprocessing import LabelEncoder, MinMaxScaler\n",
    "from sklearn.model_selection import KFold, train_test_split\n",
    "from sklearn.linear_model import LinearRegression\n",
    "import statsmodels.api as sm\n",
    "from sklearn.ensemble import RandomForestRegressor, RandomForestClassifier\n",
    "import xgboost as xgb\n",
    "from sklearn.metrics import mean_absolute_error, mean_squared_error"
   ]
  },
  {
   "cell_type": "markdown",
   "metadata": {},
   "source": [
    "## Get Data\n",
    "\n",
    "---"
   ]
  },
  {
   "cell_type": "code",
   "execution_count": 2,
   "metadata": {},
   "outputs": [],
   "source": [
    "# get csv files of player stats ,salary and inflation rate\n",
    "salary_df = pd.read_csv('nba_salary_ESPN_cleaned.csv')\n",
    "player_df = pd.read_csv('nba_player_stats_official.csv')\n",
    "inflation_df = pd.read_csv('inflation_rates.csv')"
   ]
  },
  {
   "cell_type": "code",
   "execution_count": 3,
   "metadata": {},
   "outputs": [],
   "source": [
    "# convert year by taking first 4 char of year feature\n",
    "# i.e. 2019-20 will be 2019 now\n",
    "player_df['year'] = player_df['year'].apply(lambda x: x[:4]).astype(int)\n",
    "\n",
    "# convert year by subtracting year by 2\n",
    "# i.e. 2020 will be 2018 now\n",
    "salary_df['year'] = salary_df['year'].apply(lambda x: x - 2).astype(int)"
   ]
  },
  {
   "cell_type": "code",
   "execution_count": 4,
   "metadata": {},
   "outputs": [],
   "source": [
    "# get close match for each name in salary dataframe with player dataframe\n",
    "player_name = player_df['PLAYER_NAME'].unique()\n",
    "salary_df['name_close_match'] = salary_df['NAME'].apply(\n",
    "    lambda x: (difflib.get_close_matches(x, player_name)[:1] or [None])[0])"
   ]
  },
  {
   "cell_type": "code",
   "execution_count": 5,
   "metadata": {},
   "outputs": [],
   "source": [
    "# inner join salary and player stats by player name and year\n",
    "df = player_df.merge(salary_df, how = 'inner', \n",
    "                     left_on=['PLAYER_NAME','year'], right_on = ['name_close_match','year'])"
   ]
  },
  {
   "cell_type": "code",
   "execution_count": 6,
   "metadata": {},
   "outputs": [],
   "source": [
    "# inner join inflation factor\n",
    "inflation_df['Year'] = inflation_df['Year'] - 1\n",
    "df = df.merge(inflation_df, how = 'inner', \n",
    "              left_on = ['year'], right_on = ['Year'])"
   ]
  },
  {
   "cell_type": "code",
   "execution_count": 7,
   "metadata": {},
   "outputs": [],
   "source": [
    "# adjust raw salary based on inflation rate\n",
    "df['SALARY_ADJ'] = df['SALARY'] * df['inf_factor']"
   ]
  },
  {
   "cell_type": "code",
   "execution_count": 8,
   "metadata": {},
   "outputs": [
    {
     "data": {
      "text/plain": [
       "(7796, 76)"
      ]
     },
     "execution_count": 8,
     "metadata": {},
     "output_type": "execute_result"
    }
   ],
   "source": [
    "# get data shape\n",
    "df.shape"
   ]
  },
  {
   "cell_type": "markdown",
   "metadata": {},
   "source": [
    "## Data Cleaning\n",
    "\n",
    "---"
   ]
  },
  {
   "cell_type": "code",
   "execution_count": 9,
   "metadata": {},
   "outputs": [],
   "source": [
    "# remove outliers\n",
    "Q1 = df.SALARY_ADJ.quantile(0.25)\n",
    "Q3 = df.SALARY_ADJ.quantile(0.75)\n",
    "IQR = Q3 - Q1\n",
    "df = df.loc[df['SALARY_ADJ'] <= Q3 + 1.5 * IQR]\n",
    "df = df.loc[df['SALARY_ADJ'] >= Q1 - 1.5 * IQR]\n",
    "df.reset_index(inplace = True, drop = True)\n",
    "\n",
    "# change year feature's name to upper case\n",
    "df['YEAR'] = df['year']\n",
    "df.drop(['year'], 1, inplace = True)"
   ]
  },
  {
   "cell_type": "code",
   "execution_count": 10,
   "metadata": {},
   "outputs": [
    {
     "data": {
      "text/plain": [
       "count        7331.000000\n",
       "mean      5084220.609078\n",
       "std       4672324.100461\n",
       "min          5639.488065\n",
       "25%       1416852.000000\n",
       "50%       3435779.711918\n",
       "75%       7457138.713570\n",
       "max      19089412.059557\n",
       "Name: SALARY_ADJ, dtype: object"
      ]
     },
     "execution_count": 10,
     "metadata": {},
     "output_type": "execute_result"
    }
   ],
   "source": [
    "# get stats of adjusted salary\n",
    "df.SALARY_ADJ.describe().apply(lambda x: format(x, 'f'))"
   ]
  },
  {
   "cell_type": "code",
   "execution_count": 11,
   "metadata": {},
   "outputs": [
    {
     "data": {
      "image/png": "[encoded data removed]",
      "text/plain": [
       "<Figure size 432x288 with 1 Axes>"
      ]
     },
     "metadata": {
      "needs_background": "light"
     },
     "output_type": "display_data"
    }
   ],
   "source": [
    "# plot the adjusted salary distribution\n",
    "axarr = df.hist('SALARY_ADJ')\n",
    "for ax in axarr.flatten():\n",
    "    ax.set_xlabel('Adjusted Salary')\n",
    "    ax.set_ylabel('Count')\n",
    "    ax.set_title('Adjusted Salary')"
   ]
  },
  {
   "cell_type": "code",
   "execution_count": 12,
   "metadata": {},
   "outputs": [
    {
     "data": {
      "image/png": "[encoded data removed]",
      "text/plain": [
       "<Figure size 432x288 with 1 Axes>"
      ]
     },
     "metadata": {
      "needs_background": "light"
     },
     "output_type": "display_data"
    }
   ],
   "source": [
    "# take log transformation for salary\n",
    "df['SALARY_LOG'] = np.log(df['SALARY_ADJ'])\n",
    "\n",
    "# plot the log salary distribution\n",
    "axarr = df.hist('SALARY_LOG')\n",
    "for ax in axarr.flatten():\n",
    "    ax.set_xlabel('Log Transformed Adjusted Salary')\n",
    "    ax.set_ylabel('Count')\n",
    "    ax.set_title('Log Transformed Adjusted Salary')"
   ]
  },
  {
   "cell_type": "code",
   "execution_count": 13,
   "metadata": {},
   "outputs": [],
   "source": [
    "# label encode TEAM_ABBREVIATION to numbers\n",
    "le = LabelEncoder()\n",
    "le.fit(df['TEAM_ABBREVIATION'])\n",
    "df['TEAM_ABBREVIATION'] = le.transform(df['TEAM_ABBREVIATION'])"
   ]
  },
  {
   "cell_type": "code",
   "execution_count": 14,
   "metadata": {},
   "outputs": [],
   "source": [
    "# split features and raw target\n",
    "X = df[[\n",
    "    'GP', 'MIN', 'FG_PCT', 'FGM', 'FGA', 'FG3M', 'FG3A',\n",
    "    'FG3_PCT', 'FTM', 'FTA', 'FT_PCT', 'OREB', 'DREB', \n",
    "    'REB', 'AST', 'BLK', 'STL', 'PF', 'TOV', 'PTS', 'YEAR', 'TEAM_ABBREVIATION']]\n",
    "y = df['SALARY_ADJ']\n",
    "\n",
    "# train test split\n",
    "X_train, X_test, y_train, y_test = train_test_split(X, y, \n",
    "    test_size = 0.25, random_state = 57)\n",
    "\n",
    "# transform features by scaling each feature to (0, 1)\n",
    "mms = MinMaxScaler()\n",
    "mms.fit(X)\n",
    "X_train_scaled = mms.transform(X_train)\n",
    "X_test_scaled = mms.transform(X_test)"
   ]
  },
  {
   "cell_type": "code",
   "execution_count": 15,
   "metadata": {},
   "outputs": [],
   "source": [
    "# split features and log salary\n",
    "X = df[[\n",
    "    'GP', 'MIN', 'FG_PCT', 'FGM', 'FGA', 'FG3M', 'FG3A',\n",
    "    'FG3_PCT', 'FTM', 'FTA', 'FT_PCT', 'OREB', 'DREB', \n",
    "    'REB', 'AST', 'BLK', 'STL', 'PF', 'TOV', 'PTS', 'YEAR', 'TEAM_ABBREVIATION']]\n",
    "y = df['SALARY_LOG']\n",
    "\n",
    "# train test split for log salary\n",
    "X_log_train, X_log_test, y_log_train, y_log_test = train_test_split(X, y, \n",
    "    test_size = 0.25, random_state = 57)\n",
    "\n",
    "# transform features by scaling each feature to (0, 1)\n",
    "mms = MinMaxScaler()\n",
    "mms.fit(X)\n",
    "X_log_train_scaled = mms.transform(X_log_train)\n",
    "X_log_test_scaled = mms.transform(X_log_test)"
   ]
  },
  {
   "cell_type": "markdown",
   "metadata": {},
   "source": [
    "## Model\n",
    "\n",
    "---"
   ]
  },
  {
   "cell_type": "markdown",
   "metadata": {},
   "source": [
    "###### Linear Regression"
   ]
  },
  {
   "cell_type": "code",
   "execution_count": 16,
   "metadata": {},
   "outputs": [],
   "source": [
    "# cross validation for Linear Regression\n",
    "def lr_cv(X_tr, y_tr, X_te, y_te, n_splits = 5):\n",
    "\n",
    "    # define kfold and loop through each iteration\n",
    "    kf = KFold(n_splits = n_splits, shuffle = True, random_state = 57)\n",
    "\n",
    "    # out of fold empty array\n",
    "    oof = np.zeros(shape = (X_tr.shape[0]))\n",
    "    # folds empty array\n",
    "    folds = np.zeros(shape = (X_tr.shape[0]))\n",
    "    # test empty array\n",
    "    t_fold = np.zeros(shape = (X_te.shape[0]))\n",
    "\n",
    "    # initial train, test and validation MAE\n",
    "    mae_train = []\n",
    "    mae_valid = []\n",
    "    mae_test = []\n",
    "    \n",
    "    for ti, vi in kf.split(X_tr):\n",
    "        \n",
    "        # split train and valid dataframe\n",
    "        train_features, train_labels = X_tr[ti], y_tr[ti]\n",
    "        valid_features, valid_labels = X_tr[vi], y_tr[vi]\n",
    "\n",
    "        X_const = sm.add_constant(train_features)\n",
    "        model = sm.OLS(train_labels, X_const)\n",
    "        res = model.fit()\n",
    "        \n",
    "        oof[vi] = res.predict(sm.add_constant(valid_features))\n",
    "        folds[ti] = res.predict(X_const)\n",
    "        t_fold += res.predict(sm.add_constant(X_te))\n",
    "        \n",
    "        # update MAE score for train and validation\n",
    "        mae_train.append(mean_absolute_error(train_labels, folds[ti]))\n",
    "        mae_valid.append(mean_absolute_error(valid_labels, oof[vi]))\n",
    "    \n",
    "    # update MAE score for test\n",
    "    mae_test.append(mean_absolute_error(y_te, np.round(t_fold / n_splits)))\n",
    "    \n",
    "    return mae_train, mae_valid, mae_test, res"
   ]
  },
  {
   "cell_type": "code",
   "execution_count": 17,
   "metadata": {},
   "outputs": [
    {
     "name": "stdout",
     "output_type": "stream",
     "text": [
      "Mean Absolute Error for training set is  2630391.631107287\n",
      "Mean Absolute Error for validation set is  2643527.538128403\n",
      "Mean Absolute Error for testing set is  2657534.652467322\n",
      "\n",
      "Result Summary:\n",
      "\n",
      "                       Results: Ordinary least squares\n",
      "=============================================================================\n",
      "Model:                 OLS                 Adj. R-squared:        0.412      \n",
      "Dependent Variable:    y                   AIC:                   145222.6687\n",
      "Date:                  2020-11-26 23:03    BIC:                   145369.6188\n",
      "No. Observations:      4399                Log-Likelihood:        -72588.    \n",
      "Df Model:              22                  F-statistic:           141.1      \n",
      "Df Residuals:          4376                Prob (F-statistic):    0.00       \n",
      "R-squared:             0.415               Scale:                 1.2661e+13 \n",
      "-----------------------------------------------------------------------------\n",
      "          Coef.        Std.Err.      t    P>|t|      [0.025         0.975]   \n",
      "-----------------------------------------------------------------------------\n",
      "const  1324489.5129   518047.7651  2.5567 0.0106    308853.6360  2340125.3898\n",
      "x1     -549785.9586   272494.7091 -2.0176 0.0437  -1084013.5365   -15558.3807\n",
      "x2     4344422.6496   896699.1217  4.8449 0.0000   2586438.4248  6102406.8744\n",
      "x3     -702696.9023  1012961.1058 -0.6937 0.4879  -2688613.4726  1283219.6681\n",
      "x4    -4956706.6513 16331849.5877 -0.3035 0.7615 -36975399.7028 27061986.4002\n",
      "x5    -6465382.1536  3451817.1087 -1.8730 0.0611 -13232691.1397   301926.8325\n",
      "x6     1025321.1269  4550491.9851  0.2253 0.8217  -7895946.8118  9946589.0655\n",
      "x7    -1879482.2788  2506494.7152 -0.7498 0.4534  -6793480.8121  3034516.2545\n",
      "x8    -1420881.5456   430787.2337 -3.2983 0.0010  -2265442.6059  -576320.4852\n",
      "x9      841405.9285  7167307.5859  0.1174 0.9066 -13210145.3282 14892957.1852\n",
      "x10   -3480426.6735  2700570.2280 -1.2888 0.1975  -8774911.4611  1814058.1141\n",
      "x11    -870054.5297   418375.9667 -2.0796 0.0376  -1690283.2238   -49825.8356\n",
      "x12    2776592.5718  6019388.6745  0.4613 0.6446  -9024456.4944 14577641.6379\n",
      "x13   13673415.0269 12549384.2123  1.0896 0.2760 -10929731.0481 38276561.1018\n",
      "x14   -8553068.4009 17739926.2592 -0.4821 0.6297 -43332304.5554 26226167.7536\n",
      "x15    4995195.1012   779144.2337  6.4111 0.0000   3467677.9681  6522712.2343\n",
      "x16    3312003.7311   648166.7771  5.1098 0.0000   2041268.7191  4582738.7430\n",
      "x17   -1735295.3179   607535.8044 -2.8563 0.0043  -2926373.0543  -544217.5815\n",
      "x18   -2276860.9005   736456.4814 -3.0916 0.0020  -3720688.4289  -833033.3721\n",
      "x19   -1948873.7799  1003633.2989 -1.9418 0.0522  -3916503.1265    18755.5667\n",
      "x20   21978349.0827 23400353.9167  0.9392 0.3477 -23898190.8238 67854888.9891\n",
      "x21    -341766.3916   217578.8760 -1.5708 0.1163   -768331.1361    84798.3528\n",
      "x22     139604.2069   185522.7291  0.7525 0.4518   -224114.2615   503322.6753\n",
      "-----------------------------------------------------------------------------\n",
      "Omnibus:                  423.297          Durbin-Watson:             1.972  \n",
      "Prob(Omnibus):            0.000            Jarque-Bera (JB):          653.407\n",
      "Skew:                     0.719            Prob(JB):                  0.000  \n",
      "Kurtosis:                 4.225            Condition No.:             1071   \n",
      "=============================================================================\n",
      "* The condition number is large (1e+03). This might indicate\n",
      "strong multicollinearity or other numerical problems.\n"
     ]
    }
   ],
   "source": [
    "mae_train, mae_valid, mae_test, res = lr_cv(X_train_scaled,  y_train.values, \n",
    "                                       X_test_scaled, y_test.values, n_splits = 5)\n",
    "print('Mean Absolute Error for training set is ', np.mean(mae_train))\n",
    "print('Mean Absolute Error for validation set is ', np.mean(mae_valid))\n",
    "print('Mean Absolute Error for testing set is ', np.mean(mae_test))\n",
    "print('\\nResult Summary:\\n')\n",
    "_ = print(res.summary2())"
   ]
  },
  {
   "cell_type": "markdown",
   "metadata": {},
   "source": [
    "###### Linear Regression - Log Transformation"
   ]
  },
  {
   "cell_type": "code",
   "execution_count": 18,
   "metadata": {},
   "outputs": [],
   "source": [
    "# cross validation for Linear Regression\n",
    "def lr_log_cv(X_tr, y_tr, X_te, y_te, n_splits = 5):\n",
    "\n",
    "    # define kfold and loop through each iteration\n",
    "    kf = KFold(n_splits = n_splits, shuffle = True, random_state = 57)\n",
    "\n",
    "    # out of fold empty array\n",
    "    oof = np.zeros(shape = (X_tr.shape[0]))\n",
    "    # folds empty array\n",
    "    folds = np.zeros(shape = (X_tr.shape[0]))\n",
    "    # test empty array\n",
    "    t_fold = np.zeros(shape = (X_te.shape[0]))\n",
    "\n",
    "    # initial train, test and validation MAE\n",
    "    mae_train = []\n",
    "    mae_valid = []\n",
    "    mae_test = []\n",
    "    \n",
    "    for ti, vi in kf.split(X_tr):\n",
    "        \n",
    "        # split train and valid dataframe\n",
    "        train_features, train_labels = X_tr[ti], y_tr[ti]\n",
    "        valid_features, valid_labels = X_tr[vi], y_tr[vi]\n",
    "\n",
    "        X_const = sm.add_constant(train_features)\n",
    "        model = sm.OLS(train_labels, X_const)\n",
    "        res = model.fit()\n",
    "        \n",
    "        oof[vi] = res.predict(sm.add_constant(valid_features))\n",
    "        folds[ti] = res.predict(X_const)\n",
    "        t_fold += res.predict(sm.add_constant(X_te))\n",
    "        \n",
    "        # update MAE score for train and validation\n",
    "        mae_train.append(mean_absolute_error(np.e**train_labels, np.e**folds[ti]))\n",
    "        mae_valid.append(mean_absolute_error(np.e**valid_labels, np.e**oof[vi]))\n",
    "    \n",
    "    # update MAE score for test\n",
    "    mae_test.append(mean_absolute_error(np.e**y_te, np.e**(np.round(t_fold / n_splits))))\n",
    "    \n",
    "    return mae_train, mae_valid, mae_test, res"
   ]
  },
  {
   "cell_type": "code",
   "execution_count": 19,
   "metadata": {},
   "outputs": [
    {
     "name": "stdout",
     "output_type": "stream",
     "text": [
      "Mean Absolute Error for training set is  2608951.783782035\n",
      "Mean Absolute Error for validation set is  2624046.5130878882\n",
      "Mean Absolute Error for testing set is  2697610.44458294\n",
      "\n",
      "Result Summary:\n",
      "\n",
      "                  Results: Ordinary least squares\n",
      "===================================================================\n",
      "Model:              OLS              Adj. R-squared:     0.379     \n",
      "Dependent Variable: y                AIC:                11236.5446\n",
      "Date:               2020-11-26 23:03 BIC:                11383.4947\n",
      "No. Observations:   4399             Log-Likelihood:     -5595.3   \n",
      "Df Model:           22               F-statistic:        123.2     \n",
      "Df Residuals:       4376             Prob (F-statistic): 0.00      \n",
      "R-squared:          0.382            Scale:              0.74920   \n",
      "---------------------------------------------------------------------\n",
      "            Coef.    Std.Err.      t       P>|t|     [0.025    0.975]\n",
      "---------------------------------------------------------------------\n",
      "const      13.5969     0.1260   107.8967   0.0000   13.3498   13.8439\n",
      "x1          0.3927     0.0663     5.9243   0.0000    0.2627    0.5226\n",
      "x2          1.4154     0.2181     6.4891   0.0000    0.9878    1.8431\n",
      "x3          0.0478     0.2464     0.1938   0.8463   -0.4353    0.5308\n",
      "x4         -0.0537     3.9728    -0.0135   0.9892   -7.8424    7.7350\n",
      "x5         -0.7954     0.8397    -0.9473   0.3435   -2.4416    0.8508\n",
      "x6          1.4630     1.1069     1.3217   0.1863   -0.7071    3.6332\n",
      "x7         -1.0196     0.6097    -1.6723   0.0945   -2.2150    0.1758\n",
      "x8         -0.3639     0.1048    -3.4730   0.0005   -0.5694   -0.1585\n",
      "x9          0.7620     1.7435     0.4371   0.6621   -2.6561    4.1801\n",
      "x10        -0.7962     0.6569    -1.2120   0.2256   -2.0841    0.4917\n",
      "x11        -0.0468     0.1018    -0.4603   0.6454   -0.2464    0.1527\n",
      "x12        -1.4000     1.4642    -0.9561   0.3391   -4.2707    1.4706\n",
      "x13        -1.6691     3.0527    -0.5468   0.5846   -7.6539    4.3158\n",
      "x14         4.1133     4.3153     0.9532   0.3406   -4.3469   12.5735\n",
      "x15         0.6959     0.1895     3.6719   0.0002    0.3244    1.0675\n",
      "x16         0.6897     0.1577     4.3746   0.0000    0.3806    0.9988\n",
      "x17        -0.3369     0.1478    -2.2798   0.0227   -0.6267   -0.0472\n",
      "x18        -0.0597     0.1791    -0.3334   0.7389   -0.4109    0.2915\n",
      "x19        -0.1607     0.2441    -0.6584   0.5103   -0.6394    0.3179\n",
      "x20         1.6244     5.6922     0.2854   0.7754   -9.5352   12.7841\n",
      "x21        -0.1116     0.0529    -2.1081   0.0351   -0.2153   -0.0078\n",
      "x22         0.0654     0.0451     1.4497   0.1472   -0.0231    0.1539\n",
      "-------------------------------------------------------------------\n",
      "Omnibus:             892.134       Durbin-Watson:          2.006   \n",
      "Prob(Omnibus):       0.000         Jarque-Bera (JB):       2756.010\n",
      "Skew:                -1.034        Prob(JB):               0.000   \n",
      "Kurtosis:            6.280         Condition No.:          1071    \n",
      "===================================================================\n",
      "* The condition number is large (1e+03). This might indicate\n",
      "strong multicollinearity or other numerical problems.\n"
     ]
    }
   ],
   "source": [
    "mae_train, mae_valid, mae_test, res = lr_log_cv(X_log_train_scaled,  y_log_train.values, \n",
    "                                       X_log_test_scaled, y_log_test.values, n_splits = 5)\n",
    "print('Mean Absolute Error for training set is ', np.mean(mae_train))\n",
    "print('Mean Absolute Error for validation set is ', np.mean(mae_valid))\n",
    "print('Mean Absolute Error for testing set is ', np.mean(mae_test))\n",
    "print('\\nResult Summary:\\n')\n",
    "_ = print(res.summary2())"
   ]
  },
  {
   "cell_type": "markdown",
   "metadata": {},
   "source": [
    "###### Random Forest"
   ]
  },
  {
   "cell_type": "code",
   "execution_count": 20,
   "metadata": {},
   "outputs": [],
   "source": [
    "# cross validation for Random Forest\n",
    "def rf_cv(X_tr, y_tr, X_te, y_te, n_splits = 5, n = 100):\n",
    "\n",
    "    # define kfold and loop through each iteration\n",
    "    kf = KFold(n_splits = n_splits, shuffle = True, random_state = 57)\n",
    "\n",
    "    # out of fold empty array\n",
    "    oof = np.zeros(shape = (X_tr.shape[0]))\n",
    "    # folds empty array\n",
    "    folds = np.zeros(shape = (X_tr.shape[0]))\n",
    "    # test empty array\n",
    "    t_fold = np.zeros(shape = (X_te.shape[0]))\n",
    "\n",
    "    # initial train, test and validation MAE\n",
    "    mae_train = []\n",
    "    mae_valid = []\n",
    "    mae_test = []\n",
    "    \n",
    "    for ti, vi in kf.split(X_tr):\n",
    "        \n",
    "        # split train and valid dataframe\n",
    "        train_features, train_labels = X_tr.loc[ti], y_tr[ti]\n",
    "        valid_features, valid_labels = X_tr.loc[vi], y_tr[vi]\n",
    "\n",
    "        rf = RandomForestRegressor(n_estimators = n, max_depth = 7, random_state = 57)\n",
    "        rf.fit(train_features, train_labels)\n",
    "        \n",
    "        oof[vi] = rf.predict(valid_features)\n",
    "        folds[ti] = rf.predict(train_features)\n",
    "        t_fold += rf.predict(X_te)\n",
    "        \n",
    "        # update MAE score for train and validation\n",
    "        mae_train.append(mean_absolute_error(train_labels, folds[ti]))\n",
    "        mae_valid.append(mean_absolute_error(valid_labels, oof[vi]))\n",
    "    \n",
    "    # update MAE score for test\n",
    "    mae_test.append(mean_absolute_error(y_te, np.round(t_fold / n_splits)))\n",
    "    \n",
    "    return mae_train, mae_valid, mae_test"
   ]
  },
  {
   "cell_type": "code",
   "execution_count": 21,
   "metadata": {},
   "outputs": [
    {
     "name": "stdout",
     "output_type": "stream",
     "text": [
      "Best Model:\n",
      "N =  150\n",
      "Training MAE:  2217324.2576361643\n",
      "Validation MAE:  2599302.363417224\n",
      "Testing MAE:  2576967.6414939314\n"
     ]
    }
   ],
   "source": [
    "# grid search for best model based on MAE score\n",
    "mae_train_list = []\n",
    "mae_valid_list = []\n",
    "mae_test_list = []\n",
    "N = []\n",
    "X_train.reset_index(drop = True, inplace = True)\n",
    "for n in [50, 100, 150, 200]:\n",
    "    mae_train, mae_valid, mae_test = rf_cv(X_train,  y_train.values, X_test, y_test.values, n_splits = 5, n = n)\n",
    "    N.append(n)\n",
    "    mae_train_list.append(np.mean(mae_train))\n",
    "    mae_valid_list.append(np.mean(mae_valid))\n",
    "    mae_test_list.append(mae_test)\n",
    "    \n",
    "print('Best Model:')\n",
    "print('N = ', N[mae_valid_list.index(np.min(mae_valid_list))])\n",
    "print('Training MAE: ', mae_train_list[mae_valid_list.index(np.min(mae_valid_list))])\n",
    "print('Validation MAE: ', mae_valid_list[mae_valid_list.index(np.min(mae_valid_list))])\n",
    "print('Testing MAE: ', mae_test_list[mae_valid_list.index(np.min(mae_valid_list))][0])"
   ]
  },
  {
   "cell_type": "markdown",
   "metadata": {},
   "source": [
    "###### Random Forest - Log Transformation"
   ]
  },
  {
   "cell_type": "code",
   "execution_count": 22,
   "metadata": {},
   "outputs": [],
   "source": [
    "# cross validation for Random Forest\n",
    "def rf_log_cv(X_tr, y_tr, X_te, y_te, n_splits = 10, n = 100):\n",
    "\n",
    "    # define kfold and loop through each iteration\n",
    "    kf = KFold(n_splits = n_splits, shuffle = True, random_state = 57)\n",
    "\n",
    "    # out of fold empty array\n",
    "    oof = np.zeros(shape = (X_tr.shape[0]))\n",
    "    # folds empty array\n",
    "    folds = np.zeros(shape = (X_tr.shape[0]))\n",
    "    # test empty array\n",
    "    t_fold = np.zeros(shape = (X_te.shape[0]))\n",
    "\n",
    "    # initial train, test and validation MAE\n",
    "    mae_train = []\n",
    "    mae_valid = []\n",
    "    mae_test = []\n",
    "    \n",
    "    for ti, vi in kf.split(X_tr):\n",
    "        \n",
    "        # split train and valid dataframe\n",
    "        train_features, train_labels = X_tr.loc[ti], y_tr[ti]\n",
    "        valid_features, valid_labels = X_tr.loc[vi], y_tr[vi]\n",
    "\n",
    "        rf = RandomForestRegressor(n_estimators = n, max_depth = 6, random_state = 57)\n",
    "        rf.fit(train_features, train_labels)\n",
    "        \n",
    "        oof[vi] = rf.predict(valid_features)\n",
    "        folds[ti] = rf.predict(train_features)\n",
    "        t_fold += rf.predict(X_te)\n",
    "        \n",
    "        # update MAE score for train and validation\n",
    "        mae_train.append(mean_absolute_error(np.e**train_labels, np.e**folds[ti]))\n",
    "        mae_valid.append(mean_absolute_error(np.e**valid_labels, np.e**oof[vi]))\n",
    "    \n",
    "    # update MAE score for test\n",
    "    mae_test.append(mean_absolute_error(np.e**y_te, np.e**(np.round(t_fold / n_splits))))\n",
    "    \n",
    "    return mae_train, mae_valid, mae_test"
   ]
  },
  {
   "cell_type": "code",
   "execution_count": 23,
   "metadata": {},
   "outputs": [
    {
     "name": "stdout",
     "output_type": "stream",
     "text": [
      "Best Model:\n",
      "N =  200\n",
      "Training MAE:  2420796.699509752\n",
      "Validation MAE:  2614012.60731351\n",
      "Testing MAE:  2683214.3503682013\n"
     ]
    }
   ],
   "source": [
    "# grid search for best model based on MAE score\n",
    "mae_train_list = []\n",
    "mae_valid_list = []\n",
    "mae_test_list = []\n",
    "N = []\n",
    "X_log_train.reset_index(drop = True, inplace = True)\n",
    "for n in [150, 200, 250, 300]:\n",
    "    mae_train, mae_valid, mae_test = rf_log_cv(X_log_train,  y_log_train.values, X_log_test, y_log_test.values, n_splits = 5, n = n)\n",
    "    N.append(n)\n",
    "    mae_train_list.append(np.mean(mae_train))\n",
    "    mae_valid_list.append(np.mean(mae_valid))\n",
    "    mae_test_list.append(mae_test)\n",
    "\n",
    "print('Best Model:')\n",
    "print('N = ', N[mae_valid_list.index(np.min(mae_valid_list))])\n",
    "print('Training MAE: ', mae_train_list[mae_valid_list.index(np.min(mae_valid_list))])\n",
    "print('Validation MAE: ', mae_valid_list[mae_valid_list.index(np.min(mae_valid_list))])\n",
    "print('Testing MAE: ', mae_test_list[mae_valid_list.index(np.min(mae_valid_list))][0])"
   ]
  },
  {
   "cell_type": "markdown",
   "metadata": {},
   "source": [
    "###### XGBoost"
   ]
  },
  {
   "cell_type": "code",
   "execution_count": 24,
   "metadata": {},
   "outputs": [],
   "source": [
    "# cross validation for XGBoost\n",
    "def xgb_cv(X_tr, y_tr, X_te, y_te, n_splits = 5, n = 100):\n",
    "\n",
    "    # define kfold and loop through each iteration\n",
    "    kf = KFold(n_splits = n_splits, shuffle = True, random_state = 57)\n",
    "\n",
    "    # out of fold empty array\n",
    "    oof = np.zeros(shape = (X_tr.shape[0]))\n",
    "    # folds empty array\n",
    "    folds = np.zeros(shape = (X_tr.shape[0]))\n",
    "    # test empty array\n",
    "    t_fold = np.zeros(shape = (X_te.shape[0]))\n",
    "\n",
    "    # initial train, test and validation MAE\n",
    "    mae_train = []\n",
    "    mae_valid = []\n",
    "    mae_test = []\n",
    "    \n",
    "    for ti, vi in kf.split(X_tr):\n",
    "        \n",
    "        # split train and valid dataframe\n",
    "        train_features, train_labels = X_tr.loc[ti], y_tr[ti]\n",
    "        valid_features, valid_labels = X_tr.loc[vi], y_tr[vi]\n",
    "\n",
    "        xgb_model = xgb.XGBRegressor(n_estimators = n, \n",
    "                                     objective ='reg:squarederror',\n",
    "                                     max_depth = 5,\n",
    "                                     random_state = 57)\n",
    "        xgb_model.fit(train_features, train_labels)\n",
    "        \n",
    "        oof[vi] = xgb_model.predict(valid_features)\n",
    "        folds[ti] = xgb_model.predict(train_features)\n",
    "        t_fold += xgb_model.predict(X_te)\n",
    "        \n",
    "        # update MAE score for train and validation\n",
    "        mae_train.append(mean_absolute_error(train_labels, folds[ti]))\n",
    "        mae_valid.append(mean_absolute_error(valid_labels, oof[vi]))\n",
    "    \n",
    "    # update MAE score for test\n",
    "    mae_test.append(mean_absolute_error(y_te, np.round(t_fold / n_splits)))\n",
    "    \n",
    "    return mae_train, mae_valid, mae_test"
   ]
  },
  {
   "cell_type": "code",
   "execution_count": 25,
   "metadata": {},
   "outputs": [
    {
     "name": "stdout",
     "output_type": "stream",
     "text": [
      "Best Model:\n",
      "N =  100\n",
      "Training MAE:  1805619.0055404957\n",
      "Validation MAE:  2543037.3842429225\n",
      "Testing MAE:  2506490.7989406576\n"
     ]
    }
   ],
   "source": [
    "# grid search for best model based on MAE score\n",
    "mae_train_list = []\n",
    "mae_valid_list = []\n",
    "mae_test_list = []\n",
    "N = []\n",
    "X_train.reset_index(drop = True, inplace = True)\n",
    "for n in [50, 100, 150]:\n",
    "    mae_train, mae_valid, mae_test = xgb_cv(X_train,  y_train.values, X_test, y_test.values, n_splits = 5, n = n)\n",
    "    N.append(n)\n",
    "    mae_train_list.append(np.mean(mae_train))\n",
    "    mae_valid_list.append(np.mean(mae_valid))\n",
    "    mae_test_list.append(mae_test)\n",
    "\n",
    "print('Best Model:')\n",
    "print('N = ', N[mae_valid_list.index(np.min(mae_valid_list))])\n",
    "print('Training MAE: ', mae_train_list[mae_valid_list.index(np.min(mae_valid_list))])\n",
    "print('Validation MAE: ', mae_valid_list[mae_valid_list.index(np.min(mae_valid_list))])\n",
    "print('Testing MAE: ', mae_test_list[mae_valid_list.index(np.min(mae_valid_list))][0])"
   ]
  },
  {
   "cell_type": "markdown",
   "metadata": {},
   "source": [
    "###### XGBoost - Log Transformation"
   ]
  },
  {
   "cell_type": "code",
   "execution_count": 26,
   "metadata": {},
   "outputs": [],
   "source": [
    "# cross validation for XGBoost\n",
    "def xgb_log_cv(X_tr, y_tr, X_te, y_te, n_splits = 5, n = 100):\n",
    "\n",
    "    # define kfold and loop through each iteration\n",
    "    kf = KFold(n_splits = n_splits, shuffle = True, random_state = 57)\n",
    "\n",
    "    # out of fold empty array\n",
    "    oof = np.zeros(shape = (X_tr.shape[0]))\n",
    "    # folds empty array\n",
    "    folds = np.zeros(shape = (X_tr.shape[0]))\n",
    "    # test empty array\n",
    "    t_fold = np.zeros(shape = (X_te.shape[0]))\n",
    "\n",
    "    # initial train, test and validation MAE\n",
    "    mae_train = []\n",
    "    mae_valid = []\n",
    "    mae_test = []\n",
    "    \n",
    "    for ti, vi in kf.split(X_tr):\n",
    "        \n",
    "        # split train and valid dataframe\n",
    "        train_features, train_labels = X_tr.loc[ti], y_tr[ti]\n",
    "        valid_features, valid_labels = X_tr.loc[vi], y_tr[vi]\n",
    "\n",
    "        xgb_model = xgb.XGBRegressor(n_estimators = n, \n",
    "                                     objective ='reg:squarederror',\n",
    "                                     max_depth = 5,\n",
    "                                     random_state = 57)\n",
    "        xgb_model.fit(train_features, train_labels)\n",
    "        \n",
    "        oof[vi] = xgb_model.predict(valid_features)\n",
    "        folds[ti] = xgb_model.predict(train_features)\n",
    "        t_fold += xgb_model.predict(X_te)\n",
    "        \n",
    "        # update MAE score for train and validation\n",
    "        mae_train.append(mean_absolute_error(np.e**train_labels, np.e**folds[ti]))\n",
    "        mae_valid.append(mean_absolute_error(np.e**valid_labels, np.e**oof[vi]))\n",
    "    \n",
    "    # update MAE score for test\n",
    "    mae_test.append(mean_absolute_error(np.e**y_te, np.e**(np.round(t_fold / n_splits))))\n",
    "    \n",
    "    return mae_train, mae_valid, mae_test"
   ]
  },
  {
   "cell_type": "code",
   "execution_count": 27,
   "metadata": {},
   "outputs": [
    {
     "name": "stdout",
     "output_type": "stream",
     "text": [
      "Best Model:\n",
      "N =  100\n",
      "Training MAE:  2028077.6647273072\n",
      "Validation MAE:  2567475.667569154\n",
      "Testing MAE:  2658717.4650750044\n"
     ]
    }
   ],
   "source": [
    "# grid search for best model based on MAE score\n",
    "mae_train_list = []\n",
    "mae_valid_list = []\n",
    "mae_test_list = []\n",
    "N = []\n",
    "X_log_train.reset_index(drop = True, inplace = True)\n",
    "for n in [50, 100, 150, 200]:\n",
    "    mae_train, mae_valid, mae_test = xgb_log_cv(X_log_train,  y_log_train.values, X_log_test, y_log_test.values, n_splits = 5, n = n)\n",
    "    N.append(n)\n",
    "    mae_train_list.append(np.mean(mae_train))\n",
    "    mae_valid_list.append(np.mean(mae_valid))\n",
    "    mae_test_list.append(mae_test)\n",
    "\n",
    "print('Best Model:')\n",
    "print('N = ', N[mae_valid_list.index(np.min(mae_valid_list))])\n",
    "print('Training MAE: ', mae_train_list[mae_valid_list.index(np.min(mae_valid_list))])\n",
    "print('Validation MAE: ', mae_valid_list[mae_valid_list.index(np.min(mae_valid_list))])\n",
    "print('Testing MAE: ', mae_test_list[mae_valid_list.index(np.min(mae_valid_list))][0])"
   ]
  },
  {
   "cell_type": "markdown",
   "metadata": {},
   "source": [
    "After comparint the models' performance, we select XGBRegressor predicting Adjusted salary as our final model. The model has testing mean absolute error of 2,506,490."
   ]
  },
  {
   "cell_type": "markdown",
   "metadata": {},
   "source": [
    "## Feature Importance\n",
    "\n",
    "---"
   ]
  },
  {
   "cell_type": "code",
   "execution_count": 36,
   "metadata": {},
   "outputs": [
    {
     "data": {
      "image/png": "[encoded data removed]",
      "text/plain": [
       "<Figure size 432x288 with 1 Axes>"
      ]
     },
     "metadata": {
      "needs_background": "light"
     },
     "output_type": "display_data"
    }
   ],
   "source": [
    "# select the best performance model\n",
    "xgb_model = xgb.XGBRegressor(n_estimators = 100, max_depth = 5, \n",
    "                             objective ='reg:squarederror', random_state = 57)\n",
    "xgb_model.fit(X_train,  y_train.values)\n",
    "\n",
    "# dataframe for feature importance and feature names\n",
    "feature_importance = np.array(xgb_model.feature_importances_)\n",
    "features = np.array(X_train.columns)\n",
    "fi_df = pd.DataFrame({'features':features,'feature_importance':feature_importance})\n",
    "\n",
    "# sort the dataframe by feature importance\n",
    "fi_df.sort_values(by=['feature_importance'], ascending = False , inplace = True)\n",
    "\n",
    "\n",
    "# plot bar chart\n",
    "sns.barplot(fi_df['feature_importance'], fi_df['features'])\n",
    "plt.title('FEATURE IMPORTANCE')\n",
    "plt.xlabel('Feature Importance')\n",
    "_ = plt.ylabel('Features')"
   ]
  },
  {
   "cell_type": "markdown",
   "metadata": {},
   "source": [
    "The top three important features are minutes played per game, points per game and field goal made per game."
   ]
  },
  {
   "cell_type": "markdown",
   "metadata": {},
   "source": [
    "## Reasons of Large MAE\n",
    "\n",
    "---"
   ]
  },
  {
   "cell_type": "code",
   "execution_count": 37,
   "metadata": {},
   "outputs": [],
   "source": [
    "# make predictions for X_test\n",
    "pred = pd.DataFrame({'prediction': xgb_model.predict(X_test)})\n",
    "X_test_temp = X_test.reset_index(drop = True)\n",
    "y_test_temp = y_test.reset_index(drop = True)"
   ]
  },
  {
   "cell_type": "code",
   "execution_count": 38,
   "metadata": {},
   "outputs": [
    {
     "data": {
      "text/plain": [
       "count    1.833000e+03\n",
       "mean    -1.139099e+05\n",
       "std      3.449223e+06\n",
       "min     -1.099371e+07\n",
       "25%     -1.956912e+06\n",
       "50%     -5.993710e+05\n",
       "75%      1.340231e+06\n",
       "max      1.476059e+07\n",
       "Name: diff, dtype: float64"
      ]
     },
     "execution_count": 38,
     "metadata": {},
     "output_type": "execute_result"
    }
   ],
   "source": [
    "# compute the difference of actual salary and prediction\n",
    "result = pd.concat([X_test_temp, pred, y_test_temp], axis = 1)\n",
    "result['diff'] = result['SALARY_ADJ'] - result['prediction']\n",
    "result['diff'].describe()"
   ]
  },
  {
   "cell_type": "code",
   "execution_count": 60,
   "metadata": {},
   "outputs": [
    {
     "data": {
      "text/html": [
       "<div>\n",
       "<style scoped>\n",
       "    .dataframe tbody tr th:only-of-type {\n",
       "        vertical-align: middle;\n",
       "    }\n",
       "\n",
       "    .dataframe tbody tr th {\n",
       "        vertical-align: top;\n",
       "    }\n",
       "\n",
       "    .dataframe thead th {\n",
       "        text-align: right;\n",
       "    }\n",
       "</style>\n",
       "<table border=\"1\" class=\"dataframe\">\n",
       "  <thead>\n",
       "    <tr style=\"text-align: right;\">\n",
       "      <th></th>\n",
       "      <th>MIN</th>\n",
       "      <th>PTS</th>\n",
       "      <th>FGM</th>\n",
       "    </tr>\n",
       "  </thead>\n",
       "  <tbody>\n",
       "    <tr>\n",
       "      <td>count</td>\n",
       "      <td>1833.0</td>\n",
       "      <td>1833.0</td>\n",
       "      <td>1833.0</td>\n",
       "    </tr>\n",
       "    <tr>\n",
       "      <td>mean</td>\n",
       "      <td>21.0</td>\n",
       "      <td>8.0</td>\n",
       "      <td>3.0</td>\n",
       "    </tr>\n",
       "    <tr>\n",
       "      <td>std</td>\n",
       "      <td>9.0</td>\n",
       "      <td>5.0</td>\n",
       "      <td>2.0</td>\n",
       "    </tr>\n",
       "    <tr>\n",
       "      <td>min</td>\n",
       "      <td>1.0</td>\n",
       "      <td>0.0</td>\n",
       "      <td>0.0</td>\n",
       "    </tr>\n",
       "    <tr>\n",
       "      <td>25%</td>\n",
       "      <td>14.0</td>\n",
       "      <td>4.0</td>\n",
       "      <td>2.0</td>\n",
       "    </tr>\n",
       "    <tr>\n",
       "      <td>50%</td>\n",
       "      <td>21.0</td>\n",
       "      <td>7.0</td>\n",
       "      <td>3.0</td>\n",
       "    </tr>\n",
       "    <tr>\n",
       "      <td>75%</td>\n",
       "      <td>28.0</td>\n",
       "      <td>11.0</td>\n",
       "      <td>4.0</td>\n",
       "    </tr>\n",
       "    <tr>\n",
       "      <td>max</td>\n",
       "      <td>42.0</td>\n",
       "      <td>32.0</td>\n",
       "      <td>11.0</td>\n",
       "    </tr>\n",
       "  </tbody>\n",
       "</table>\n",
       "</div>"
      ],
      "text/plain": [
       "          MIN     PTS     FGM\n",
       "count  1833.0  1833.0  1833.0\n",
       "mean     21.0     8.0     3.0\n",
       "std       9.0     5.0     2.0\n",
       "min       1.0     0.0     0.0\n",
       "25%      14.0     4.0     2.0\n",
       "50%      21.0     7.0     3.0\n",
       "75%      28.0    11.0     4.0\n",
       "max      42.0    32.0    11.0"
      ]
     },
     "execution_count": 60,
     "metadata": {},
     "output_type": "execute_result"
    }
   ],
   "source": [
    "# stats of Top three important features\n",
    "result.describe()[['MIN', 'PTS', 'FGM']].round()"
   ]
  },
  {
   "cell_type": "code",
   "execution_count": 39,
   "metadata": {},
   "outputs": [],
   "source": [
    "# get top 10 observations with the most salary and prediction difference\n",
    "\n",
    "# create name list\n",
    "names = []\n",
    "# get player names\n",
    "for i in result.sort_values('diff').index[-10:].values:\n",
    "    j = int(X_test[i:i+1].index.values)\n",
    "    names.append(df[j:j + 1]['PLAYER_NAME'].values[0])\n",
    "\n",
    "# create top 10 overvalued paler dataframe\n",
    "top_10_overvalued = result.sort_values('diff')[-10:].reset_index(drop = True)\n",
    "names = pd.DataFrame({'PLAYER_NAME': names})\n",
    "top_10_overvalued = pd.concat([names, top_10_overvalued], axis = 1)"
   ]
  },
  {
   "cell_type": "code",
   "execution_count": 61,
   "metadata": {},
   "outputs": [
    {
     "data": {
      "text/html": [
       "<div>\n",
       "<style scoped>\n",
       "    .dataframe tbody tr th:only-of-type {\n",
       "        vertical-align: middle;\n",
       "    }\n",
       "\n",
       "    .dataframe tbody tr th {\n",
       "        vertical-align: top;\n",
       "    }\n",
       "\n",
       "    .dataframe thead th {\n",
       "        text-align: right;\n",
       "    }\n",
       "</style>\n",
       "<table border=\"1\" class=\"dataframe\">\n",
       "  <thead>\n",
       "    <tr style=\"text-align: right;\">\n",
       "      <th></th>\n",
       "      <th>PLAYER_NAME</th>\n",
       "      <th>MIN</th>\n",
       "      <th>PTS</th>\n",
       "      <th>FGM</th>\n",
       "      <th>YEAR</th>\n",
       "      <th>SALARY_ADJ</th>\n",
       "      <th>prediction</th>\n",
       "      <th>diff</th>\n",
       "    </tr>\n",
       "  </thead>\n",
       "  <tbody>\n",
       "    <tr>\n",
       "      <td>0</td>\n",
       "      <td>Paul George</td>\n",
       "      <td>15.0</td>\n",
       "      <td>9.0</td>\n",
       "      <td>3.0</td>\n",
       "      <td>2014</td>\n",
       "      <td>18642783.0</td>\n",
       "      <td>3882196.0</td>\n",
       "      <td>14760588.0</td>\n",
       "    </tr>\n",
       "    <tr>\n",
       "      <td>1</td>\n",
       "      <td>Jeff Teague</td>\n",
       "      <td>25.0</td>\n",
       "      <td>11.0</td>\n",
       "      <td>4.0</td>\n",
       "      <td>2019</td>\n",
       "      <td>19000000.0</td>\n",
       "      <td>4691902.0</td>\n",
       "      <td>14308098.0</td>\n",
       "    </tr>\n",
       "    <tr>\n",
       "      <td>2</td>\n",
       "      <td>Shawn Kemp</td>\n",
       "      <td>16.0</td>\n",
       "      <td>6.0</td>\n",
       "      <td>2.0</td>\n",
       "      <td>2000</td>\n",
       "      <td>18602786.0</td>\n",
       "      <td>4671933.0</td>\n",
       "      <td>13930853.0</td>\n",
       "    </tr>\n",
       "    <tr>\n",
       "      <td>3</td>\n",
       "      <td>Raef LaFrentz</td>\n",
       "      <td>13.0</td>\n",
       "      <td>4.0</td>\n",
       "      <td>1.0</td>\n",
       "      <td>2006</td>\n",
       "      <td>15477536.0</td>\n",
       "      <td>2149181.0</td>\n",
       "      <td>13328355.0</td>\n",
       "    </tr>\n",
       "    <tr>\n",
       "      <td>4</td>\n",
       "      <td>Ian Mahinmi</td>\n",
       "      <td>18.0</td>\n",
       "      <td>6.0</td>\n",
       "      <td>2.0</td>\n",
       "      <td>2016</td>\n",
       "      <td>16786903.0</td>\n",
       "      <td>4153729.0</td>\n",
       "      <td>12633174.0</td>\n",
       "    </tr>\n",
       "    <tr>\n",
       "      <td>5</td>\n",
       "      <td>Brandon Knight</td>\n",
       "      <td>19.0</td>\n",
       "      <td>7.0</td>\n",
       "      <td>2.0</td>\n",
       "      <td>2018</td>\n",
       "      <td>15800188.0</td>\n",
       "      <td>3394975.0</td>\n",
       "      <td>12405212.0</td>\n",
       "    </tr>\n",
       "    <tr>\n",
       "      <td>6</td>\n",
       "      <td>Gary Harris</td>\n",
       "      <td>29.0</td>\n",
       "      <td>13.0</td>\n",
       "      <td>5.0</td>\n",
       "      <td>2018</td>\n",
       "      <td>18017679.0</td>\n",
       "      <td>5641946.0</td>\n",
       "      <td>12375733.0</td>\n",
       "    </tr>\n",
       "    <tr>\n",
       "      <td>7</td>\n",
       "      <td>Gary Harris</td>\n",
       "      <td>32.0</td>\n",
       "      <td>10.0</td>\n",
       "      <td>4.0</td>\n",
       "      <td>2019</td>\n",
       "      <td>17839286.0</td>\n",
       "      <td>5830866.0</td>\n",
       "      <td>12008420.0</td>\n",
       "    </tr>\n",
       "    <tr>\n",
       "      <td>8</td>\n",
       "      <td>Elton Brand</td>\n",
       "      <td>30.0</td>\n",
       "      <td>13.0</td>\n",
       "      <td>5.0</td>\n",
       "      <td>2009</td>\n",
       "      <td>18902182.0</td>\n",
       "      <td>7039169.0</td>\n",
       "      <td>11863013.0</td>\n",
       "    </tr>\n",
       "    <tr>\n",
       "      <td>9</td>\n",
       "      <td>Nick Collison</td>\n",
       "      <td>21.0</td>\n",
       "      <td>6.0</td>\n",
       "      <td>2.0</td>\n",
       "      <td>2009</td>\n",
       "      <td>15717175.0</td>\n",
       "      <td>4020148.0</td>\n",
       "      <td>11697027.0</td>\n",
       "    </tr>\n",
       "  </tbody>\n",
       "</table>\n",
       "</div>"
      ],
      "text/plain": [
       "      PLAYER_NAME   MIN   PTS  FGM  YEAR  SALARY_ADJ  prediction        diff\n",
       "0     Paul George  15.0   9.0  3.0  2014  18642783.0   3882196.0  14760588.0\n",
       "1     Jeff Teague  25.0  11.0  4.0  2019  19000000.0   4691902.0  14308098.0\n",
       "2      Shawn Kemp  16.0   6.0  2.0  2000  18602786.0   4671933.0  13930853.0\n",
       "3   Raef LaFrentz  13.0   4.0  1.0  2006  15477536.0   2149181.0  13328355.0\n",
       "4     Ian Mahinmi  18.0   6.0  2.0  2016  16786903.0   4153729.0  12633174.0\n",
       "5  Brandon Knight  19.0   7.0  2.0  2018  15800188.0   3394975.0  12405212.0\n",
       "6     Gary Harris  29.0  13.0  5.0  2018  18017679.0   5641946.0  12375733.0\n",
       "7     Gary Harris  32.0  10.0  4.0  2019  17839286.0   5830866.0  12008420.0\n",
       "8     Elton Brand  30.0  13.0  5.0  2009  18902182.0   7039169.0  11863013.0\n",
       "9   Nick Collison  21.0   6.0  2.0  2009  15717175.0   4020148.0  11697027.0"
      ]
     },
     "execution_count": 61,
     "metadata": {},
     "output_type": "execute_result"
    }
   ],
   "source": [
    "top_10_overvalued[['PLAYER_NAME', 'MIN', 'PTS', 'FGM', \n",
    "                   'YEAR', 'SALARY_ADJ', 'prediction', 'diff']].sort_values(\n",
    "    by = 'diff', ascending = False).reset_index(drop = True).round()"
   ]
  },
  {
   "cell_type": "markdown",
   "metadata": {},
   "source": [
    "Potential reasons why some palyers are overvalued:\n",
    "\n",
    "1. Some of the palyers may have contracts with the teams for several consecutive years, where the salaries do not change a lot by their performance.\n",
    "2. Although some players do not have fancy stats in some seasons, the team coach sees their potential or thinks they may be a good fit for the whole team. For example, Jeff Teague suffers from ankle and knee injury but still has a decent salary.\n",
    "3. Players who are super famous tend to have higher salaries."
   ]
  },
  {
   "cell_type": "code",
   "execution_count": 41,
   "metadata": {},
   "outputs": [],
   "source": [
    "# get top 10 observations with the most prediction and salary difference\n",
    "\n",
    "# create name list\n",
    "names = []\n",
    "for i in result.sort_values('diff').index[:10].values:\n",
    "    j = int(X_test[i:i+1].index.values)\n",
    "    names.append(df[j:j + 1]['PLAYER_NAME'].values[0])\n",
    "    \n",
    "# create top 10 undervalued paler dataframe\n",
    "top_10_undervalued = result.sort_values('diff')[:10].reset_index(drop = True)\n",
    "names = pd.DataFrame({'PLAYER_NAME': names})\n",
    "top_10_undervalued = pd.concat([names, top_10_undervalued], axis = 1)"
   ]
  },
  {
   "cell_type": "code",
   "execution_count": 62,
   "metadata": {},
   "outputs": [
    {
     "data": {
      "text/html": [
       "<div>\n",
       "<style scoped>\n",
       "    .dataframe tbody tr th:only-of-type {\n",
       "        vertical-align: middle;\n",
       "    }\n",
       "\n",
       "    .dataframe tbody tr th {\n",
       "        vertical-align: top;\n",
       "    }\n",
       "\n",
       "    .dataframe thead th {\n",
       "        text-align: right;\n",
       "    }\n",
       "</style>\n",
       "<table border=\"1\" class=\"dataframe\">\n",
       "  <thead>\n",
       "    <tr style=\"text-align: right;\">\n",
       "      <th></th>\n",
       "      <th>PLAYER_NAME</th>\n",
       "      <th>MIN</th>\n",
       "      <th>PTS</th>\n",
       "      <th>FGM</th>\n",
       "      <th>YEAR</th>\n",
       "      <th>SALARY_ADJ</th>\n",
       "      <th>prediction</th>\n",
       "      <th>diff</th>\n",
       "    </tr>\n",
       "  </thead>\n",
       "  <tbody>\n",
       "    <tr>\n",
       "      <td>0</td>\n",
       "      <td>Joe Johnson</td>\n",
       "      <td>35.0</td>\n",
       "      <td>14.0</td>\n",
       "      <td>6.0</td>\n",
       "      <td>2014</td>\n",
       "      <td>285187.0</td>\n",
       "      <td>11278896.0</td>\n",
       "      <td>-10993709.0</td>\n",
       "    </tr>\n",
       "    <tr>\n",
       "      <td>1</td>\n",
       "      <td>Chris Bosh</td>\n",
       "      <td>39.0</td>\n",
       "      <td>22.0</td>\n",
       "      <td>8.0</td>\n",
       "      <td>2005</td>\n",
       "      <td>5416554.0</td>\n",
       "      <td>15823448.0</td>\n",
       "      <td>-10406894.0</td>\n",
       "    </tr>\n",
       "    <tr>\n",
       "      <td>2</td>\n",
       "      <td>Derrick Rose</td>\n",
       "      <td>32.0</td>\n",
       "      <td>18.0</td>\n",
       "      <td>7.0</td>\n",
       "      <td>2016</td>\n",
       "      <td>306330.0</td>\n",
       "      <td>10359596.0</td>\n",
       "      <td>-10053266.0</td>\n",
       "    </tr>\n",
       "    <tr>\n",
       "      <td>3</td>\n",
       "      <td>John Collins</td>\n",
       "      <td>33.0</td>\n",
       "      <td>22.0</td>\n",
       "      <td>9.0</td>\n",
       "      <td>2019</td>\n",
       "      <td>2686560.0</td>\n",
       "      <td>12435296.0</td>\n",
       "      <td>-9748736.0</td>\n",
       "    </tr>\n",
       "    <tr>\n",
       "      <td>4</td>\n",
       "      <td>Giannis Antetokounmpo</td>\n",
       "      <td>35.0</td>\n",
       "      <td>17.0</td>\n",
       "      <td>6.0</td>\n",
       "      <td>2015</td>\n",
       "      <td>3219977.0</td>\n",
       "      <td>12560490.0</td>\n",
       "      <td>-9340513.0</td>\n",
       "    </tr>\n",
       "    <tr>\n",
       "      <td>5</td>\n",
       "      <td>Lamar Odom</td>\n",
       "      <td>37.0</td>\n",
       "      <td>17.0</td>\n",
       "      <td>6.0</td>\n",
       "      <td>2000</td>\n",
       "      <td>4096401.0</td>\n",
       "      <td>13377620.0</td>\n",
       "      <td>-9281219.0</td>\n",
       "    </tr>\n",
       "    <tr>\n",
       "      <td>6</td>\n",
       "      <td>Greivis Vasquez</td>\n",
       "      <td>34.0</td>\n",
       "      <td>14.0</td>\n",
       "      <td>6.0</td>\n",
       "      <td>2012</td>\n",
       "      <td>2381269.0</td>\n",
       "      <td>11637802.0</td>\n",
       "      <td>-9256533.0</td>\n",
       "    </tr>\n",
       "    <tr>\n",
       "      <td>7</td>\n",
       "      <td>Brandon Roy</td>\n",
       "      <td>38.0</td>\n",
       "      <td>19.0</td>\n",
       "      <td>7.0</td>\n",
       "      <td>2007</td>\n",
       "      <td>3696620.0</td>\n",
       "      <td>12897720.0</td>\n",
       "      <td>-9201100.0</td>\n",
       "    </tr>\n",
       "    <tr>\n",
       "      <td>8</td>\n",
       "      <td>Josh Smith</td>\n",
       "      <td>37.0</td>\n",
       "      <td>16.0</td>\n",
       "      <td>6.0</td>\n",
       "      <td>2006</td>\n",
       "      <td>2791183.0</td>\n",
       "      <td>11805666.0</td>\n",
       "      <td>-9014483.0</td>\n",
       "    </tr>\n",
       "    <tr>\n",
       "      <td>9</td>\n",
       "      <td>Russell Westbrook</td>\n",
       "      <td>35.0</td>\n",
       "      <td>22.0</td>\n",
       "      <td>8.0</td>\n",
       "      <td>2010</td>\n",
       "      <td>5833028.0</td>\n",
       "      <td>14833960.0</td>\n",
       "      <td>-9000932.0</td>\n",
       "    </tr>\n",
       "  </tbody>\n",
       "</table>\n",
       "</div>"
      ],
      "text/plain": [
       "             PLAYER_NAME   MIN   PTS  FGM  YEAR  SALARY_ADJ  prediction  \\\n",
       "0            Joe Johnson  35.0  14.0  6.0  2014    285187.0  11278896.0   \n",
       "1             Chris Bosh  39.0  22.0  8.0  2005   5416554.0  15823448.0   \n",
       "2           Derrick Rose  32.0  18.0  7.0  2016    306330.0  10359596.0   \n",
       "3           John Collins  33.0  22.0  9.0  2019   2686560.0  12435296.0   \n",
       "4  Giannis Antetokounmpo  35.0  17.0  6.0  2015   3219977.0  12560490.0   \n",
       "5             Lamar Odom  37.0  17.0  6.0  2000   4096401.0  13377620.0   \n",
       "6        Greivis Vasquez  34.0  14.0  6.0  2012   2381269.0  11637802.0   \n",
       "7            Brandon Roy  38.0  19.0  7.0  2007   3696620.0  12897720.0   \n",
       "8             Josh Smith  37.0  16.0  6.0  2006   2791183.0  11805666.0   \n",
       "9      Russell Westbrook  35.0  22.0  8.0  2010   5833028.0  14833960.0   \n",
       "\n",
       "         diff  \n",
       "0 -10993709.0  \n",
       "1 -10406894.0  \n",
       "2 -10053266.0  \n",
       "3  -9748736.0  \n",
       "4  -9340513.0  \n",
       "5  -9281219.0  \n",
       "6  -9256533.0  \n",
       "7  -9201100.0  \n",
       "8  -9014483.0  \n",
       "9  -9000932.0  "
      ]
     },
     "execution_count": 62,
     "metadata": {},
     "output_type": "execute_result"
    }
   ],
   "source": [
    "top_10_undervalued[['PLAYER_NAME', 'MIN', 'PTS', 'FGM', 'YEAR', 'SALARY_ADJ', 'prediction', 'diff']].round()"
   ]
  },
  {
   "cell_type": "markdown",
   "metadata": {},
   "source": [
    "Potential reasons why some palyers are undervalued:\n",
    "\n",
    "1. Some of the players have good performance, but they are new to NBA. For example, Chris Bosh was a new player in 2005. That's why he had a low salary but great performance. His salary goes up to 13 million in 2007.\n",
    "\n",
    "2. Official NBA website doesn't contain salary data so that we can only get the data from third party websites. There are some discrepancies between those websites. For example, Joe Johnson has raw salary 261,894 reported by ESPN, while hoopshype reports 21,894,863."
   ]
  },
  {
   "cell_type": "markdown",
   "metadata": {},
   "source": [
    "Quantifying or collecting the potential features stated above is not feasible. We conclude that player performance data plays a very import role in predicting salary but the model could be improved by introduing new features and compare data between several third party websites.\n",
    "\n",
    "Besides, our model can be used to determine whether a player is overvalued or undervalued based on his previous year's performance and current year's salary."
   ]
  },
  {
   "cell_type": "code",
   "execution_count": null,
   "metadata": {},
   "outputs": [],
   "source": []
  },
  {
   "cell_type": "code",
   "execution_count": null,
   "metadata": {},
   "outputs": [],
   "source": []
  }
 ],
 "metadata": {
  "kernelspec": {
   "display_name": "Python 3",
   "language": "python",
   "name": "python3"
  },
  "language_info": {
   "codemirror_mode": {
    "name": "ipython",
    "version": 3
   },
   "file_extension": ".py",
   "mimetype": "text/x-python",
   "name": "python",
   "nbconvert_exporter": "python",
   "pygments_lexer": "ipython3",
   "version": "3.7.4"
  }
 },
 "nbformat": 4,
 "nbformat_minor": 2
}
