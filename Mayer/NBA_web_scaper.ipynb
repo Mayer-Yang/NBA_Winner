{
 "cells": [
  {
   "cell_type": "markdown",
   "metadata": {},
   "source": [
    "## Import Library\n",
    "\n",
    "---"
   ]
  },
  {
   "cell_type": "code",
   "execution_count": 1,
   "metadata": {},
   "outputs": [],
   "source": [
    "from bs4 import BeautifulSoup\n",
    "import urllib\n",
    "import requests\n",
    "import json\n",
    "import pandas as pd\n",
    "from matplotlib import pyplot as plt"
   ]
  },
  {
   "cell_type": "markdown",
   "metadata": {},
   "source": [
    "## Get Data\n",
    "\n",
    "---"
   ]
  },
  {
   "cell_type": "code",
   "execution_count": 16,
   "metadata": {},
   "outputs": [],
   "source": [
    "# take year, return dataframe of player salary for that year\n",
    "def player_salary(year):\n",
    "    for page in range(1, 20):\n",
    "        salary_url = f'http://www.espn.com/nba/salaries/_/year/{year}/page/{page}/seasontype/4'\n",
    "        req = urllib.request.Request(salary_url , headers={'User-Agent': 'Mozilla/5.0'})\n",
    "        content = urllib.request.urlopen(req).read()\n",
    "        table = pd.read_html(content)[0]\n",
    "        if page == 1:\n",
    "            df = table.copy()\n",
    "        else:\n",
    "            df = pd.concat([df, table], axis = 0)\n",
    "    \n",
    "    # set df columns and drop index\n",
    "    salary_cols = df.iloc[0,:].values\n",
    "    df.columns = salary_cols\n",
    "    df = df.loc[df['RK'] != 'RK']\n",
    "    df.reset_index(drop = True, inplace = True)\n",
    "    \n",
    "    df['year'] = year\n",
    "    \n",
    "    return df"
   ]
  },
  {
   "cell_type": "code",
   "execution_count": 19,
   "metadata": {},
   "outputs": [],
   "source": [
    "# get salary data from 2000 to 2020\n",
    "salary_df = player_salary('2000')\n",
    "for year in range(2001, 2021):\n",
    "    temp_df =  player_salary(str(year))\n",
    "    salary_df = pd.concat([salary_df, temp_df], axis = 0)\n",
    "\n",
    "salary_df.drop(['RK'], axis = 1, inplace = True)\n",
    "salary_df['NAME'] = salary_df['NAME'].apply(lambda x: x.split(',')[0])\n",
    "salary_df['SALARY'] = salary_df['SALARY'].replace('[\\$,]', '', regex=True).astype(float)\n",
    "salary_df.reset_index(inplace = True)\n",
    "salary_df.to_csv('nba_salary_Mayer.csv', index=False)"
   ]
  },
  {
   "cell_type": "code",
   "execution_count": null,
   "metadata": {},
   "outputs": [],
   "source": []
  },
  {
   "cell_type": "code",
   "execution_count": 2,
   "metadata": {},
   "outputs": [],
   "source": [
    "# take year, return dataframe of players stats for that year\n",
    "def nba_player_data(year):\n",
    "    # get player data from nba website in json format\n",
    "    headers = {\n",
    "        'User-Agent': 'Mozilla/5.0',\n",
    "        'Referer': 'https://stats.nba.com/players/drives/',\n",
    "        'x-nba-stats-origin': 'stats',\n",
    "        'x-nba-stats-token': 'true',\n",
    "    }\n",
    "    player_url = f'https://stats.nba.com/stats/leaguedashplayerstats?College=&Conference=&Country=&DateFrom=&DateTo=&Division=&DraftPick=&DraftYear=&GameScope=&GameSegment=&Height=&LastNGames=0&LeagueID=00&Location=&MeasureType=Base&Month=0&OpponentTeamID=0&Outcome=&PORound=0&PaceAdjust=N&PerMode=PerGame&Period=0&PlayerExperience=&PlayerPosition=&PlusMinus=N&Rank=N&Season={year}&SeasonSegment=&SeasonType=Regular+Season&ShotClockRange=&StarterBench=&TeamID=0&TwoWay=0&VsConference=&VsDivision=&Weight='\n",
    "    req_url = requests.get(player_url, headers=headers)\n",
    "    player_data = req_url.json()\n",
    "    \n",
    "    # get data by key: resultSets\n",
    "    player_results = player_data['resultSets'][0]\n",
    "    \n",
    "    # get data feature names\n",
    "    player_col_headers = player_results['headers']\n",
    "    \n",
    "    # get observations and set feature names\n",
    "    player_results = json.dumps(player_results['rowSet'])\n",
    "    df = pd.read_json(player_results)\n",
    "    df.columns = player_col_headers\n",
    "    df['year'] = year\n",
    "    \n",
    "    return df"
   ]
  },
  {
   "cell_type": "code",
   "execution_count": null,
   "metadata": {},
   "outputs": [],
   "source": [
    "# get player data from 1996 to 2020\n",
    "player_df = nba_player_data('1996-97')\n",
    "for year in range(1997, 2020):\n",
    "    temp_df =  nba_player_data(str(year) + '-' + str(year + 1)[-2:])\n",
    "    player_df = pd.concat([player_df, temp_df], axis = 0)\n",
    "\n",
    "# drop null values and reset index\n",
    "player_df.dropna(axis = 0, inplace = True)\n",
    "player_df.reset_index(inplace = True)\n",
    "player_df.drop(['index'], axis = 1, inplace = True)\n",
    "player_df.to_csv('nba_player_stats_Mayer.csv', index=False)"
   ]
  },
  {
   "cell_type": "code",
   "execution_count": null,
   "metadata": {},
   "outputs": [],
   "source": []
  }
 ],
 "metadata": {
  "kernelspec": {
   "display_name": "Python 3",
   "language": "python",
   "name": "python3"
  },
  "language_info": {
   "codemirror_mode": {
    "name": "ipython",
    "version": 3
   },
   "file_extension": ".py",
   "mimetype": "text/x-python",
   "name": "python",
   "nbconvert_exporter": "python",
   "pygments_lexer": "ipython3",
   "version": "3.7.4"
  }
 },
 "nbformat": 4,
 "nbformat_minor": 2
}
