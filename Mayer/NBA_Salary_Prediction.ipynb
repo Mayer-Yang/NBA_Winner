{
 "cells": [
  {
   "cell_type": "markdown",
   "metadata": {},
   "source": [
    "## Import Library\n",
    "\n",
    "---"
   ]
  },
  {
   "cell_type": "code",
   "execution_count": 1,
   "metadata": {},
   "outputs": [],
   "source": [
    "import pandas as pd\n",
    "import numpy as np\n",
    "import seaborn as sns\n",
    "from matplotlib import pyplot as plt\n",
    "import difflib\n",
    "\n",
    "from sklearn.preprocessing import LabelEncoder\n",
    "from sklearn.model_selection import KFold, train_test_split\n",
    "from sklearn.linear_model import LinearRegression\n",
    "import statsmodels.api as sm\n",
    "from sklearn.ensemble import RandomForestRegressor, RandomForestClassifier\n",
    "\n",
    "from sklearn.metrics import mean_squared_error, mean_absolute_error, accuracy_score, roc_auc_score"
   ]
  },
  {
   "cell_type": "markdown",
   "metadata": {},
   "source": [
    "## Get Data\n",
    "\n",
    "---"
   ]
  },
  {
   "cell_type": "code",
   "execution_count": 2,
   "metadata": {},
   "outputs": [],
   "source": [
    "# get csv files of player stats and salary\n",
    "salary_df = pd.read_csv('nba_salary_Mayer.csv')\n",
    "player_df = pd.read_csv('nba_player_stats_Mayer.csv')"
   ]
  },
  {
   "cell_type": "code",
   "execution_count": 3,
   "metadata": {},
   "outputs": [],
   "source": [
    "# convert year by taking first 4 char of year feature\n",
    "# i.e. 2019-20 will be 2019 now\n",
    "player_df['year'] = player_df['year'].apply(lambda x: x[:4]).astype(int)\n",
    "\n",
    "# convert year by subtracting year by 2\n",
    "# i.e. 2020 will be 2018 now\n",
    "salary_df['year'] = salary_df['year'].apply(lambda x: x - 2).astype(int)"
   ]
  },
  {
   "cell_type": "code",
   "execution_count": 4,
   "metadata": {},
   "outputs": [],
   "source": [
    "# get close match for each name in salary dataframe with player dataframe\n",
    "player_name = player_df['PLAYER_NAME'].unique()\n",
    "salary_df['name_close_match'] = salary_df['NAME'].apply(\n",
    "    lambda x: (difflib.get_close_matches(x, player_name)[:1] or [None])[0])"
   ]
  },
  {
   "cell_type": "code",
   "execution_count": 5,
   "metadata": {},
   "outputs": [],
   "source": [
    "# inner join salary and player stats by player name and year\n",
    "df = player_df.merge(salary_df, how = 'inner', \n",
    "                     left_on=['PLAYER_NAME','year'], right_on = ['name_close_match','year'])"
   ]
  },
  {
   "cell_type": "code",
   "execution_count": 6,
   "metadata": {},
   "outputs": [
    {
     "data": {
      "text/plain": [
       "(7926, 71)"
      ]
     },
     "execution_count": 6,
     "metadata": {},
     "output_type": "execute_result"
    }
   ],
   "source": [
    "# get data shape\n",
    "df.shape"
   ]
  },
  {
   "cell_type": "markdown",
   "metadata": {},
   "source": [
    "## EDA\n",
    "\n",
    "---"
   ]
  },
  {
   "cell_type": "code",
   "execution_count": 7,
   "metadata": {},
   "outputs": [
    {
     "data": {
      "text/plain": [
       "count    7.926000e+03\n",
       "mean     5.403477e+06\n",
       "std      5.944172e+06\n",
       "min      4.533000e+03\n",
       "25%      1.349383e+06\n",
       "50%      3.150000e+06\n",
       "75%      7.300000e+06\n",
       "max      4.023176e+07\n",
       "Name: SALARY, dtype: float64"
      ]
     },
     "execution_count": 7,
     "metadata": {},
     "output_type": "execute_result"
    }
   ],
   "source": [
    "# get stats of salary\n",
    "df.SALARY.describe()"
   ]
  },
  {
   "cell_type": "code",
   "execution_count": 8,
   "metadata": {},
   "outputs": [
    {
     "data": {
      "image/png": "[encoded data removed]",
      "text/plain": [
       "<Figure size 432x288 with 1 Axes>"
      ]
     },
     "metadata": {
      "needs_background": "light"
     },
     "output_type": "display_data"
    }
   ],
   "source": [
    "# plot the salary distribution\n",
    "_ = df.hist('SALARY')"
   ]
  },
  {
   "cell_type": "code",
   "execution_count": 9,
   "metadata": {},
   "outputs": [
    {
     "data": {
      "image/png": "[encoded data removed]",
      "text/plain": [
       "<Figure size 432x288 with 1 Axes>"
      ]
     },
     "metadata": {
      "needs_background": "light"
     },
     "output_type": "display_data"
    }
   ],
   "source": [
    "# take log transformation for salary\n",
    "df['SALARY_log'] = np.log(df['SALARY'])\n",
    "\n",
    "# plot the log salary distribution\n",
    "_ = df.hist('SALARY_log')"
   ]
  },
  {
   "cell_type": "code",
   "execution_count": 10,
   "metadata": {},
   "outputs": [
    {
     "data": {
      "image/png": "[encoded data removed]",
      "text/plain": [
       "<Figure size 432x288 with 1 Axes>"
      ]
     },
     "metadata": {
      "needs_background": "light"
     },
     "output_type": "display_data"
    }
   ],
   "source": [
    "# divide up the salary data into 4 equal sized bins\n",
    "df['SALARY_bin'] = pd.qcut(df['SALARY'], q = 4)\n",
    "\n",
    "# encode interval to integers from 0 to 3\n",
    "le = LabelEncoder()\n",
    "df['SALARY_bin_le'] = le.fit_transform(df['SALARY_bin'])\n",
    "\n",
    "# plot the bin salary distribution\n",
    "_ = df.hist('SALARY_bin_le')"
   ]
  },
  {
   "cell_type": "code",
   "execution_count": 11,
   "metadata": {},
   "outputs": [],
   "source": [
    "# split features and raw target\n",
    "X = df[[\n",
    "    'GP', 'MIN', 'FG_PCT', 'FGM', 'FGA', 'FG3M', 'FG3A',\n",
    "    'FG3_PCT', 'FTM', 'FTA', 'FT_PCT', 'OREB', 'DREB', \n",
    "    'REB', 'AST', 'BLK', 'STL', 'PF', 'TOV', 'PTS']]\n",
    "y = df['SALARY']\n",
    "\n",
    "# train test split\n",
    "X_train, X_test, y_train, y_test = train_test_split(X, y, \n",
    "    test_size = 0.25, random_state = 57)"
   ]
  },
  {
   "cell_type": "code",
   "execution_count": 12,
   "metadata": {},
   "outputs": [],
   "source": [
    "# split features and log salary\n",
    "X = df[[\n",
    "    'GP', 'MIN', 'FG_PCT', 'FGM', 'FGA', 'FG3M', 'FG3A',\n",
    "    'FG3_PCT', 'FTM', 'FTA', 'FT_PCT', 'OREB', 'DREB', \n",
    "    'REB', 'AST', 'BLK', 'STL', 'PF', 'TOV', 'PTS']]\n",
    "y = df['SALARY_log']\n",
    "\n",
    "# train test split for log salary\n",
    "X_log_train, X_log_test, y_log_train, y_log_test = train_test_split(X, y, \n",
    "    test_size = 0.25, random_state = 57)"
   ]
  },
  {
   "cell_type": "code",
   "execution_count": 13,
   "metadata": {},
   "outputs": [],
   "source": [
    "# split features and bin salary\n",
    "X = df[[\n",
    "    'GP', 'MIN', 'FG_PCT', 'FGM', 'FGA', 'FG3M', 'FG3A',\n",
    "    'FG3_PCT', 'FTM', 'FTA', 'FT_PCT', 'OREB', 'DREB', \n",
    "    'REB', 'AST', 'BLK', 'STL', 'PF', 'TOV', 'PTS']]\n",
    "y = df['SALARY_bin_le']\n",
    "\n",
    "# train test split for log salary\n",
    "X_bin_train, X_bin_test, y_bin_train, y_bin_test = train_test_split(X, y, \n",
    "    test_size = 0.25, random_state = 57)"
   ]
  },
  {
   "cell_type": "markdown",
   "metadata": {},
   "source": [
    "## Model\n",
    "\n",
    "---"
   ]
  },
  {
   "cell_type": "markdown",
   "metadata": {},
   "source": [
    "###### Linear Regression"
   ]
  },
  {
   "cell_type": "code",
   "execution_count": 14,
   "metadata": {},
   "outputs": [
    {
     "name": "stdout",
     "output_type": "stream",
     "text": [
      "Mean Absolute Error is  2843309.461668926\n",
      "\n",
      "Result Summary:\n",
      "                       Results: Ordinary least squares\n",
      "=============================================================================\n",
      "Model:                 OLS                 Adj. R-squared:        0.495      \n",
      "Dependent Variable:    SALARY              AIC:                   198138.1190\n",
      "Date:                  2020-11-12 16:14    BIC:                   198278.6119\n",
      "No. Observations:      5944                Log-Likelihood:        -99048.    \n",
      "Df Model:              20                  F-statistic:           292.3      \n",
      "Df Residuals:          5923                Prob (F-statistic):    0.00       \n",
      "R-squared:             0.497               Scale:                 1.7491e+13 \n",
      "-----------------------------------------------------------------------------\n",
      "            Coef.       Std.Err.      t    P>|t|      [0.025        0.975]   \n",
      "-----------------------------------------------------------------------------\n",
      "const    2507970.4068  513535.8918  4.8837 0.0000  1501252.8322  3514687.9814\n",
      "GP        -11704.5644    3229.9732 -3.6237 0.0003   -18036.4895    -5372.6394\n",
      "MIN       -88087.5369   19439.1195 -4.5315 0.0000  -126195.2983   -49979.7755\n",
      "FG_PCT  -2404349.3073 1034053.8567 -2.3252 0.0201 -4431471.8655  -377226.7492\n",
      "FGM      1944408.8621 1460254.3756  1.3316 0.1831  -918222.0988  4807039.8230\n",
      "FGA      -821673.7621  115076.5735 -7.1402 0.0000 -1047265.8013  -596081.7229\n",
      "FG3M    -1137884.7310  887828.5726 -1.2816 0.2000 -2878352.4210   602582.9590\n",
      "FG3A     1148299.5298  208661.8322  5.5032 0.0000   739246.2640  1557352.7955\n",
      "FG3_PCT -2166029.4152  420581.6037 -5.1501 0.0000 -2990522.6956 -1341536.1348\n",
      "FTM       499087.4546  757078.8175  0.6592 0.5098  -985063.0461  1983237.9553\n",
      "FTA      -170222.5615  207988.9706 -0.8184 0.4131  -577956.7732   237511.6502\n",
      "FT_PCT   -679299.8374  436830.1870 -1.5551 0.1200 -1535646.2651   177046.5902\n",
      "OREB      732318.5884 1104657.5748  0.6629 0.5074 -1433212.9982  2897850.1750\n",
      "DREB     1999924.2154 1098967.3025  1.8198 0.0688  -154452.3629  4154300.7936\n",
      "REB      -828028.6076 1096874.2887 -0.7549 0.4503 -2978302.1158  1322244.9006\n",
      "AST       745013.3889   62861.6235 11.8516 0.0000   621781.6884   868245.0893\n",
      "BLK      1010995.3681  163770.9998  6.1732 0.0000   689944.5003  1332046.2358\n",
      "STL      -733651.8993  207817.7262 -3.5303 0.0004 -1141050.4095  -326253.3891\n",
      "PF       -608001.9418  122043.9705 -4.9818 0.0000  -847252.6192  -368751.2643\n",
      "TOV      -702949.7202  188857.1663 -3.7221 0.0002 -1073178.6204  -332720.8201\n",
      "PTS       295279.3539  731621.4826  0.4036 0.6865 -1138965.4891  1729524.1969\n",
      "-----------------------------------------------------------------------------\n",
      "Omnibus:                1354.121          Durbin-Watson:             2.019   \n",
      "Prob(Omnibus):          0.000             Jarque-Bera (JB):          5058.721\n",
      "Skew:                   1.099             Prob(JB):                  0.000   \n",
      "Kurtosis:               6.949             Condition No.:             2389    \n",
      "=============================================================================\n",
      "* The condition number is large (2e+03). This might indicate\n",
      "strong multicollinearity or other numerical problems.\n"
     ]
    },
    {
     "name": "stderr",
     "output_type": "stream",
     "text": [
      "/Users/yangzibin/opt/anaconda3/lib/python3.7/site-packages/numpy/core/fromnumeric.py:2495: FutureWarning: Method .ptp is deprecated and will be removed in a future version. Use numpy.ptp instead.\n",
      "  return ptp(axis=axis, out=out, **kwargs)\n"
     ]
    }
   ],
   "source": [
    "X_const = sm.add_constant(X_train)\n",
    "model = sm.OLS(y_train, X_const)\n",
    "res = model.fit()\n",
    "pred = res.predict(sm.add_constant(X_test))\n",
    "print('Mean Absolute Error is ', mean_absolute_error(y_test, pred))\n",
    "print('\\nResult Summary:')\n",
    "_ = print(res.summary2())"
   ]
  },
  {
   "cell_type": "markdown",
   "metadata": {},
   "source": [
    "###### Linear Regression - Log Transformation"
   ]
  },
  {
   "cell_type": "code",
   "execution_count": 15,
   "metadata": {},
   "outputs": [
    {
     "name": "stdout",
     "output_type": "stream",
     "text": [
      "Mean Absolute Error is  2774774.0400867644\n",
      "\n",
      "Result Summary:\n",
      "                  Results: Ordinary least squares\n",
      "===================================================================\n",
      "Model:              OLS              Adj. R-squared:     0.428     \n",
      "Dependent Variable: SALARY_log       AIC:                15553.1299\n",
      "Date:               2020-11-12 16:14 BIC:                15693.6228\n",
      "No. Observations:   5944             Log-Likelihood:     -7755.6   \n",
      "Df Model:           20               F-statistic:        223.3     \n",
      "Df Residuals:       5923             Prob (F-statistic): 0.00      \n",
      "R-squared:          0.430            Scale:              0.79868   \n",
      "---------------------------------------------------------------------\n",
      "            Coef.    Std.Err.      t       P>|t|     [0.025    0.975]\n",
      "---------------------------------------------------------------------\n",
      "const      13.5312     0.1097   123.3086   0.0000   13.3161   13.7464\n",
      "GP          0.0031     0.0007     4.4973   0.0000    0.0018    0.0045\n",
      "MIN         0.0206     0.0042     4.9620   0.0000    0.0125    0.0288\n",
      "FG_PCT     -0.1127     0.2210    -0.5098   0.6102   -0.5458    0.3205\n",
      "FGM        -0.1434     0.3120    -0.4597   0.6457   -0.7551    0.4683\n",
      "FGA        -0.0852     0.0246    -3.4637   0.0005   -0.1334   -0.0370\n",
      "FG3M       -0.0553     0.1897    -0.2914   0.7708   -0.4272    0.3166\n",
      "FG3A        0.0468     0.0446     1.0492   0.2941   -0.0406    0.1342\n",
      "FG3_PCT    -0.4428     0.0899    -4.9272   0.0000   -0.6190   -0.2666\n",
      "FTM        -0.0986     0.1618    -0.6096   0.5421   -0.4158    0.2185\n",
      "FTA        -0.0481     0.0444    -1.0827   0.2790   -0.1352    0.0390\n",
      "FT_PCT      0.0484     0.0933     0.5185   0.6041   -0.1346    0.2314\n",
      "OREB       -0.1170     0.2360    -0.4957   0.6201   -0.5798    0.3457\n",
      "DREB       -0.0192     0.2348    -0.0818   0.9348   -0.4796    0.4412\n",
      "REB         0.1507     0.2344     0.6431   0.5202   -0.3087    0.6102\n",
      "AST         0.0726     0.0134     5.4049   0.0000    0.0463    0.0989\n",
      "BLK         0.1512     0.0350     4.3201   0.0000    0.0826    0.2198\n",
      "STL        -0.1433     0.0444    -3.2280   0.0013   -0.2304   -0.0563\n",
      "PF         -0.0486     0.0261    -1.8638   0.0624   -0.0997    0.0025\n",
      "TOV        -0.0366     0.0404    -0.9071   0.3644   -0.1157    0.0425\n",
      "PTS         0.2020     0.1563     1.2918   0.1965   -0.1045    0.5084\n",
      "-------------------------------------------------------------------\n",
      "Omnibus:              1305.959      Durbin-Watson:         1.992   \n",
      "Prob(Omnibus):        0.000         Jarque-Bera (JB):      4644.897\n",
      "Skew:                 -1.075        Prob(JB):              0.000   \n",
      "Kurtosis:             6.759         Condition No.:         2389    \n",
      "===================================================================\n",
      "* The condition number is large (2e+03). This might indicate\n",
      "strong multicollinearity or other numerical problems.\n"
     ]
    },
    {
     "name": "stderr",
     "output_type": "stream",
     "text": [
      "/Users/yangzibin/opt/anaconda3/lib/python3.7/site-packages/numpy/core/fromnumeric.py:2495: FutureWarning: Method .ptp is deprecated and will be removed in a future version. Use numpy.ptp instead.\n",
      "  return ptp(axis=axis, out=out, **kwargs)\n"
     ]
    }
   ],
   "source": [
    "X_const = sm.add_constant(X_log_train)\n",
    "model = sm.OLS(y_log_train, X_const)\n",
    "res = model.fit()\n",
    "pred = res.predict(sm.add_constant(X_log_test))\n",
    "print('Mean Absolute Error is ', mean_absolute_error(np.e**y_log_test, np.e**pred))\n",
    "print('\\nResult Summary:')\n",
    "_ = print(res.summary2())"
   ]
  },
  {
   "cell_type": "markdown",
   "metadata": {},
   "source": [
    "###### Random Forest"
   ]
  },
  {
   "cell_type": "code",
   "execution_count": 18,
   "metadata": {},
   "outputs": [],
   "source": [
    "# cross validation for logistic regression\n",
    "def rf_cv(X_tr, y_tr, X_te, y_te, n_splits = 10, n = 100):\n",
    "\n",
    "    # define kfold and loop through each iteration\n",
    "    kf = KFold(n_splits = n_splits, shuffle = True, random_state = 57)\n",
    "\n",
    "    # out of fold empty array\n",
    "    oof = np.zeros(shape = (X_tr.shape[0]))\n",
    "    # folds empty array\n",
    "    folds = np.zeros(shape = (X_tr.shape[0]))\n",
    "    # test empty array\n",
    "    t_fold = np.zeros(shape = (X_te.shape[0]))\n",
    "\n",
    "    # initial train, test and validation MAE\n",
    "    mae_train = []\n",
    "    mae_valid = []\n",
    "    mae_test = []\n",
    "    \n",
    "    for ti, vi in kf.split(X_tr):\n",
    "        \n",
    "        # split train and valid dataframe\n",
    "        train_features, train_labels = X_tr.loc[ti], y_tr[ti]\n",
    "        valid_features, valid_labels = X_tr.loc[vi], y_tr[vi]\n",
    "\n",
    "        rf = RandomForestRegressor(n_estimators = n, max_depth = 10, random_state = 57)\n",
    "        rf.fit(train_features, train_labels)\n",
    "        \n",
    "        oof[vi] = rf.predict(valid_features)\n",
    "        folds[ti] = rf.predict(train_features)\n",
    "        t_fold += rf.predict(X_te)\n",
    "        \n",
    "        # update MAE score for train and validation\n",
    "        mae_train.append(mean_absolute_error(train_labels, folds[ti]))\n",
    "        mae_valid.append(mean_absolute_error(valid_labels, oof[vi]))\n",
    "    \n",
    "    # update MAE score for test\n",
    "    mae_test.append(mean_absolute_error(y_te, np.round(t_fold / n_splits)))\n",
    "    \n",
    "    return mae_train, mae_valid, mae_test"
   ]
  },
  {
   "cell_type": "code",
   "execution_count": 19,
   "metadata": {},
   "outputs": [
    {
     "name": "stdout",
     "output_type": "stream",
     "text": [
      "Best Model:\n",
      "N =  50\n",
      "Validation MAE:  2751807.803611836\n",
      "Testing MAE:  [2729322.5055499496]\n"
     ]
    }
   ],
   "source": [
    "# grid search for best model based on MAE score\n",
    "mae_train_list = []\n",
    "mae_valid_list = []\n",
    "mae_test_list = []\n",
    "N = []\n",
    "X_train.reset_index(drop = True, inplace = True)\n",
    "for n in [50, 100, 150, 200]:\n",
    "    mae_train, mae_valid, mae_test = rf_cv(X_train,  y_train.values, X_test, y_test.values, n_splits = 5, n = n)\n",
    "    N.append(n)\n",
    "    mae_train_list.append(np.mean(mae_train))\n",
    "    mae_valid_list.append(np.mean(mae_valid))\n",
    "    mae_test_list.append(mae_test)\n",
    "    \n",
    "print('Best Model:')\n",
    "print('N = ', N[mae_valid_list.index(np.max(mae_valid_list))])\n",
    "print('Validation MAE: ', mae_valid_list[mae_valid_list.index(np.max(mae_valid_list))])\n",
    "print('Testing MAE: ', mae_test_list[mae_valid_list.index(np.max(mae_valid_list))])"
   ]
  },
  {
   "cell_type": "markdown",
   "metadata": {},
   "source": [
    "###### Random Forest - Log Transformation"
   ]
  },
  {
   "cell_type": "code",
   "execution_count": 20,
   "metadata": {},
   "outputs": [],
   "source": [
    "# cross validation for logistic regression\n",
    "def rf_log_cv(X_tr, y_tr, X_te, y_te, n_splits = 10, n = 100):\n",
    "\n",
    "    # define kfold and loop through each iteration\n",
    "    kf = KFold(n_splits = n_splits, shuffle = True, random_state = 57)\n",
    "\n",
    "    # out of fold empty array\n",
    "    oof = np.zeros(shape = (X_tr.shape[0]))\n",
    "    # folds empty array\n",
    "    folds = np.zeros(shape = (X_tr.shape[0]))\n",
    "    # test empty array\n",
    "    t_fold = np.zeros(shape = (X_te.shape[0]))\n",
    "\n",
    "    # initial train, test and validation MAE\n",
    "    mae_train = []\n",
    "    mae_valid = []\n",
    "    mae_test = []\n",
    "    \n",
    "    for ti, vi in kf.split(X_tr):\n",
    "        \n",
    "        # split train and valid dataframe\n",
    "        train_features, train_labels = X_tr.loc[ti], y_tr[ti]\n",
    "        valid_features, valid_labels = X_tr.loc[vi], y_tr[vi]\n",
    "\n",
    "        rf = RandomForestRegressor(n_estimators = n, max_depth = 10, random_state = 57)\n",
    "        rf.fit(train_features, train_labels)\n",
    "        \n",
    "        oof[vi] = rf.predict(valid_features)\n",
    "        folds[ti] = rf.predict(train_features)\n",
    "        t_fold += rf.predict(X_te)\n",
    "        \n",
    "        # update MAE score for train and validation\n",
    "        mae_train.append(mean_absolute_error(np.e**train_labels, np.e**folds[ti]))\n",
    "        mae_valid.append(mean_absolute_error(np.e**valid_labels, np.e**oof[vi]))\n",
    "    \n",
    "    # update MAE score for test\n",
    "    mae_test.append(mean_absolute_error(np.e**y_te, np.e**(np.round(t_fold / n_splits))))\n",
    "    \n",
    "    return mae_train, mae_valid, mae_test"
   ]
  },
  {
   "cell_type": "code",
   "execution_count": 21,
   "metadata": {},
   "outputs": [
    {
     "name": "stdout",
     "output_type": "stream",
     "text": [
      "Best Model:\n",
      "N =  50\n",
      "Validation MAE:  2736949.0007144\n",
      "Testing MAE:  [2911965.5297269295]\n"
     ]
    }
   ],
   "source": [
    "# grid search for best model based on MAE score\n",
    "mae_train_list = []\n",
    "mae_valid_list = []\n",
    "mae_test_list = []\n",
    "N = []\n",
    "X_log_train.reset_index(drop = True, inplace = True)\n",
    "for n in [50, 100, 150, 200]:\n",
    "    mae_train, mae_valid, mae_test = rf_log_cv(X_log_train,  y_log_train.values, X_log_test, y_log_test.values, n_splits = 5, n = n)\n",
    "    N.append(n)\n",
    "    mae_train_list.append(np.mean(mae_train))\n",
    "    mae_valid_list.append(np.mean(mae_valid))\n",
    "    mae_test_list.append(mae_test)\n",
    "\n",
    "print('Best Model:')\n",
    "print('N = ', N[mae_valid_list.index(np.max(mae_valid_list))])\n",
    "print('Validation MAE: ', mae_valid_list[mae_valid_list.index(np.max(mae_valid_list))])\n",
    "print('Testing MAE: ', mae_test_list[mae_valid_list.index(np.max(mae_valid_list))])"
   ]
  },
  {
   "cell_type": "markdown",
   "metadata": {},
   "source": [
    "###### Random Forest - Bin Salary"
   ]
  },
  {
   "cell_type": "code",
   "execution_count": 22,
   "metadata": {},
   "outputs": [],
   "source": [
    "# cross validation for logistic regression\n",
    "def rf_bin_cv(X_tr, y_tr, X_te, y_te, n_splits = 10, n = 100):\n",
    "\n",
    "    # define kfold and loop through each iteration\n",
    "    kf = KFold(n_splits = n_splits, shuffle = True, random_state = 57)\n",
    "\n",
    "    # out of fold empty array\n",
    "    oof = np.zeros(shape = (X_tr.shape[0]))\n",
    "    # folds empty array\n",
    "    folds = np.zeros(shape = (X_tr.shape[0]))\n",
    "    # test empty array\n",
    "    t_fold = np.zeros(shape = (X_te.shape[0]))\n",
    "\n",
    "    # initial train, test and validation accuracy\n",
    "    acc_train = []\n",
    "    acc_valid = []\n",
    "    acc_test = []\n",
    "    \n",
    "    for ti, vi in kf.split(X_tr):\n",
    "        \n",
    "        # split train and valid dataframe\n",
    "        train_features, train_labels = X_tr.loc[ti], y_tr[ti]\n",
    "        valid_features, valid_labels = X_tr.loc[vi], y_tr[vi]\n",
    "\n",
    "        rf = RandomForestClassifier(n_estimators = n, max_depth = 10, random_state = 57)\n",
    "        rf.fit(train_features, train_labels)\n",
    "        \n",
    "        oof[vi] = rf.predict(valid_features)\n",
    "        folds[ti] = rf.predict(train_features)\n",
    "        t_fold += rf.predict(X_te)\n",
    "        \n",
    "        # update accuracy score for train and validation\n",
    "        acc_train.append(accuracy_score(train_labels, folds[ti]))\n",
    "        acc_valid.append(accuracy_score(valid_labels, oof[vi]))\n",
    "    \n",
    "    # update accuracy score for test\n",
    "    acc_test.append(accuracy_score(y_te, np.round(t_fold / n_splits)))\n",
    "    \n",
    "    return acc_train, acc_valid, acc_test"
   ]
  },
  {
   "cell_type": "code",
   "execution_count": 23,
   "metadata": {},
   "outputs": [
    {
     "name": "stdout",
     "output_type": "stream",
     "text": [
      "Best Model:\n",
      "N =  100\n",
      "Validation Accuracy:  0.5102638382705666\n",
      "Testing Accuracy:  [0.5418768920282543]\n"
     ]
    }
   ],
   "source": [
    "# grid search for best model based on Accuracy score\n",
    "acc_train_list = []\n",
    "acc_valid_list = []\n",
    "acc_test_list = []\n",
    "N = []\n",
    "X_bin_train.reset_index(drop = True, inplace = True)\n",
    "for n in [50, 100, 150, 200]:\n",
    "    acc_train, acc_valid, acc_test = rf_bin_cv(X_bin_train,  y_bin_train.values, X_bin_test, y_bin_test.values, n_splits = 5, n = n)\n",
    "    N.append(n)\n",
    "    acc_train_list.append(np.mean(acc_train))\n",
    "    acc_valid_list.append(np.mean(acc_valid))\n",
    "    acc_test_list.append(acc_test)\n",
    "\n",
    "print('Best Model:')\n",
    "print('N = ', N[acc_valid_list.index(np.max(acc_valid_list))])\n",
    "print('Validation Accuracy: ', acc_valid_list[acc_valid_list.index(np.max(acc_valid_list))])\n",
    "print('Testing Accuracy: ', acc_test_list[acc_valid_list.index(np.max(acc_valid_list))])\n"
   ]
  },
  {
   "cell_type": "markdown",
   "metadata": {},
   "source": [
    "## Feature Importance\n",
    "\n",
    "---"
   ]
  },
  {
   "cell_type": "code",
   "execution_count": 42,
   "metadata": {},
   "outputs": [
    {
     "data": {
      "image/png": "[encoded data removed]",
      "text/plain": [
       "<Figure size 432x288 with 1 Axes>"
      ]
     },
     "metadata": {
      "needs_background": "light"
     },
     "output_type": "display_data"
    }
   ],
   "source": [
    "# select the best performance model\n",
    "rf = RandomForestRegressor(n_estimators = 50, max_depth = 10, random_state = 57)\n",
    "rf.fit(X_train,  y_train.values)\n",
    "\n",
    "# dataframe for feature importance and feature names\n",
    "feature_importance = np.array(rf.feature_importances_)\n",
    "features = np.array(X_train.columns)\n",
    "fi_df = pd.DataFrame({'features':features,'feature_importance':feature_importance})\n",
    "\n",
    "# sort the dataframe by feature importance\n",
    "fi_df.sort_values(by=['feature_importance'], ascending = False , inplace = True)\n",
    "\n",
    "\n",
    "# plot bar chart\n",
    "sns.barplot(fi_df['feature_importance'], fi_df['features'])\n",
    "plt.title('FEATURE IMPORTANCE')\n",
    "plt.xlabel('Feature Importance')\n",
    "_ = plt.ylabel('Features')"
   ]
  },
  {
   "cell_type": "markdown",
   "metadata": {},
   "source": [
    "The top three important features are points per game, minutes played per game and defensive rebounds per game."
   ]
  },
  {
   "cell_type": "code",
   "execution_count": null,
   "metadata": {},
   "outputs": [],
   "source": []
  },
  {
   "cell_type": "code",
   "execution_count": null,
   "metadata": {},
   "outputs": [],
   "source": []
  },
  {
   "cell_type": "code",
   "execution_count": null,
   "metadata": {},
   "outputs": [],
   "source": []
  },
  {
   "cell_type": "markdown",
   "metadata": {},
   "source": [
    "### useless code"
   ]
  },
  {
   "cell_type": "markdown",
   "metadata": {},
   "source": [
    "###### Avg Player Age vs Season"
   ]
  },
  {
   "cell_type": "code",
   "execution_count": null,
   "metadata": {},
   "outputs": [],
   "source": [
    "player_seasonAvg = player_df.groupby('season').mean()\n",
    "\n",
    "fig, ax = plt.subplots(figsize = (10, 6), facecolor='w')\n",
    "g = sns.lineplot(player_seasonAvg.index, player_seasonAvg['AGE'])\n",
    "_ = g.set_title('Average Player Age vs Season')\n",
    "_ = g.set_xticklabels(player_seasonAvg.index, rotation=30)"
   ]
  },
  {
   "cell_type": "code",
   "execution_count": null,
   "metadata": {},
   "outputs": [],
   "source": []
  },
  {
   "cell_type": "code",
   "execution_count": null,
   "metadata": {},
   "outputs": [],
   "source": []
  },
  {
   "cell_type": "code",
   "execution_count": null,
   "metadata": {},
   "outputs": [],
   "source": [
    "player_df['name_season'] = player_df['PLAYER_NAME'] + '_' + player_df['season']"
   ]
  },
  {
   "cell_type": "code",
   "execution_count": null,
   "metadata": {},
   "outputs": [],
   "source": [
    "player_df['PTS_PER_MIN'] = player_df['PTS']/player_df['MIN']\n",
    "player_df_pts = player_df.sort_values(by='PTS_PER_MIN')"
   ]
  },
  {
   "cell_type": "code",
   "execution_count": null,
   "metadata": {},
   "outputs": [],
   "source": [
    "fig, ax = plt.subplots(figsize = (13, 6), facecolor='w')\n",
    "g = sns.barplot(player_df_pts['name_season'][-20:], player_df_pts['PTS_PER_MIN'][-20:])\n",
    "_ = g.set_title('Top 20 Players by Points per Minute')\n",
    "_ = g.set_xticklabels(player_df_pts['name_season'][-20:], rotation = 90)"
   ]
  },
  {
   "cell_type": "code",
   "execution_count": null,
   "metadata": {},
   "outputs": [],
   "source": [
    "player_df_pts = player_df.sort_values(by='PTS')\n",
    "\n",
    "fig, ax = plt.subplots(figsize = (13, 6), facecolor='w')\n",
    "g = sns.barplot(player_df_pts['name_season'][-20:], player_df_pts['PTS'][-20:])\n",
    "_ = g.set_title('Top 20 Players by Points')\n",
    "_ = g.set_xticklabels(player_df_pts['name_season'][-20:], rotation = 90)"
   ]
  },
  {
   "cell_type": "code",
   "execution_count": null,
   "metadata": {},
   "outputs": [],
   "source": [
    "# select James Harden, Kobe Bryant and Allen Iverson\n",
    "player_df_top3 = player_df.loc[(player_df['PLAYER_NAME'] == 'James Harden')\n",
    "                               | (player_df['PLAYER_NAME'] == 'Kobe Bryant')\n",
    "                               | (player_df['PLAYER_NAME'] == 'Allen Iverson')]"
   ]
  },
  {
   "cell_type": "code",
   "execution_count": null,
   "metadata": {},
   "outputs": [],
   "source": [
    "player_df_top3 = player_df_top3.sort_values(by='name_season')"
   ]
  },
  {
   "cell_type": "code",
   "execution_count": null,
   "metadata": {},
   "outputs": [],
   "source": [
    "fig, ax = plt.subplots(figsize = (13, 6), facecolor='w')\n",
    "g = sns.lineplot(player_df_top3['season'], player_df_top3['PTS'], \n",
    "                    hue = player_df_top3['PLAYER_NAME'])\n",
    "_ = g.set_xticklabels(player_df_top3['season'], rotation = 90)"
   ]
  },
  {
   "cell_type": "code",
   "execution_count": null,
   "metadata": {},
   "outputs": [],
   "source": []
  },
  {
   "cell_type": "code",
   "execution_count": null,
   "metadata": {},
   "outputs": [],
   "source": []
  },
  {
   "cell_type": "code",
   "execution_count": null,
   "metadata": {},
   "outputs": [],
   "source": [
    "salary_df = player_salary(2020)\n",
    "salary_df['NAME'] = salary_df['NAME'].apply(lambda x: x.split(',')[0])"
   ]
  },
  {
   "cell_type": "code",
   "execution_count": null,
   "metadata": {},
   "outputs": [],
   "source": []
  },
  {
   "cell_type": "code",
   "execution_count": null,
   "metadata": {},
   "outputs": [],
   "source": [
    "\n",
    "player_df_2020 = player_df.loc[player_df['season'] == '2019-20']"
   ]
  },
  {
   "cell_type": "code",
   "execution_count": null,
   "metadata": {},
   "outputs": [],
   "source": [
    "player_df_2020 = player_df_2020.merge(salary_df, on = 'PLAYER_NAME', how = 'left')"
   ]
  },
  {
   "cell_type": "code",
   "execution_count": null,
   "metadata": {},
   "outputs": [],
   "source": [
    "player_df_2020.dropna(axis = 0, inplace = True)\n",
    "player_df_2020.reset_index(inplace = True)"
   ]
  },
  {
   "cell_type": "code",
   "execution_count": null,
   "metadata": {},
   "outputs": [],
   "source": []
  },
  {
   "cell_type": "code",
   "execution_count": null,
   "metadata": {},
   "outputs": [],
   "source": []
  },
  {
   "cell_type": "code",
   "execution_count": null,
   "metadata": {},
   "outputs": [],
   "source": []
  },
  {
   "cell_type": "code",
   "execution_count": null,
   "metadata": {},
   "outputs": [],
   "source": []
  },
  {
   "cell_type": "code",
   "execution_count": null,
   "metadata": {},
   "outputs": [],
   "source": [
    "X_train = player_df_2020[['PTS', 'AGE', 'GP', 'MIN', 'W', 'L', 'FGM', 'FGA', \n",
    "               'FG_PCT', 'OREB', 'DREB', 'REB', 'AST', 'TOV', 'STL', \n",
    "               'BLK', 'BLKA', 'PF']]\n",
    "y_train = player_df_2020['SALARY'].replace('[\\$,]', '', regex=True).astype(float)"
   ]
  },
  {
   "cell_type": "code",
   "execution_count": null,
   "metadata": {},
   "outputs": [],
   "source": [
    "from sklearn.model_selection import train_test_split\n",
    "X_train, X_test, y_train, y_test = train_test_split(X_train, y_train, test_size=0.3, random_state=42)"
   ]
  },
  {
   "cell_type": "code",
   "execution_count": null,
   "metadata": {},
   "outputs": [],
   "source": [
    "import lightgbm\n",
    "from sklearn.ensemble import RandomForestRegressor\n",
    "regr = RandomForestRegressor(n_estimators = 50, random_state=0)\n",
    "regr.fit(X_train, y_train)"
   ]
  },
  {
   "cell_type": "code",
   "execution_count": null,
   "metadata": {},
   "outputs": [],
   "source": [
    "pred = regr.predict(X_test)"
   ]
  },
  {
   "cell_type": "code",
   "execution_count": null,
   "metadata": {},
   "outputs": [],
   "source": [
    "from sklearn.metrics import mean_squared_error, mean_absolute_error\n",
    "mean_squared_error(y_test, pred)"
   ]
  },
  {
   "cell_type": "code",
   "execution_count": null,
   "metadata": {},
   "outputs": [],
   "source": [
    "mean_absolute_error(y_test, pred)"
   ]
  },
  {
   "cell_type": "code",
   "execution_count": null,
   "metadata": {},
   "outputs": [],
   "source": [
    "pred = regr.predict(X_train)\n",
    "mean_squared_error(y_train, pred)"
   ]
  },
  {
   "cell_type": "code",
   "execution_count": null,
   "metadata": {},
   "outputs": [],
   "source": [
    "mean_absolute_error(y_train, pred)"
   ]
  },
  {
   "cell_type": "code",
   "execution_count": null,
   "metadata": {},
   "outputs": [],
   "source": []
  },
  {
   "cell_type": "code",
   "execution_count": null,
   "metadata": {},
   "outputs": [],
   "source": []
  },
  {
   "cell_type": "code",
   "execution_count": null,
   "metadata": {},
   "outputs": [],
   "source": []
  },
  {
   "cell_type": "code",
   "execution_count": null,
   "metadata": {},
   "outputs": [],
   "source": []
  },
  {
   "cell_type": "code",
   "execution_count": null,
   "metadata": {},
   "outputs": [],
   "source": []
  },
  {
   "cell_type": "code",
   "execution_count": null,
   "metadata": {},
   "outputs": [],
   "source": [
    "team_df = nba_team_data('2019-20')"
   ]
  },
  {
   "cell_type": "code",
   "execution_count": null,
   "metadata": {},
   "outputs": [],
   "source": [
    "team_df.head()"
   ]
  },
  {
   "cell_type": "code",
   "execution_count": null,
   "metadata": {},
   "outputs": [],
   "source": []
  },
  {
   "cell_type": "code",
   "execution_count": null,
   "metadata": {},
   "outputs": [],
   "source": [
    "# get team name and abbrecivation dataframe\n",
    "team_name_url = 'https://en.wikipedia.org/wiki/Wikipedia:WikiProject_National_Basketball_Association/National_Basketball_Association_team_abbreviations'\n",
    "team_name = pd.read_html(team_name_url)\n",
    "team_name = team_name[0][1:]\n",
    "team_name.columns = ['TEAM_ABBREVIATION', 'TEAM_NAME']"
   ]
  },
  {
   "cell_type": "code",
   "execution_count": null,
   "metadata": {},
   "outputs": [],
   "source": [
    "# add team name feature to player_df\n",
    "player_df = player_df.merge(team_name, on = 'TEAM_ABBREVIATION', how = 'left')\n",
    "\n",
    "# select TEAM_NAME and W_PCT from team_df\n",
    "team_df_wPCT = team_df[['TEAM_NAME', 'W_PCT']]\n",
    "\n",
    "# team_df_wPCT left join player_df\n",
    "player_df['TEAM_NAME'] = player_df['TEAM_NAME'].replace(['Los Angeles Clippers'], 'LA Clippers')\n",
    "df = team_df_wPCT.merge(player_df, on = 'TEAM_NAME', how = 'left')"
   ]
  },
  {
   "cell_type": "code",
   "execution_count": null,
   "metadata": {},
   "outputs": [],
   "source": []
  },
  {
   "cell_type": "code",
   "execution_count": null,
   "metadata": {},
   "outputs": [],
   "source": [
    "# train = df.groupby('TEAM_NAME').mean()\n",
    "# train.reset_index(level=0, inplace=True)"
   ]
  },
  {
   "cell_type": "code",
   "execution_count": null,
   "metadata": {},
   "outputs": [],
   "source": []
  },
  {
   "cell_type": "code",
   "execution_count": null,
   "metadata": {},
   "outputs": [],
   "source": []
  },
  {
   "cell_type": "code",
   "execution_count": null,
   "metadata": {},
   "outputs": [],
   "source": []
  },
  {
   "cell_type": "code",
   "execution_count": null,
   "metadata": {},
   "outputs": [],
   "source": []
  },
  {
   "cell_type": "code",
   "execution_count": null,
   "metadata": {},
   "outputs": [],
   "source": []
  },
  {
   "cell_type": "code",
   "execution_count": null,
   "metadata": {},
   "outputs": [],
   "source": []
  },
  {
   "cell_type": "code",
   "execution_count": null,
   "metadata": {},
   "outputs": [],
   "source": []
  },
  {
   "cell_type": "code",
   "execution_count": null,
   "metadata": {},
   "outputs": [],
   "source": []
  },
  {
   "cell_type": "code",
   "execution_count": null,
   "metadata": {},
   "outputs": [],
   "source": []
  },
  {
   "cell_type": "code",
   "execution_count": null,
   "metadata": {},
   "outputs": [],
   "source": []
  },
  {
   "cell_type": "code",
   "execution_count": null,
   "metadata": {},
   "outputs": [],
   "source": [
    "from sklearn.cluster import KMeans\n",
    "X = player_df[['AGE', 'GP', 'MIN', 'W', 'L', 'PTS', 'FGM', 'FGA', \n",
    "               'FG_PCT', 'OREB', 'DREB', 'REB', 'AST', 'TOV', 'STL', \n",
    "               'BLK', 'BLKA', 'PF']]\n",
    "kmeans = KMeans(n_clusters = 5, random_state = 0).fit(X)"
   ]
  },
  {
   "cell_type": "code",
   "execution_count": null,
   "metadata": {},
   "outputs": [],
   "source": [
    "labels = pd.DataFrame({'label': kmeans.labels_})"
   ]
  },
  {
   "cell_type": "code",
   "execution_count": null,
   "metadata": {},
   "outputs": [],
   "source": [
    "player_df = pd.concat([player_df, labels], axis = 1)"
   ]
  },
  {
   "cell_type": "code",
   "execution_count": null,
   "metadata": {},
   "outputs": [],
   "source": [
    "df = team_df_wPCT.merge(player_df, on = 'TEAM_NAME', how = 'left')"
   ]
  },
  {
   "cell_type": "code",
   "execution_count": null,
   "metadata": {},
   "outputs": [],
   "source": [
    "a = df.groupby('TEAM_NAME').mean()"
   ]
  },
  {
   "cell_type": "code",
   "execution_count": null,
   "metadata": {},
   "outputs": [],
   "source": [
    "a = a[['W_PCT_x', 'label']]"
   ]
  },
  {
   "cell_type": "code",
   "execution_count": null,
   "metadata": {},
   "outputs": [],
   "source": [
    "a.corr()"
   ]
  },
  {
   "cell_type": "code",
   "execution_count": null,
   "metadata": {},
   "outputs": [],
   "source": []
  },
  {
   "cell_type": "code",
   "execution_count": null,
   "metadata": {},
   "outputs": [],
   "source": []
  }
 ],
 "metadata": {
  "kernelspec": {
   "display_name": "Python 3",
   "language": "python",
   "name": "python3"
  },
  "language_info": {
   "codemirror_mode": {
    "name": "ipython",
    "version": 3
   },
   "file_extension": ".py",
   "mimetype": "text/x-python",
   "name": "python",
   "nbconvert_exporter": "python",
   "pygments_lexer": "ipython3",
   "version": "3.7.4"
  }
 },
 "nbformat": 4,
 "nbformat_minor": 2
}
