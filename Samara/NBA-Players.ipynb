{
 "cells": [
  {
   "cell_type": "code",
   "execution_count": 1,
   "metadata": {},
   "outputs": [],
   "source": [
    "#Library Import\n",
    "import pandas as pd\n",
    "import numpy as np\n",
    "import seaborn as sns \n",
    "import scipy.cluster.hierarchy as shc\n",
    "from matplotlib import pyplot as plt\n",
    "\n",
    "import statsmodels.api as sm\n",
    "from sklearn.ensemble import RandomForestRegressor, RandomForestClassifier\n",
    "from sklearn.metrics import mean_squared_error, mean_absolute_error, accuracy_score, roc_auc_score\n",
    "from sklearn.preprocessing import LabelEncoder\n",
    "from sklearn.model_selection import KFold, train_test_split\n",
    "from sklearn.linear_model import LinearRegression, LogisticRegression,Lasso,Ridge\n",
    "from sklearn.preprocessing import MinMaxScaler,StandardScaler\n",
    "from sklearn.decomposition import PCA \n",
    "pd.set_option('display.max_rows', 500)\n",
    "\n",
    "from scipy import stats\n",
    "from bs4 import BeautifulSoup \n",
    "import requests\n",
    "import json\n",
    "import re\n",
    "import urllib\n",
    "from itertools import chain\n",
    "from time import sleep\n",
    "from tqdm import tqdm"
   ]
  },
  {
   "cell_type": "markdown",
   "metadata": {},
   "source": [
    "# Web Scraping "
   ]
  },
  {
   "cell_type": "code",
   "execution_count": 2,
   "metadata": {},
   "outputs": [],
   "source": [
    "# Team URL Extraction\n",
    "def build_team_urls():\n",
    "    # Open the espn teams webpage and extract the names of each roster available.\n",
    "    f = urllib.request.urlopen('http://www.espn.com/nba/teams')\n",
    "    teams_source = f.read().decode('utf-8')\n",
    "    teams = dict(re.findall(\"www\\.espn\\.com/nba/team/_/name/(\\w+)/(.+?)\\\",\", teams_source))\n",
    "    # Using the names of the rosters, create the urls of each roster\n",
    "    roster_urls = []\n",
    "    for key in teams.keys():\n",
    "        # each roster webpage follows this general pattern.\n",
    "        roster_urls.append('http://www.espn.com/nba/team/roster/_/name/' + key + '/' + teams[key])\n",
    "        teams[key] = str(teams[key])\n",
    "    return dict(zip(teams.values(), roster_urls))\n",
    "#Extract Players basic information\n",
    "def player_info(team_url):\n",
    "    f = urllib.request.urlopen(team_url)\n",
    "    teams_source = f.read().decode('utf-8')\n",
    "    sleep(0.5)\n",
    "    player_regex = ('\"athletes\":(.+?)\"subType\":')\n",
    "    player = re.findall(player_regex, teams_source)[0]\n",
    "    # Convert palyers to pandas dataframe\n",
    "    return pd.read_json(player[1:-4], lines=True)\n",
    "#Convert height\n",
    "def convert_height(h):\n",
    "    split_height = h.split(' ')\n",
    "    feet = float(split_height[0].replace(\"\\'\",\"\"))\n",
    "    inches = float(split_height[1].replace(\"\\\"\",\"\"))\n",
    "    return (feet*12 + inches)"
   ]
  },
  {
   "cell_type": "code",
   "execution_count": 3,
   "metadata": {},
   "outputs": [
    {
     "name": "stderr",
     "output_type": "stream",
     "text": [
      "100%|██████████| 30/30 [00:24<00:00,  1.21it/s]\n"
     ]
    }
   ],
   "source": [
    "# Get Team URLs and scrape the data\n",
    "team_urls = build_team_urls()\n",
    "player_physical = []\n",
    "for url in tqdm(team_urls.values()):\n",
    "    player_physical.append(player_info(url))"
   ]
  },
  {
   "cell_type": "code",
   "execution_count": 4,
   "metadata": {},
   "outputs": [],
   "source": [
    "player_physical = pd.concat(player_physical)\n",
    "player_physical = player_physical.reset_index(drop=True)"
   ]
  },
  {
   "cell_type": "code",
   "execution_count": 5,
   "metadata": {},
   "outputs": [
    {
     "name": "stderr",
     "output_type": "stream",
     "text": [
      "  1%|          | 7/603 [00:04<06:00,  1.66it/s]"
     ]
    },
    {
     "name": "stdout",
     "output_type": "stream",
     "text": [
      "6 has no info, "
     ]
    },
    {
     "name": "stderr",
     "output_type": "stream",
     "text": [
      "\r",
      "  1%|▏         | 8/603 [00:04<05:50,  1.70it/s]"
     ]
    },
    {
     "name": "stdout",
     "output_type": "stream",
     "text": [
      "7 has no info, "
     ]
    },
    {
     "name": "stderr",
     "output_type": "stream",
     "text": [
      "  2%|▏         | 10/603 [00:05<05:55,  1.67it/s]"
     ]
    },
    {
     "name": "stdout",
     "output_type": "stream",
     "text": [
      "9 has no info, "
     ]
    },
    {
     "name": "stderr",
     "output_type": "stream",
     "text": [
      "  3%|▎         | 21/603 [00:12<06:44,  1.44it/s]"
     ]
    },
    {
     "name": "stdout",
     "output_type": "stream",
     "text": [
      "20 has no info, "
     ]
    },
    {
     "name": "stderr",
     "output_type": "stream",
     "text": [
      "  6%|▌         | 36/603 [00:21<05:28,  1.73it/s]"
     ]
    },
    {
     "name": "stdout",
     "output_type": "stream",
     "text": [
      "35 has no info, "
     ]
    },
    {
     "name": "stderr",
     "output_type": "stream",
     "text": [
      "  6%|▋         | 38/603 [00:22<05:21,  1.76it/s]"
     ]
    },
    {
     "name": "stdout",
     "output_type": "stream",
     "text": [
      "37 has no info, "
     ]
    },
    {
     "name": "stderr",
     "output_type": "stream",
     "text": [
      "  9%|▉         | 54/603 [00:32<05:24,  1.69it/s]"
     ]
    },
    {
     "name": "stdout",
     "output_type": "stream",
     "text": [
      "53 has no info, "
     ]
    },
    {
     "name": "stderr",
     "output_type": "stream",
     "text": [
      "\r",
      "  9%|▉         | 55/603 [00:32<05:24,  1.69it/s]"
     ]
    },
    {
     "name": "stdout",
     "output_type": "stream",
     "text": [
      "54 has no info, "
     ]
    },
    {
     "name": "stderr",
     "output_type": "stream",
     "text": [
      " 10%|█         | 61/603 [00:36<05:18,  1.70it/s]"
     ]
    },
    {
     "name": "stdout",
     "output_type": "stream",
     "text": [
      "60 has no info, "
     ]
    },
    {
     "name": "stderr",
     "output_type": "stream",
     "text": [
      " 12%|█▏        | 73/603 [00:43<05:08,  1.72it/s]"
     ]
    },
    {
     "name": "stdout",
     "output_type": "stream",
     "text": [
      "72 has no info, "
     ]
    },
    {
     "name": "stderr",
     "output_type": "stream",
     "text": [
      " 12%|█▏        | 75/603 [00:44<04:59,  1.76it/s]"
     ]
    },
    {
     "name": "stdout",
     "output_type": "stream",
     "text": [
      "74 has no info, "
     ]
    },
    {
     "name": "stderr",
     "output_type": "stream",
     "text": [
      "\r",
      " 13%|█▎        | 76/603 [00:45<04:57,  1.77it/s]"
     ]
    },
    {
     "name": "stdout",
     "output_type": "stream",
     "text": [
      "75 has no info, "
     ]
    },
    {
     "name": "stderr",
     "output_type": "stream",
     "text": [
      " 13%|█▎        | 80/603 [00:47<04:54,  1.77it/s]"
     ]
    },
    {
     "name": "stdout",
     "output_type": "stream",
     "text": [
      "79 has no info, "
     ]
    },
    {
     "name": "stderr",
     "output_type": "stream",
     "text": [
      " 15%|█▌        | 92/603 [00:54<05:00,  1.70it/s]"
     ]
    },
    {
     "name": "stdout",
     "output_type": "stream",
     "text": [
      "91 has no info, "
     ]
    },
    {
     "name": "stderr",
     "output_type": "stream",
     "text": [
      "\r",
      " 15%|█▌        | 93/603 [00:55<05:14,  1.62it/s]"
     ]
    },
    {
     "name": "stdout",
     "output_type": "stream",
     "text": [
      "92 has no info, "
     ]
    },
    {
     "name": "stderr",
     "output_type": "stream",
     "text": [
      " 18%|█▊        | 107/603 [01:03<04:43,  1.75it/s]"
     ]
    },
    {
     "name": "stdout",
     "output_type": "stream",
     "text": [
      "106 has no info, "
     ]
    },
    {
     "name": "stderr",
     "output_type": "stream",
     "text": [
      " 20%|█▉        | 118/603 [01:09<04:32,  1.78it/s]"
     ]
    },
    {
     "name": "stdout",
     "output_type": "stream",
     "text": [
      "117 has no info, "
     ]
    },
    {
     "name": "stderr",
     "output_type": "stream",
     "text": [
      " 20%|██        | 123/603 [01:12<04:35,  1.74it/s]"
     ]
    },
    {
     "name": "stdout",
     "output_type": "stream",
     "text": [
      "122 has no info, "
     ]
    },
    {
     "name": "stderr",
     "output_type": "stream",
     "text": [
      " 22%|██▏       | 133/603 [01:19<05:46,  1.36it/s]"
     ]
    },
    {
     "name": "stdout",
     "output_type": "stream",
     "text": [
      "132 has no info, "
     ]
    },
    {
     "name": "stderr",
     "output_type": "stream",
     "text": [
      " 23%|██▎       | 137/603 [01:21<05:08,  1.51it/s]"
     ]
    },
    {
     "name": "stdout",
     "output_type": "stream",
     "text": [
      "136 has no info, "
     ]
    },
    {
     "name": "stderr",
     "output_type": "stream",
     "text": [
      " 23%|██▎       | 140/603 [01:23<04:36,  1.68it/s]"
     ]
    },
    {
     "name": "stdout",
     "output_type": "stream",
     "text": [
      "139 has no info, "
     ]
    },
    {
     "name": "stderr",
     "output_type": "stream",
     "text": [
      " 24%|██▎       | 142/603 [01:24<04:25,  1.74it/s]"
     ]
    },
    {
     "name": "stdout",
     "output_type": "stream",
     "text": [
      "141 has no info, "
     ]
    },
    {
     "name": "stderr",
     "output_type": "stream",
     "text": [
      " 24%|██▍       | 144/603 [01:25<04:20,  1.76it/s]"
     ]
    },
    {
     "name": "stdout",
     "output_type": "stream",
     "text": [
      "143 has no info, "
     ]
    },
    {
     "name": "stderr",
     "output_type": "stream",
     "text": [
      "\r",
      " 24%|██▍       | 145/603 [01:26<04:37,  1.65it/s]"
     ]
    },
    {
     "name": "stdout",
     "output_type": "stream",
     "text": [
      "144 has no info, "
     ]
    },
    {
     "name": "stderr",
     "output_type": "stream",
     "text": [
      "\r",
      " 24%|██▍       | 146/603 [01:27<04:53,  1.56it/s]"
     ]
    },
    {
     "name": "stdout",
     "output_type": "stream",
     "text": [
      "145 has no info, "
     ]
    },
    {
     "name": "stderr",
     "output_type": "stream",
     "text": [
      " 25%|██▌       | 151/603 [01:29<04:21,  1.73it/s]"
     ]
    },
    {
     "name": "stdout",
     "output_type": "stream",
     "text": [
      "150 has no info, "
     ]
    },
    {
     "name": "stderr",
     "output_type": "stream",
     "text": [
      " 26%|██▌       | 154/603 [01:31<04:32,  1.65it/s]"
     ]
    },
    {
     "name": "stdout",
     "output_type": "stream",
     "text": [
      "153 has no info, "
     ]
    },
    {
     "name": "stderr",
     "output_type": "stream",
     "text": [
      "\r",
      " 26%|██▌       | 155/603 [01:32<04:24,  1.69it/s]"
     ]
    },
    {
     "name": "stdout",
     "output_type": "stream",
     "text": [
      "154 has no info, "
     ]
    },
    {
     "name": "stderr",
     "output_type": "stream",
     "text": [
      " 27%|██▋       | 162/603 [01:36<04:09,  1.77it/s]"
     ]
    },
    {
     "name": "stdout",
     "output_type": "stream",
     "text": [
      "161 has no info, "
     ]
    },
    {
     "name": "stderr",
     "output_type": "stream",
     "text": [
      "\r",
      " 27%|██▋       | 163/603 [01:36<04:06,  1.79it/s]"
     ]
    },
    {
     "name": "stdout",
     "output_type": "stream",
     "text": [
      "162 has no info, "
     ]
    },
    {
     "name": "stderr",
     "output_type": "stream",
     "text": [
      " 28%|██▊       | 168/603 [01:39<04:03,  1.79it/s]"
     ]
    },
    {
     "name": "stdout",
     "output_type": "stream",
     "text": [
      "167 has no info, "
     ]
    },
    {
     "name": "stderr",
     "output_type": "stream",
     "text": [
      " 30%|██▉       | 179/603 [01:45<04:00,  1.76it/s]"
     ]
    },
    {
     "name": "stdout",
     "output_type": "stream",
     "text": [
      "178 has no info, "
     ]
    },
    {
     "name": "stderr",
     "output_type": "stream",
     "text": [
      " 32%|███▏      | 190/603 [01:52<04:14,  1.62it/s]"
     ]
    },
    {
     "name": "stdout",
     "output_type": "stream",
     "text": [
      "189 has no info, "
     ]
    },
    {
     "name": "stderr",
     "output_type": "stream",
     "text": [
      " 33%|███▎      | 198/603 [01:57<03:51,  1.75it/s]"
     ]
    },
    {
     "name": "stdout",
     "output_type": "stream",
     "text": [
      "197 has no info, "
     ]
    },
    {
     "name": "stderr",
     "output_type": "stream",
     "text": [
      " 33%|███▎      | 200/603 [01:58<03:51,  1.74it/s]"
     ]
    },
    {
     "name": "stdout",
     "output_type": "stream",
     "text": [
      "199 has no info, "
     ]
    },
    {
     "name": "stderr",
     "output_type": "stream",
     "text": [
      "\r",
      " 33%|███▎      | 201/603 [01:59<03:48,  1.76it/s]"
     ]
    },
    {
     "name": "stdout",
     "output_type": "stream",
     "text": [
      "200 has no info, "
     ]
    },
    {
     "name": "stderr",
     "output_type": "stream",
     "text": [
      " 36%|███▌      | 217/603 [02:08<03:27,  1.86it/s]"
     ]
    },
    {
     "name": "stdout",
     "output_type": "stream",
     "text": [
      "216 has no info, "
     ]
    },
    {
     "name": "stderr",
     "output_type": "stream",
     "text": [
      "\r",
      " 36%|███▌      | 218/603 [02:08<03:26,  1.86it/s]"
     ]
    },
    {
     "name": "stdout",
     "output_type": "stream",
     "text": [
      "217 has no info, "
     ]
    },
    {
     "name": "stderr",
     "output_type": "stream",
     "text": [
      "\r",
      " 36%|███▋      | 219/603 [02:09<03:27,  1.85it/s]"
     ]
    },
    {
     "name": "stdout",
     "output_type": "stream",
     "text": [
      "218 has no info, "
     ]
    },
    {
     "name": "stderr",
     "output_type": "stream",
     "text": [
      " 37%|███▋      | 224/603 [02:12<03:29,  1.81it/s]"
     ]
    },
    {
     "name": "stdout",
     "output_type": "stream",
     "text": [
      "223 has no info, "
     ]
    },
    {
     "name": "stderr",
     "output_type": "stream",
     "text": [
      " 38%|███▊      | 227/603 [02:13<03:40,  1.71it/s]"
     ]
    },
    {
     "name": "stdout",
     "output_type": "stream",
     "text": [
      "226 has no info, "
     ]
    },
    {
     "name": "stderr",
     "output_type": "stream",
     "text": [
      "\r",
      " 38%|███▊      | 228/603 [02:14<03:33,  1.75it/s]"
     ]
    },
    {
     "name": "stdout",
     "output_type": "stream",
     "text": [
      "227 has no info, "
     ]
    },
    {
     "name": "stderr",
     "output_type": "stream",
     "text": [
      "\r",
      " 38%|███▊      | 229/603 [02:15<03:29,  1.79it/s]"
     ]
    },
    {
     "name": "stdout",
     "output_type": "stream",
     "text": [
      "228 has no info, "
     ]
    },
    {
     "name": "stderr",
     "output_type": "stream",
     "text": [
      "\r",
      " 38%|███▊      | 230/603 [02:15<03:26,  1.80it/s]"
     ]
    },
    {
     "name": "stdout",
     "output_type": "stream",
     "text": [
      "229 has no info, "
     ]
    },
    {
     "name": "stderr",
     "output_type": "stream",
     "text": [
      " 39%|███▉      | 237/603 [02:19<03:35,  1.70it/s]"
     ]
    },
    {
     "name": "stdout",
     "output_type": "stream",
     "text": [
      "236 has no info, "
     ]
    },
    {
     "name": "stderr",
     "output_type": "stream",
     "text": [
      "\r",
      " 39%|███▉      | 238/603 [02:20<03:31,  1.72it/s]"
     ]
    },
    {
     "name": "stdout",
     "output_type": "stream",
     "text": [
      "237 has no info, "
     ]
    },
    {
     "name": "stderr",
     "output_type": "stream",
     "text": [
      " 40%|███▉      | 240/603 [02:21<03:27,  1.75it/s]"
     ]
    },
    {
     "name": "stdout",
     "output_type": "stream",
     "text": [
      "239 has no info, "
     ]
    },
    {
     "name": "stderr",
     "output_type": "stream",
     "text": [
      " 40%|████      | 242/603 [02:22<03:21,  1.79it/s]"
     ]
    },
    {
     "name": "stdout",
     "output_type": "stream",
     "text": [
      "241 has no info, "
     ]
    },
    {
     "name": "stderr",
     "output_type": "stream",
     "text": [
      " 40%|████      | 244/603 [02:23<03:17,  1.82it/s]"
     ]
    },
    {
     "name": "stdout",
     "output_type": "stream",
     "text": [
      "243 has no info, "
     ]
    },
    {
     "name": "stderr",
     "output_type": "stream",
     "text": [
      " 41%|████▏     | 250/603 [02:27<03:33,  1.65it/s]"
     ]
    },
    {
     "name": "stdout",
     "output_type": "stream",
     "text": [
      "249 has no info, "
     ]
    },
    {
     "name": "stderr",
     "output_type": "stream",
     "text": [
      " 44%|████▎     | 263/603 [02:35<03:16,  1.73it/s]"
     ]
    },
    {
     "name": "stdout",
     "output_type": "stream",
     "text": [
      "262 has no info, "
     ]
    },
    {
     "name": "stderr",
     "output_type": "stream",
     "text": [
      " 44%|████▍     | 266/603 [02:37<03:27,  1.63it/s]"
     ]
    },
    {
     "name": "stdout",
     "output_type": "stream",
     "text": [
      "265 has no info, "
     ]
    },
    {
     "name": "stderr",
     "output_type": "stream",
     "text": [
      " 45%|████▍     | 271/603 [02:40<03:25,  1.62it/s]"
     ]
    },
    {
     "name": "stdout",
     "output_type": "stream",
     "text": [
      "270 has no info, "
     ]
    },
    {
     "name": "stderr",
     "output_type": "stream",
     "text": [
      " 46%|████▌     | 276/603 [02:43<03:13,  1.69it/s]"
     ]
    },
    {
     "name": "stdout",
     "output_type": "stream",
     "text": [
      "275 has no info, "
     ]
    },
    {
     "name": "stderr",
     "output_type": "stream",
     "text": [
      " 46%|████▋     | 280/603 [02:45<03:06,  1.74it/s]"
     ]
    },
    {
     "name": "stdout",
     "output_type": "stream",
     "text": [
      "279 has no info, "
     ]
    },
    {
     "name": "stderr",
     "output_type": "stream",
     "text": [
      "\r",
      " 47%|████▋     | 281/603 [02:46<03:03,  1.75it/s]"
     ]
    },
    {
     "name": "stdout",
     "output_type": "stream",
     "text": [
      "280 has no info, "
     ]
    },
    {
     "name": "stderr",
     "output_type": "stream",
     "text": [
      " 47%|████▋     | 283/603 [02:47<03:01,  1.77it/s]"
     ]
    },
    {
     "name": "stdout",
     "output_type": "stream",
     "text": [
      "282 has no info, "
     ]
    },
    {
     "name": "stderr",
     "output_type": "stream",
     "text": [
      " 47%|████▋     | 285/603 [02:48<03:03,  1.73it/s]"
     ]
    },
    {
     "name": "stdout",
     "output_type": "stream",
     "text": [
      "284 has no info, "
     ]
    },
    {
     "name": "stderr",
     "output_type": "stream",
     "text": [
      " 48%|████▊     | 291/603 [02:51<02:50,  1.83it/s]"
     ]
    },
    {
     "name": "stdout",
     "output_type": "stream",
     "text": [
      "290 has no info, "
     ]
    },
    {
     "name": "stderr",
     "output_type": "stream",
     "text": [
      "\r",
      " 48%|████▊     | 292/603 [02:52<02:49,  1.84it/s]"
     ]
    },
    {
     "name": "stdout",
     "output_type": "stream",
     "text": [
      "291 has no info, "
     ]
    },
    {
     "name": "stderr",
     "output_type": "stream",
     "text": [
      " 49%|████▉     | 294/603 [02:53<02:56,  1.75it/s]"
     ]
    },
    {
     "name": "stdout",
     "output_type": "stream",
     "text": [
      "293 has no info, "
     ]
    },
    {
     "name": "stderr",
     "output_type": "stream",
     "text": [
      " 50%|████▉     | 301/603 [02:57<02:54,  1.73it/s]"
     ]
    },
    {
     "name": "stdout",
     "output_type": "stream",
     "text": [
      "300 has no info, "
     ]
    },
    {
     "name": "stderr",
     "output_type": "stream",
     "text": [
      " 50%|█████     | 304/603 [02:59<02:51,  1.75it/s]"
     ]
    },
    {
     "name": "stdout",
     "output_type": "stream",
     "text": [
      "303 has no info, "
     ]
    },
    {
     "name": "stderr",
     "output_type": "stream",
     "text": [
      " 51%|█████     | 307/603 [03:00<02:47,  1.77it/s]"
     ]
    },
    {
     "name": "stdout",
     "output_type": "stream",
     "text": [
      "306 has no info, "
     ]
    },
    {
     "name": "stderr",
     "output_type": "stream",
     "text": [
      " 52%|█████▏    | 311/603 [03:04<04:35,  1.06it/s]"
     ]
    },
    {
     "name": "stdout",
     "output_type": "stream",
     "text": [
      "310 has no info, "
     ]
    },
    {
     "name": "stderr",
     "output_type": "stream",
     "text": [
      " 52%|█████▏    | 314/603 [03:06<03:23,  1.42it/s]"
     ]
    },
    {
     "name": "stdout",
     "output_type": "stream",
     "text": [
      "313 has no info, "
     ]
    },
    {
     "name": "stderr",
     "output_type": "stream",
     "text": [
      " 53%|█████▎    | 319/603 [03:09<02:46,  1.71it/s]"
     ]
    },
    {
     "name": "stdout",
     "output_type": "stream",
     "text": [
      "318 has no info, "
     ]
    },
    {
     "name": "stderr",
     "output_type": "stream",
     "text": [
      " 53%|█████▎    | 321/603 [03:10<02:44,  1.71it/s]"
     ]
    },
    {
     "name": "stdout",
     "output_type": "stream",
     "text": [
      "320 has no info, "
     ]
    },
    {
     "name": "stderr",
     "output_type": "stream",
     "text": [
      " 54%|█████▎    | 323/603 [03:11<02:50,  1.65it/s]"
     ]
    },
    {
     "name": "stdout",
     "output_type": "stream",
     "text": [
      "322 has no info, "
     ]
    },
    {
     "name": "stderr",
     "output_type": "stream",
     "text": [
      " 54%|█████▍    | 327/603 [03:14<02:40,  1.72it/s]"
     ]
    },
    {
     "name": "stdout",
     "output_type": "stream",
     "text": [
      "326 has no info, "
     ]
    },
    {
     "name": "stderr",
     "output_type": "stream",
     "text": [
      "\r",
      " 54%|█████▍    | 328/603 [03:14<02:36,  1.75it/s]"
     ]
    },
    {
     "name": "stdout",
     "output_type": "stream",
     "text": [
      "327 has no info, "
     ]
    },
    {
     "name": "stderr",
     "output_type": "stream",
     "text": [
      " 55%|█████▌    | 333/603 [03:17<02:31,  1.78it/s]"
     ]
    },
    {
     "name": "stdout",
     "output_type": "stream",
     "text": [
      "332 has no info, "
     ]
    },
    {
     "name": "stderr",
     "output_type": "stream",
     "text": [
      " 58%|█████▊    | 351/603 [03:28<02:18,  1.82it/s]"
     ]
    },
    {
     "name": "stdout",
     "output_type": "stream",
     "text": [
      "350 has no info, "
     ]
    },
    {
     "name": "stderr",
     "output_type": "stream",
     "text": [
      " 59%|█████▉    | 358/603 [03:32<02:18,  1.76it/s]"
     ]
    },
    {
     "name": "stdout",
     "output_type": "stream",
     "text": [
      "357 has no info, "
     ]
    },
    {
     "name": "stderr",
     "output_type": "stream",
     "text": [
      " 60%|█████▉    | 360/603 [03:33<02:16,  1.79it/s]"
     ]
    },
    {
     "name": "stdout",
     "output_type": "stream",
     "text": [
      "359 has no info, "
     ]
    },
    {
     "name": "stderr",
     "output_type": "stream",
     "text": [
      "\r",
      " 60%|█████▉    | 361/603 [03:34<02:13,  1.81it/s]"
     ]
    },
    {
     "name": "stdout",
     "output_type": "stream",
     "text": [
      "360 has no info, "
     ]
    },
    {
     "name": "stderr",
     "output_type": "stream",
     "text": [
      " 60%|██████    | 364/603 [03:35<02:20,  1.71it/s]"
     ]
    },
    {
     "name": "stdout",
     "output_type": "stream",
     "text": [
      "363 has no info, "
     ]
    },
    {
     "name": "stderr",
     "output_type": "stream",
     "text": [
      " 62%|██████▏   | 372/603 [03:40<02:11,  1.76it/s]"
     ]
    },
    {
     "name": "stdout",
     "output_type": "stream",
     "text": [
      "371 has no info, "
     ]
    },
    {
     "name": "stderr",
     "output_type": "stream",
     "text": [
      " 64%|██████▍   | 385/603 [03:47<02:05,  1.74it/s]"
     ]
    },
    {
     "name": "stdout",
     "output_type": "stream",
     "text": [
      "384 has no info, "
     ]
    },
    {
     "name": "stderr",
     "output_type": "stream",
     "text": [
      " 65%|██████▍   | 391/603 [03:51<02:01,  1.75it/s]"
     ]
    },
    {
     "name": "stdout",
     "output_type": "stream",
     "text": [
      "390 has no info, "
     ]
    },
    {
     "name": "stderr",
     "output_type": "stream",
     "text": [
      " 65%|██████▌   | 394/603 [03:53<01:56,  1.80it/s]"
     ]
    },
    {
     "name": "stdout",
     "output_type": "stream",
     "text": [
      "393 has no info, "
     ]
    },
    {
     "name": "stderr",
     "output_type": "stream",
     "text": [
      " 67%|██████▋   | 401/603 [03:57<01:52,  1.80it/s]"
     ]
    },
    {
     "name": "stdout",
     "output_type": "stream",
     "text": [
      "400 has no info, "
     ]
    },
    {
     "name": "stderr",
     "output_type": "stream",
     "text": [
      " 68%|██████▊   | 409/603 [04:01<02:11,  1.47it/s]"
     ]
    },
    {
     "name": "stdout",
     "output_type": "stream",
     "text": [
      "408 has no info, "
     ]
    },
    {
     "name": "stderr",
     "output_type": "stream",
     "text": [
      " 69%|██████▉   | 415/603 [04:05<01:54,  1.64it/s]"
     ]
    },
    {
     "name": "stdout",
     "output_type": "stream",
     "text": [
      "414 has no info, "
     ]
    },
    {
     "name": "stderr",
     "output_type": "stream",
     "text": [
      " 70%|██████▉   | 420/603 [04:08<01:48,  1.68it/s]"
     ]
    },
    {
     "name": "stdout",
     "output_type": "stream",
     "text": [
      "419 has no info, "
     ]
    },
    {
     "name": "stderr",
     "output_type": "stream",
     "text": [
      " 70%|██████▉   | 422/603 [04:09<01:48,  1.67it/s]"
     ]
    },
    {
     "name": "stdout",
     "output_type": "stream",
     "text": [
      "421 has no info, "
     ]
    },
    {
     "name": "stderr",
     "output_type": "stream",
     "text": [
      " 71%|███████   | 427/603 [04:12<01:45,  1.66it/s]"
     ]
    },
    {
     "name": "stdout",
     "output_type": "stream",
     "text": [
      "426 has no info, "
     ]
    },
    {
     "name": "stderr",
     "output_type": "stream",
     "text": [
      "\r",
      " 71%|███████   | 428/603 [04:13<01:41,  1.72it/s]"
     ]
    },
    {
     "name": "stdout",
     "output_type": "stream",
     "text": [
      "427 has no info, "
     ]
    },
    {
     "name": "stderr",
     "output_type": "stream",
     "text": [
      " 72%|███████▏  | 437/603 [04:18<01:32,  1.79it/s]"
     ]
    },
    {
     "name": "stdout",
     "output_type": "stream",
     "text": [
      "436 has no info, "
     ]
    },
    {
     "name": "stderr",
     "output_type": "stream",
     "text": [
      " 73%|███████▎  | 439/603 [04:19<01:32,  1.78it/s]"
     ]
    },
    {
     "name": "stdout",
     "output_type": "stream",
     "text": [
      "438 has no info, "
     ]
    },
    {
     "name": "stderr",
     "output_type": "stream",
     "text": [
      " 76%|███████▌  | 459/603 [04:31<01:20,  1.80it/s]"
     ]
    },
    {
     "name": "stdout",
     "output_type": "stream",
     "text": [
      "458 has no info, "
     ]
    },
    {
     "name": "stderr",
     "output_type": "stream",
     "text": [
      " 76%|███████▋  | 461/603 [04:32<01:23,  1.71it/s]"
     ]
    },
    {
     "name": "stdout",
     "output_type": "stream",
     "text": [
      "460 has no info, "
     ]
    },
    {
     "name": "stderr",
     "output_type": "stream",
     "text": [
      " 79%|███████▉  | 478/603 [04:42<01:10,  1.78it/s]"
     ]
    },
    {
     "name": "stdout",
     "output_type": "stream",
     "text": [
      "477 has no info, "
     ]
    },
    {
     "name": "stderr",
     "output_type": "stream",
     "text": [
      " 81%|████████  | 486/603 [04:46<01:06,  1.77it/s]"
     ]
    },
    {
     "name": "stdout",
     "output_type": "stream",
     "text": [
      "485 has no info, "
     ]
    },
    {
     "name": "stderr",
     "output_type": "stream",
     "text": [
      " 82%|████████▏ | 493/603 [04:50<01:01,  1.80it/s]"
     ]
    },
    {
     "name": "stdout",
     "output_type": "stream",
     "text": [
      "492 has no info, "
     ]
    },
    {
     "name": "stderr",
     "output_type": "stream",
     "text": [
      " 82%|████████▏ | 496/603 [04:52<01:00,  1.78it/s]"
     ]
    },
    {
     "name": "stdout",
     "output_type": "stream",
     "text": [
      "495 has no info, "
     ]
    },
    {
     "name": "stderr",
     "output_type": "stream",
     "text": [
      " 83%|████████▎ | 499/603 [04:54<00:58,  1.78it/s]"
     ]
    },
    {
     "name": "stdout",
     "output_type": "stream",
     "text": [
      "498 has no info, "
     ]
    },
    {
     "name": "stderr",
     "output_type": "stream",
     "text": [
      "\r",
      " 83%|████████▎ | 500/603 [04:54<00:57,  1.80it/s]"
     ]
    },
    {
     "name": "stdout",
     "output_type": "stream",
     "text": [
      "499 has no info, "
     ]
    },
    {
     "name": "stderr",
     "output_type": "stream",
     "text": [
      " 84%|████████▍ | 506/603 [04:58<00:55,  1.75it/s]"
     ]
    },
    {
     "name": "stdout",
     "output_type": "stream",
     "text": [
      "505 has no info, "
     ]
    },
    {
     "name": "stderr",
     "output_type": "stream",
     "text": [
      "\r",
      " 84%|████████▍ | 507/603 [04:58<00:54,  1.77it/s]"
     ]
    },
    {
     "name": "stdout",
     "output_type": "stream",
     "text": [
      "506 has no info, "
     ]
    },
    {
     "name": "stderr",
     "output_type": "stream",
     "text": [
      " 84%|████████▍ | 509/603 [04:59<00:54,  1.72it/s]"
     ]
    },
    {
     "name": "stdout",
     "output_type": "stream",
     "text": [
      "508 has no info, "
     ]
    },
    {
     "name": "stderr",
     "output_type": "stream",
     "text": [
      " 85%|████████▌ | 515/603 [05:03<00:56,  1.55it/s]"
     ]
    },
    {
     "name": "stdout",
     "output_type": "stream",
     "text": [
      "514 has no info, "
     ]
    },
    {
     "name": "stderr",
     "output_type": "stream",
     "text": [
      " 86%|████████▌ | 519/603 [05:06<00:54,  1.55it/s]"
     ]
    },
    {
     "name": "stdout",
     "output_type": "stream",
     "text": [
      "518 has no info, "
     ]
    },
    {
     "name": "stderr",
     "output_type": "stream",
     "text": [
      " 88%|████████▊ | 533/603 [05:15<00:39,  1.76it/s]"
     ]
    },
    {
     "name": "stdout",
     "output_type": "stream",
     "text": [
      "532 has no info, "
     ]
    },
    {
     "name": "stderr",
     "output_type": "stream",
     "text": [
      "\r",
      " 89%|████████▊ | 534/603 [05:15<00:38,  1.78it/s]"
     ]
    },
    {
     "name": "stdout",
     "output_type": "stream",
     "text": [
      "533 has no info, "
     ]
    },
    {
     "name": "stderr",
     "output_type": "stream",
     "text": [
      " 89%|████████▉ | 538/603 [05:17<00:39,  1.66it/s]"
     ]
    },
    {
     "name": "stdout",
     "output_type": "stream",
     "text": [
      "537 has no info, "
     ]
    },
    {
     "name": "stderr",
     "output_type": "stream",
     "text": [
      " 90%|████████▉ | 540/603 [05:19<00:47,  1.33it/s]"
     ]
    },
    {
     "name": "stdout",
     "output_type": "stream",
     "text": [
      "539 has no info, "
     ]
    },
    {
     "name": "stderr",
     "output_type": "stream",
     "text": [
      "\r",
      " 90%|████████▉ | 541/603 [05:20<00:42,  1.46it/s]"
     ]
    },
    {
     "name": "stdout",
     "output_type": "stream",
     "text": [
      "540 has no info, "
     ]
    },
    {
     "name": "stderr",
     "output_type": "stream",
     "text": [
      " 90%|█████████ | 545/603 [05:22<00:35,  1.63it/s]"
     ]
    },
    {
     "name": "stdout",
     "output_type": "stream",
     "text": [
      "544 has no info, "
     ]
    },
    {
     "name": "stderr",
     "output_type": "stream",
     "text": [
      " 91%|█████████ | 548/603 [05:24<00:33,  1.64it/s]"
     ]
    },
    {
     "name": "stdout",
     "output_type": "stream",
     "text": [
      "547 has no info, "
     ]
    },
    {
     "name": "stderr",
     "output_type": "stream",
     "text": [
      " 92%|█████████▏| 557/603 [05:30<00:27,  1.65it/s]"
     ]
    },
    {
     "name": "stdout",
     "output_type": "stream",
     "text": [
      "556 has no info, "
     ]
    },
    {
     "name": "stderr",
     "output_type": "stream",
     "text": [
      " 93%|█████████▎| 560/603 [05:32<00:24,  1.72it/s]"
     ]
    },
    {
     "name": "stdout",
     "output_type": "stream",
     "text": [
      "559 has no info, "
     ]
    },
    {
     "name": "stderr",
     "output_type": "stream",
     "text": [
      "\r",
      " 93%|█████████▎| 561/603 [05:32<00:23,  1.76it/s]"
     ]
    },
    {
     "name": "stdout",
     "output_type": "stream",
     "text": [
      "560 has no info, "
     ]
    },
    {
     "name": "stderr",
     "output_type": "stream",
     "text": [
      "\r",
      " 93%|█████████▎| 562/603 [05:33<00:23,  1.75it/s]"
     ]
    },
    {
     "name": "stdout",
     "output_type": "stream",
     "text": [
      "561 has no info, "
     ]
    },
    {
     "name": "stderr",
     "output_type": "stream",
     "text": [
      "\r",
      " 93%|█████████▎| 563/603 [05:33<00:22,  1.75it/s]"
     ]
    },
    {
     "name": "stdout",
     "output_type": "stream",
     "text": [
      "562 has no info, "
     ]
    },
    {
     "name": "stderr",
     "output_type": "stream",
     "text": [
      " 95%|█████████▍| 572/603 [05:38<00:17,  1.78it/s]"
     ]
    },
    {
     "name": "stdout",
     "output_type": "stream",
     "text": [
      "571 has no info, "
     ]
    },
    {
     "name": "stderr",
     "output_type": "stream",
     "text": [
      " 96%|█████████▌| 578/603 [05:42<00:15,  1.66it/s]"
     ]
    },
    {
     "name": "stdout",
     "output_type": "stream",
     "text": [
      "577 has no info, "
     ]
    },
    {
     "name": "stderr",
     "output_type": "stream",
     "text": [
      "\r",
      " 96%|█████████▌| 579/603 [05:43<00:13,  1.71it/s]"
     ]
    },
    {
     "name": "stdout",
     "output_type": "stream",
     "text": [
      "578 has no info, "
     ]
    },
    {
     "name": "stderr",
     "output_type": "stream",
     "text": [
      "\r",
      " 96%|█████████▌| 580/603 [05:43<00:13,  1.75it/s]"
     ]
    },
    {
     "name": "stdout",
     "output_type": "stream",
     "text": [
      "579 has no info, "
     ]
    },
    {
     "name": "stderr",
     "output_type": "stream",
     "text": [
      " 98%|█████████▊| 592/603 [05:51<00:06,  1.65it/s]"
     ]
    },
    {
     "name": "stdout",
     "output_type": "stream",
     "text": [
      "591 has no info, "
     ]
    },
    {
     "name": "stderr",
     "output_type": "stream",
     "text": [
      " 99%|█████████▉| 599/603 [05:55<00:02,  1.75it/s]"
     ]
    },
    {
     "name": "stdout",
     "output_type": "stream",
     "text": [
      "598 has no info, "
     ]
    },
    {
     "name": "stderr",
     "output_type": "stream",
     "text": [
      "100%|██████████| 603/603 [05:57<00:00,  1.69it/s]\n"
     ]
    }
   ],
   "source": [
    "career_stats_df = pd.DataFrame(columns = [\"GP\",\"GS\",\"MIN\",\"FGM\", \"FGA\",\"FG%\",\"3PTM\",\n",
    "                                          \"3PTA\",\"3P%\",\"FTM\",\"FTA\",\"FT%\",\"OR\",\"DR\",\n",
    "                                          \"REB\",\"AST\",\"BLK\",\"STL\",\"PF\",\"TO\",\"PTS\",'id'])\n",
    "# Performance score\n",
    "for player_index in tqdm(player_physical.index):\n",
    "    url = \"https://www.espn.com/nba/player/stats/_/id/\" + str(player_physical.iloc[player_index]['id'])\n",
    "    f = urllib.request.urlopen(url)\n",
    "    sleep(0.3)\n",
    "    player_source = f.read().decode('utf-8')\n",
    "    # extract career stats using this regex\n",
    "    stats_regex = ('\\[\\\"Career\\\",\\\"\\\",(.*?)\\]\\},\\{\\\"ttl\\\"\\:\\\"Regular Season Totals\\\"')\n",
    "    career_info = re.findall(stats_regex, player_source)\n",
    "    try:\n",
    "        # convert the stats to a list of floats, and add the entry to the DataFrame\n",
    "        career_info = career_info[0].replace(\"\\\"\", \"\").split(\",\")\n",
    "        career_info = list(chain.from_iterable([i.split(\"-\") for i in career_info]))\n",
    "        career_info = list(map(float,career_info)) + [player_physical.iloc[player_index]['id']]\n",
    "        career_stats_df = career_stats_df.append(pd.Series(career_info, index = career_stats_df.columns, name=player_index))\n",
    "    except:\n",
    "        # if no career stats were returned, the player was a rookie with no games played\n",
    "        print(str(player_index) + \" has no info, \", end = \"\")"
   ]
  },
  {
   "cell_type": "markdown",
   "metadata": {},
   "source": [
    "# Data Cleaning"
   ]
  },
  {
   "cell_type": "code",
   "execution_count": 6,
   "metadata": {},
   "outputs": [],
   "source": [
    "player_physical = pd.merge(player_physical,career_stats_df,how = 'left',\n",
    "              left_on=['id'], right_on = ['id'])"
   ]
  },
  {
   "cell_type": "code",
   "execution_count": 7,
   "metadata": {},
   "outputs": [],
   "source": [
    "# Remove NA value in the columns\n",
    "player_physical = player_physical[player_physical['height'].notna()]\n",
    "player_physical = player_physical[player_physical['weight'].notna()]\n",
    "player_physical = player_physical[player_physical['OR'].notna()]"
   ]
  },
  {
   "cell_type": "code",
   "execution_count": 8,
   "metadata": {},
   "outputs": [],
   "source": [
    "# Convert the format in the dataset\n",
    "player_physical['height'] = [convert_height(x) for x in player_physical['height']]\n",
    "player_physical['weight'] = [float(x.split(\" \")[0]) for x in player_physical['weight']]\n",
    "player_physical['salary'] = [int(re.sub(r'[^\\d.]+', '', s)) if isinstance(s, str) else s for s in player_physical['salary'].values]"
   ]
  },
  {
   "cell_type": "code",
   "execution_count": 9,
   "metadata": {},
   "outputs": [],
   "source": [
    "# Data Import from official website\n",
    "player_stats = pd.read_csv('../Datasets/nba_player_stats_official.csv')\n",
    "\n",
    "# Average score for each player collected from espn\n",
    "#player_physical = pd.read_csv('../Datasets/data_player.csv')"
   ]
  },
  {
   "cell_type": "code",
   "execution_count": 10,
   "metadata": {},
   "outputs": [],
   "source": [
    "player_att = player_physical[['name','position','height','weight']]"
   ]
  },
  {
   "cell_type": "code",
   "execution_count": 11,
   "metadata": {},
   "outputs": [],
   "source": [
    "# Merge with NBA official data over the years \n",
    "df = pd.merge(player_att,player_stats,how = 'left', left_on=['name'], right_on = ['PLAYER_NAME']).drop(columns = ['PLAYER_NAME']).dropna()"
   ]
  },
  {
   "cell_type": "markdown",
   "metadata": {},
   "source": [
    "# EDA -  Physical Attribute and Performance"
   ]
  },
  {
   "cell_type": "markdown",
   "metadata": {},
   "source": [
    "## ESPN Players Physical Attribute - Height, Weight, Age"
   ]
  },
  {
   "cell_type": "code",
   "execution_count": 12,
   "metadata": {},
   "outputs": [],
   "source": [
    "# Individual Physical Attributes\n",
    "physical_att = player_physical[['name','position','age','height','weight','GP','GS', 'MIN', 'FGM',\n",
    "       'FGA', 'FG%', '3PTM', '3PTA', '3P%', 'FTM', 'FTA', 'FT%', 'OR', 'DR',\n",
    "       'REB', 'AST', 'BLK', 'STL', 'PF', 'TO', 'PTS']].dropna()"
   ]
  },
  {
   "cell_type": "code",
   "execution_count": 13,
   "metadata": {},
   "outputs": [
    {
     "data": {
      "text/plain": [
       "count    482.000000\n",
       "mean      26.321577\n",
       "std        4.011718\n",
       "min       19.000000\n",
       "25%       23.000000\n",
       "50%       26.000000\n",
       "75%       29.000000\n",
       "max       40.000000\n",
       "Name: age, dtype: float64"
      ]
     },
     "execution_count": 13,
     "metadata": {},
     "output_type": "execute_result"
    }
   ],
   "source": [
    "physical_att['age'].describe()"
   ]
  },
  {
   "cell_type": "code",
   "execution_count": 165,
   "metadata": {},
   "outputs": [
    {
     "data": {
      "text/plain": [
       "<matplotlib.lines.Line2D at 0x7f9563a2bdc0>"
      ]
     },
     "execution_count": 165,
     "metadata": {},
     "output_type": "execute_result"
    },
    {
     "data": {
      "image/png": "[encoded data removed]",
      "text/plain": [
       "<Figure size 432x288 with 1 Axes>"
      ]
     },
     "metadata": {
      "needs_background": "light"
     },
     "output_type": "display_data"
    }
   ],
   "source": [
    "sns.distplot(physical_att['age'])\n",
    "plt.title('Age Distribution')\n",
    "plt.axvline(x=26,color='r')"
   ]
  },
  {
   "cell_type": "code",
   "execution_count": 166,
   "metadata": {},
   "outputs": [
    {
     "data": {
      "text/plain": [
       "<matplotlib.lines.Line2D at 0x7f95517bbc10>"
      ]
     },
     "execution_count": 166,
     "metadata": {},
     "output_type": "execute_result"
    },
    {
     "data": {
      "image/png": "[encoded data removed]",
      "text/plain": [
       "<Figure size 432x288 with 1 Axes>"
      ]
     },
     "metadata": {
      "needs_background": "light"
     },
     "output_type": "display_data"
    }
   ],
   "source": [
    "sns.distplot(physical_att['height'])\n",
    "plt.title('Height Distribution')\n",
    "plt.xlabel('height (inch)')\n",
    "plt.axvline(x=78,color='r')"
   ]
  },
  {
   "cell_type": "code",
   "execution_count": 167,
   "metadata": {},
   "outputs": [
    {
     "data": {
      "text/plain": [
       "count    482.000000\n",
       "mean      78.601660\n",
       "std        3.324926\n",
       "min       69.000000\n",
       "25%       76.000000\n",
       "50%       79.000000\n",
       "75%       81.000000\n",
       "max       89.000000\n",
       "Name: height, dtype: float64"
      ]
     },
     "execution_count": 167,
     "metadata": {},
     "output_type": "execute_result"
    }
   ],
   "source": [
    "physical_att.height.describe()"
   ]
  },
  {
   "cell_type": "code",
   "execution_count": 168,
   "metadata": {},
   "outputs": [
    {
     "data": {
      "text/plain": [
       "<matplotlib.lines.Line2D at 0x7f95415eddf0>"
      ]
     },
     "execution_count": 168,
     "metadata": {},
     "output_type": "execute_result"
    },
    {
     "data": {
      "image/png": "[encoded data removed]",
      "text/plain": [
       "<Figure size 432x288 with 1 Axes>"
      ]
     },
     "metadata": {
      "needs_background": "light"
     },
     "output_type": "display_data"
    }
   ],
   "source": [
    "sns.distplot(physical_att['weight'])\n",
    "plt.title('Weight Distribution')\n",
    "plt.xlabel('Weight (lbs)')\n",
    "plt.axvline(x=215,color='r')"
   ]
  },
  {
   "cell_type": "code",
   "execution_count": 169,
   "metadata": {},
   "outputs": [
    {
     "data": {
      "text/plain": [
       "count    482.000000\n",
       "mean     218.568465\n",
       "std       24.202208\n",
       "min      167.000000\n",
       "25%      201.000000\n",
       "50%      216.000000\n",
       "75%      235.000000\n",
       "max      311.000000\n",
       "Name: weight, dtype: float64"
      ]
     },
     "execution_count": 169,
     "metadata": {},
     "output_type": "execute_result"
    }
   ],
   "source": [
    "physical_att.weight.describe()"
   ]
  },
  {
   "cell_type": "markdown",
   "metadata": {},
   "source": [
    "# Feature of Importance - Height and Weight"
   ]
  },
  {
   "cell_type": "code",
   "execution_count": 170,
   "metadata": {},
   "outputs": [
    {
     "data": {
      "text/plain": [
       "<matplotlib.axes._subplots.AxesSubplot at 0x7f95719b3760>"
      ]
     },
     "execution_count": 170,
     "metadata": {},
     "output_type": "execute_result"
    },
    {
     "data": {
      "image/png": "[encoded data removed]",
      "text/plain": [
       "<Figure size 432x432 with 2 Axes>"
      ]
     },
     "metadata": {
      "needs_background": "light"
     },
     "output_type": "display_data"
    }
   ],
   "source": [
    "fig, ax = plt.subplots(figsize=(6, 6)) \n",
    "mask = np.zeros_like(physical_att.corr()[['weight','height']])\n",
    "mask[np.triu_indices_from(mask)] = 1\n",
    "sns.heatmap(physical_att.corr()[['weight','height']], mask= mask, ax= ax, annot= True,cmap=\"YlGnBu\")"
   ]
  },
  {
   "cell_type": "markdown",
   "metadata": {},
   "source": [
    "## Model Fitting - Linear Regression"
   ]
  },
  {
   "cell_type": "code",
   "execution_count": 171,
   "metadata": {},
   "outputs": [],
   "source": [
    "# Preparing X and y values for model fitting\n",
    "X = physical_att[['height','weight']]\n",
    "y = physical_att[['GP','GS', 'MIN', 'FGM',\n",
    "       'FGA', 'FG%', '3PTM', '3PTA', '3P%', 'FTM', 'FTA', 'FT%', 'OR', 'DR',\n",
    "       'REB', 'AST', 'BLK', 'STL', 'PF', 'TO', 'PTS']]\n",
    "# train test split\n",
    "X_train, X_test, y_train, y_test = train_test_split(X, y, \n",
    "    test_size = 0.25, random_state = 2)"
   ]
  },
  {
   "cell_type": "code",
   "execution_count": 172,
   "metadata": {},
   "outputs": [],
   "source": [
    "# Normalize the data\n",
    "# mean value of the training set height and weight\n",
    "m = X_train.mean()\n",
    "y_m = y_train.mean()\n",
    "# standard deviation of height and weight\n",
    "s = X_train.std()\n",
    "y_s = y_train.std()\n",
    "# Normalize the training set and test set\n",
    "X_train = (X_train - m) / s\n",
    "X_test = (X_test - m) / s\n",
    "y_train = (y_train - y_m) / y_s\n",
    "y_test = (y_test - y_m) / y_s"
   ]
  },
  {
   "cell_type": "code",
   "execution_count": 173,
   "metadata": {},
   "outputs": [],
   "source": [
    "# Fit linear regression models using each performance score as target variable and\n",
    "#  height and weight as input variables.  \n",
    "mse_test = []\n",
    "mse_train =[]\n",
    "perf = ['GP','GS', 'MIN', 'FGM',\n",
    "       'FGA', 'FG%', '3PTM', '3PTA', '3P%', 'FTM', 'FTA', 'FT%', 'OR', 'DR',\n",
    "       'REB', 'AST', 'BLK', 'STL', 'PF', 'TO', 'PTS']\n",
    "for target in perf:\n",
    "    X_const = sm.add_constant(X_train)\n",
    "    model = sm.OLS(y_train[target], X_train)\n",
    "    res = model.fit()\n",
    "    #print('\\nResult Summary {0}:'.format(target))\n",
    "    #_ = print(res.summary2())\n",
    "    #Evaluation in the test set\n",
    "    pred = res.predict(X_test)\n",
    "    # Records the Test error\n",
    "    mse_test.append(mean_squared_error(y_test[target], pred))\n",
    "    pred = res.predict(X_train)\n",
    "    # Records the Test error\n",
    "    mse_train.append(mean_squared_error(y_train[target], pred))"
   ]
  },
  {
   "cell_type": "code",
   "execution_count": 175,
   "metadata": {},
   "outputs": [
    {
     "data": {
      "text/html": [
       "<div>\n",
       "<style scoped>\n",
       "    .dataframe tbody tr th:only-of-type {\n",
       "        vertical-align: middle;\n",
       "    }\n",
       "\n",
       "    .dataframe tbody tr th {\n",
       "        vertical-align: top;\n",
       "    }\n",
       "\n",
       "    .dataframe thead th {\n",
       "        text-align: right;\n",
       "    }\n",
       "</style>\n",
       "<table border=\"1\" class=\"dataframe\">\n",
       "  <thead>\n",
       "    <tr style=\"text-align: right;\">\n",
       "      <th></th>\n",
       "      <th>target</th>\n",
       "      <th>test_score</th>\n",
       "      <th>train_score</th>\n",
       "    </tr>\n",
       "  </thead>\n",
       "  <tbody>\n",
       "    <tr>\n",
       "      <th>0</th>\n",
       "      <td>GP</td>\n",
       "      <td>0.718287</td>\n",
       "      <td>0.962616</td>\n",
       "    </tr>\n",
       "    <tr>\n",
       "      <th>1</th>\n",
       "      <td>GS</td>\n",
       "      <td>0.880727</td>\n",
       "      <td>0.950857</td>\n",
       "    </tr>\n",
       "    <tr>\n",
       "      <th>2</th>\n",
       "      <td>MIN</td>\n",
       "      <td>1.003585</td>\n",
       "      <td>0.970934</td>\n",
       "    </tr>\n",
       "    <tr>\n",
       "      <th>3</th>\n",
       "      <td>FGM</td>\n",
       "      <td>1.000182</td>\n",
       "      <td>0.952841</td>\n",
       "    </tr>\n",
       "    <tr>\n",
       "      <th>4</th>\n",
       "      <td>FGA</td>\n",
       "      <td>0.975135</td>\n",
       "      <td>0.964873</td>\n",
       "    </tr>\n",
       "    <tr>\n",
       "      <th>5</th>\n",
       "      <td>FG%</td>\n",
       "      <td>0.603679</td>\n",
       "      <td>0.827934</td>\n",
       "    </tr>\n",
       "    <tr>\n",
       "      <th>6</th>\n",
       "      <td>3PTM</td>\n",
       "      <td>0.806204</td>\n",
       "      <td>0.866878</td>\n",
       "    </tr>\n",
       "    <tr>\n",
       "      <th>7</th>\n",
       "      <td>3PTA</td>\n",
       "      <td>0.774692</td>\n",
       "      <td>0.849535</td>\n",
       "    </tr>\n",
       "    <tr>\n",
       "      <th>8</th>\n",
       "      <td>3P%</td>\n",
       "      <td>0.907240</td>\n",
       "      <td>0.943548</td>\n",
       "    </tr>\n",
       "    <tr>\n",
       "      <th>9</th>\n",
       "      <td>FTM</td>\n",
       "      <td>0.911030</td>\n",
       "      <td>0.940911</td>\n",
       "    </tr>\n",
       "    <tr>\n",
       "      <th>10</th>\n",
       "      <td>FTA</td>\n",
       "      <td>0.860939</td>\n",
       "      <td>0.919991</td>\n",
       "    </tr>\n",
       "    <tr>\n",
       "      <th>11</th>\n",
       "      <td>FT%</td>\n",
       "      <td>0.852665</td>\n",
       "      <td>0.962871</td>\n",
       "    </tr>\n",
       "    <tr>\n",
       "      <th>12</th>\n",
       "      <td>OR</td>\n",
       "      <td>0.793996</td>\n",
       "      <td>0.544474</td>\n",
       "    </tr>\n",
       "    <tr>\n",
       "      <th>13</th>\n",
       "      <td>DR</td>\n",
       "      <td>0.800526</td>\n",
       "      <td>0.736755</td>\n",
       "    </tr>\n",
       "    <tr>\n",
       "      <th>14</th>\n",
       "      <td>REB</td>\n",
       "      <td>0.805963</td>\n",
       "      <td>0.650894</td>\n",
       "    </tr>\n",
       "    <tr>\n",
       "      <th>15</th>\n",
       "      <td>AST</td>\n",
       "      <td>0.861382</td>\n",
       "      <td>0.839647</td>\n",
       "    </tr>\n",
       "    <tr>\n",
       "      <th>16</th>\n",
       "      <td>BLK</td>\n",
       "      <td>0.660018</td>\n",
       "      <td>0.641313</td>\n",
       "    </tr>\n",
       "    <tr>\n",
       "      <th>17</th>\n",
       "      <td>STL</td>\n",
       "      <td>1.221222</td>\n",
       "      <td>0.935577</td>\n",
       "    </tr>\n",
       "    <tr>\n",
       "      <th>18</th>\n",
       "      <td>PF</td>\n",
       "      <td>0.927231</td>\n",
       "      <td>0.887451</td>\n",
       "    </tr>\n",
       "    <tr>\n",
       "      <th>19</th>\n",
       "      <td>TO</td>\n",
       "      <td>0.834592</td>\n",
       "      <td>0.951149</td>\n",
       "    </tr>\n",
       "    <tr>\n",
       "      <th>20</th>\n",
       "      <td>PTS</td>\n",
       "      <td>0.978574</td>\n",
       "      <td>0.960615</td>\n",
       "    </tr>\n",
       "  </tbody>\n",
       "</table>\n",
       "</div>"
      ],
      "text/plain": [
       "   target  test_score  train_score\n",
       "0      GP    0.718287     0.962616\n",
       "1      GS    0.880727     0.950857\n",
       "2     MIN    1.003585     0.970934\n",
       "3     FGM    1.000182     0.952841\n",
       "4     FGA    0.975135     0.964873\n",
       "5     FG%    0.603679     0.827934\n",
       "6    3PTM    0.806204     0.866878\n",
       "7    3PTA    0.774692     0.849535\n",
       "8     3P%    0.907240     0.943548\n",
       "9     FTM    0.911030     0.940911\n",
       "10    FTA    0.860939     0.919991\n",
       "11    FT%    0.852665     0.962871\n",
       "12     OR    0.793996     0.544474\n",
       "13     DR    0.800526     0.736755\n",
       "14    REB    0.805963     0.650894\n",
       "15    AST    0.861382     0.839647\n",
       "16    BLK    0.660018     0.641313\n",
       "17    STL    1.221222     0.935577\n",
       "18     PF    0.927231     0.887451\n",
       "19     TO    0.834592     0.951149\n",
       "20    PTS    0.978574     0.960615"
      ]
     },
     "execution_count": 175,
     "metadata": {},
     "output_type": "execute_result"
    }
   ],
   "source": [
    "# Combine Performance of each model on training set and test set\n",
    "pd.DataFrame({'target':perf,'test_score':mse_test,'train_score':mse_train})"
   ]
  },
  {
   "cell_type": "markdown",
   "metadata": {},
   "source": [
    "## Model Detail - REB, BLK,OR\n",
    "Rebounds which consist of offensive rebounds and defensive rebound, blocks have the best performance."
   ]
  },
  {
   "cell_type": "code",
   "execution_count": 176,
   "metadata": {},
   "outputs": [
    {
     "name": "stdout",
     "output_type": "stream",
     "text": [
      "\n",
      "Result Summary PTS:\n",
      "                       Results: Ordinary least squares\n",
      "==============================================================================\n",
      "Model:                  OLS              Adj. R-squared (uncentered): 0.344   \n",
      "Dependent Variable:     REB              AIC:                         873.4570\n",
      "Date:                   2020-12-11 15:15 BIC:                         881.2347\n",
      "No. Observations:       361              Log-Likelihood:              -434.73 \n",
      "Df Model:               2                F-statistic:                 95.51   \n",
      "Df Residuals:           359              Prob (F-statistic):          5.51e-34\n",
      "R-squared (uncentered): 0.347            Scale:                       0.65452 \n",
      "-----------------------------------------------------------------------------------\n",
      "               Coef.       Std.Err.        t         P>|t|       [0.025      0.975]\n",
      "-----------------------------------------------------------------------------------\n",
      "height         0.1447        0.0626      2.3124      0.0213      0.0216      0.2677\n",
      "weight         0.4751        0.0626      7.5938      0.0000      0.3521      0.5982\n",
      "------------------------------------------------------------------------------\n",
      "Omnibus:                   19.814           Durbin-Watson:              1.805 \n",
      "Prob(Omnibus):             0.000            Jarque-Bera (JB):           23.860\n",
      "Skew:                      0.487            Prob(JB):                   0.000 \n",
      "Kurtosis:                  3.799            Condition No.:              3     \n",
      "==============================================================================\n",
      "\n"
     ]
    }
   ],
   "source": [
    "# Model Details\n",
    "X_const = sm.add_constant(X_train)\n",
    "model = sm.OLS(y_train['REB'], X_train)\n",
    "res = model.fit()\n",
    "print('\\nResult Summary {0}:'.format(target))\n",
    "_ = print(res.summary2())"
   ]
  },
  {
   "cell_type": "code",
   "execution_count": 81,
   "metadata": {},
   "outputs": [
    {
     "name": "stdout",
     "output_type": "stream",
     "text": [
      "\n",
      "Result Summary PTS:\n",
      "                       Results: Ordinary least squares\n",
      "==============================================================================\n",
      "Model:                  OLS              Adj. R-squared (uncentered): 0.351   \n",
      "Dependent Variable:     BLK              AIC:                         908.0003\n",
      "Date:                   2020-12-07 15:31 BIC:                         915.8648\n",
      "No. Observations:       377              Log-Likelihood:              -452.00 \n",
      "Df Model:               2                F-statistic:                 102.9   \n",
      "Df Residuals:           375              Prob (F-statistic):          2.44e-36\n",
      "R-squared (uncentered): 0.354            Scale:                       0.64747 \n",
      "-----------------------------------------------------------------------------------\n",
      "               Coef.       Std.Err.        t         P>|t|       [0.025      0.975]\n",
      "-----------------------------------------------------------------------------------\n",
      "height         0.3534        0.0649      5.4433      0.0000      0.2258      0.4811\n",
      "weight         0.2788        0.0649      4.2937      0.0000      0.1511      0.4065\n",
      "------------------------------------------------------------------------------\n",
      "Omnibus:                 104.075           Durbin-Watson:              2.077  \n",
      "Prob(Omnibus):           0.000             Jarque-Bera (JB):           305.151\n",
      "Skew:                    1.271             Prob(JB):                   0.000  \n",
      "Kurtosis:                6.600             Condition No.:              3      \n",
      "==============================================================================\n",
      "\n"
     ]
    }
   ],
   "source": [
    "X_const = sm.add_constant(X_train)\n",
    "model = sm.OLS(y_train['BLK'], X_train)\n",
    "res = model.fit()\n",
    "print('\\nResult Summary {0}:'.format(target))\n",
    "_ = print(res.summary2())"
   ]
  },
  {
   "cell_type": "code",
   "execution_count": 82,
   "metadata": {},
   "outputs": [
    {
     "name": "stdout",
     "output_type": "stream",
     "text": [
      "\n",
      "Result Summary PTS:\n",
      "                       Results: Ordinary least squares\n",
      "==============================================================================\n",
      "Model:                  OLS              Adj. R-squared (uncentered): 0.447   \n",
      "Dependent Variable:     OR               AIC:                         847.7860\n",
      "Date:                   2020-12-07 15:31 BIC:                         855.6505\n",
      "No. Observations:       377              Log-Likelihood:              -421.89 \n",
      "Df Model:               2                F-statistic:                 153.1   \n",
      "Df Residuals:           375              Prob (F-statistic):          2.41e-49\n",
      "R-squared (uncentered): 0.450            Scale:                       0.55189 \n",
      "-----------------------------------------------------------------------------------\n",
      "               Coef.       Std.Err.        t         P>|t|       [0.025      0.975]\n",
      "-----------------------------------------------------------------------------------\n",
      "height         0.2344        0.0599      3.9097      0.0001      0.1165      0.3523\n",
      "weight         0.4733        0.0599      7.8947      0.0000      0.3554      0.5912\n",
      "------------------------------------------------------------------------------\n",
      "Omnibus:                  56.096           Durbin-Watson:              1.891  \n",
      "Prob(Omnibus):            0.000            Jarque-Bera (JB):           114.347\n",
      "Skew:                     0.803            Prob(JB):                   0.000  \n",
      "Kurtosis:                 5.168            Condition No.:              3      \n",
      "==============================================================================\n",
      "\n"
     ]
    }
   ],
   "source": [
    "X_const = sm.add_constant(X_train)\n",
    "model = sm.OLS(y_train['OR'], X_train)\n",
    "res = model.fit()\n",
    "print('\\nResult Summary {0}:'.format(target))\n",
    "_ = print(res.summary2())"
   ]
  },
  {
   "cell_type": "markdown",
   "metadata": {},
   "source": [
    "OR (Offensive rebounds per game) - R square is 0.45\n",
    "\n",
    "REB - (rebounds per game) - R square 0.344\n",
    "\n",
    "BLK (Block per Game) - R square 0.35"
   ]
  },
  {
   "cell_type": "markdown",
   "metadata": {},
   "source": [
    "The coefficiency are positive, which means that the higher the height and heavier the weight is, players tend to have better performance on rebounds and blocks. If the player is higher, they would more likely to reach the ball in the air first. "
   ]
  },
  {
   "cell_type": "markdown",
   "metadata": {},
   "source": [
    "# NBA - How does age affect the performance?"
   ]
  },
  {
   "cell_type": "code",
   "execution_count": 177,
   "metadata": {},
   "outputs": [],
   "source": [
    "player_record = player_stats.groupby(['PLAYER_NAME']).count()['AGE'].reset_index()\n",
    "player_record.rename(columns={'AGE':'Exp'}, inplace=True)"
   ]
  },
  {
   "cell_type": "markdown",
   "metadata": {},
   "source": [
    "With 1359 players in total, current years of experience listed. "
   ]
  },
  {
   "cell_type": "code",
   "execution_count": 178,
   "metadata": {},
   "outputs": [
    {
     "data": {
      "text/plain": [
       "Text(0.5, 1.0, 'Experience Distribution')"
      ]
     },
     "execution_count": 178,
     "metadata": {},
     "output_type": "execute_result"
    },
    {
     "data": {
      "image/png": "[encoded data removed]",
      "text/plain": [
       "<Figure size 432x288 with 1 Axes>"
      ]
     },
     "metadata": {
      "needs_background": "light"
     },
     "output_type": "display_data"
    }
   ],
   "source": [
    "sns.distplot(player_record['Exp'])\n",
    "plt.xlabel('Experience')\n",
    "plt.title('Experience Distribution')"
   ]
  },
  {
   "cell_type": "markdown",
   "metadata": {},
   "source": [
    "Players who played more than 10 years. How does the performance changes over time? "
   ]
  },
  {
   "cell_type": "code",
   "execution_count": 179,
   "metadata": {},
   "outputs": [],
   "source": [
    "# Player played more than 10 years using the official data\n",
    "exp = 10\n",
    "player_10 = player_record[player_record['Exp'] >= exp]\n",
    "player_10 = pd.merge(player_10,player_stats,how = 'left', left_on=['PLAYER_NAME'], right_on = ['PLAYER_NAME']).dropna()"
   ]
  },
  {
   "cell_type": "code",
   "execution_count": 180,
   "metadata": {},
   "outputs": [],
   "source": [
    "# (df.PTS + df.REB + df.AST + df.BLK + df.STL - (df.FGA - df.FGM) - (df.FTA - df.FTM) - df.TOV ) /GP\n",
    "# NBA efficiency rating\n",
    "# Reference Link: https://en.wikipedia.org/wiki/Basketball_statistics\n",
    "# Data collected in already in per game format. Thus, the calculation does not divide Game played. \n",
    "def player_efficiency(df):\n",
    "    return (df.PTS + df.REB + df.AST + df.BLK + df.STL - (df.FGA - df.FGM) - (df.FTA -df.FTM) - df.TOV) "
   ]
  },
  {
   "cell_type": "code",
   "execution_count": 181,
   "metadata": {},
   "outputs": [],
   "source": [
    "player_10['EFF'] = player_efficiency(player_10)"
   ]
  },
  {
   "cell_type": "code",
   "execution_count": 182,
   "metadata": {},
   "outputs": [],
   "source": [
    "# Extract the first 10 records of each player played with more than 10 NBA games\n",
    "player_10 = player_10.groupby(['PLAYER_NAME']).head(exp).reset_index(drop=True)"
   ]
  },
  {
   "cell_type": "code",
   "execution_count": 183,
   "metadata": {},
   "outputs": [],
   "source": [
    "# Calculate the mean and median for Efficiency\n",
    "med = []\n",
    "avg = []\n",
    "MIN_avg = [] \n",
    "for r in range(10):\n",
    "    med.append(player_10[player_10['EFF'].T.index % 10 == r]['EFF'].T.describe()[5])\n",
    "    avg.append(player_10[player_10['EFF'].T.index % 10 == r]['EFF'].T.describe()[1])\n",
    "    MIN_avg.append(player_10[player_10['MIN'].T.index % 10 == r]['EFF'].T.describe()[1])"
   ]
  },
  {
   "cell_type": "code",
   "execution_count": 184,
   "metadata": {},
   "outputs": [
    {
     "data": {
      "text/plain": [
       "Text(0.5, 1.0, 'Average Efficiency')"
      ]
     },
     "execution_count": 184,
     "metadata": {},
     "output_type": "execute_result"
    },
    {
     "data": {
      "image/png": "[encoded data removed]",
      "text/plain": [
       "<Figure size 432x288 with 1 Axes>"
      ]
     },
     "metadata": {
      "needs_background": "light"
     },
     "output_type": "display_data"
    }
   ],
   "source": [
    "# Plot the average of the Effciency of the 376 players. For the past 10 years,\n",
    "#   we can see that player's NBA's efficiency rating is decreasing. \n",
    "plt.plot(range(1,11,1),avg)\n",
    "plt.xlabel('Season')\n",
    "plt.ylabel('Average Efficiency Per Game')\n",
    "plt.title('Average Efficiency')"
   ]
  },
  {
   "cell_type": "code",
   "execution_count": 185,
   "metadata": {},
   "outputs": [
    {
     "data": {
      "text/plain": [
       "Text(0.5, 1.0, 'Median Efficiency')"
      ]
     },
     "execution_count": 185,
     "metadata": {},
     "output_type": "execute_result"
    },
    {
     "data": {
      "image/png": "[encoded data removed]",
      "text/plain": [
       "<Figure size 432x288 with 1 Axes>"
      ]
     },
     "metadata": {
      "needs_background": "light"
     },
     "output_type": "display_data"
    }
   ],
   "source": [
    "# Plot the median of the Effciency of the 376 players. For the past 10 years,\n",
    "#   we can see that player's NBA's efficiency rating is decreasing. \n",
    "plt.plot(range(1,11,1),med)\n",
    "plt.xlabel('Number of Seasons')\n",
    "plt.ylabel('Median Efficiency score')\n",
    "plt.title('Median Efficiency')"
   ]
  },
  {
   "cell_type": "code",
   "execution_count": 186,
   "metadata": {},
   "outputs": [
    {
     "data": {
      "text/plain": [
       "Text(0.5, 1.0, 'Minute Played')"
      ]
     },
     "execution_count": 186,
     "metadata": {},
     "output_type": "execute_result"
    },
    {
     "data": {
      "image/png": "[encoded data removed]",
      "text/plain": [
       "<Figure size 432x288 with 1 Axes>"
      ]
     },
     "metadata": {
      "needs_background": "light"
     },
     "output_type": "display_data"
    }
   ],
   "source": [
    "plt.plot(range(1,11,1),MIN_avg)\n",
    "plt.xlabel('Number of Seasons')\n",
    "plt.ylabel('Average MIN Played')\n",
    "plt.title('Minute Played')"
   ]
  },
  {
   "cell_type": "markdown",
   "metadata": {},
   "source": [
    "As we can see that that as the number of seasons played for players, they get more experience and player's efficiency will increase and peak at the fifth season. However, one of the shortage of the NBA efficiency rating is that the calculation measured heavily on the offensive performance. This measure is tied with minutes played. As the player played more, player gets more opportunities to score and potentially increase the efficiency rating. Thus, players may get under-rated "
   ]
  },
  {
   "cell_type": "markdown",
   "metadata": {},
   "source": [
    "Adjusting the rating based on the MIN played during the game"
   ]
  },
  {
   "cell_type": "code",
   "execution_count": 187,
   "metadata": {},
   "outputs": [],
   "source": [
    "player_10['Adj_EFF'] = player_10['EFF'] / player_10['MIN']"
   ]
  },
  {
   "cell_type": "code",
   "execution_count": 188,
   "metadata": {},
   "outputs": [],
   "source": [
    "med_adj = []\n",
    "avg_adj = []\n",
    "feature = 'Adj_EFF'\n",
    "for r in range(10):\n",
    "    med_adj.append(player_10[player_10[feature].index % 10 == r][feature].describe()[5])\n",
    "    avg_adj.append(player_10[player_10[feature].index % 10 == r][feature].describe()[1])"
   ]
  },
  {
   "cell_type": "code",
   "execution_count": 189,
   "metadata": {},
   "outputs": [
    {
     "data": {
      "text/plain": [
       "Text(0.5, 1.0, 'Efficiency Per Minute')"
      ]
     },
     "execution_count": 189,
     "metadata": {},
     "output_type": "execute_result"
    },
    {
     "data": {
      "image/png": "[encoded data removed]",
      "text/plain": [
       "<Figure size 432x288 with 1 Axes>"
      ]
     },
     "metadata": {
      "needs_background": "light"
     },
     "output_type": "display_data"
    }
   ],
   "source": [
    "plt.plot(range(1,11,1),avg_adj)\n",
    "plt.xlabel('Season')\n",
    "plt.ylabel('Average Efficiency Per Game Per Minute')\n",
    "plt.title('Efficiency Per Minute')"
   ]
  },
  {
   "cell_type": "markdown",
   "metadata": {},
   "source": [
    "Efficiency adjusted by minute played shows similar trend as efficiency. "
   ]
  },
  {
   "cell_type": "code",
   "execution_count": 190,
   "metadata": {},
   "outputs": [],
   "source": [
    "five = player_10.groupby(['PLAYER_NAME']).head(5).groupby(['PLAYER_NAME']).tail(1).reset_index(drop=True)\n",
    "first = player_10.groupby(['PLAYER_NAME']).head(1).reset_index(drop=True)\n",
    "ten = player_10.groupby(['PLAYER_NAME']).head(10).groupby(['PLAYER_NAME']).tail(1).reset_index(drop=True)"
   ]
  },
  {
   "cell_type": "code",
   "execution_count": 191,
   "metadata": {},
   "outputs": [],
   "source": [
    "# bootstrap 1000 times\n",
    "def bootstrap(g1,g2,target):\n",
    "    draw_perc = 0.9\n",
    "    nrep = 1000 \n",
    "    avg1 = []\n",
    "    avg2 = []\n",
    "    for i in range(nrep):\n",
    "        df1 = g1.sample(frac=draw_perc, replace=True)\n",
    "        df2 = g2.sample(frac=draw_perc, replace=True)\n",
    "        avg1.append(df1[target].mean())\n",
    "        avg2.append(df2[target].mean())\n",
    "    avg1 = np.array(avg1)\n",
    "    avg2 = np.array(avg2) \n",
    "    return avg1,avg2"
   ]
  },
  {
   "cell_type": "code",
   "execution_count": 192,
   "metadata": {},
   "outputs": [
    {
     "name": "stdout",
     "output_type": "stream",
     "text": [
      "Ttest_indResult(statistic=-335.6224882217597, pvalue=0.0)\n",
      "4.711782840236683\n"
     ]
    }
   ],
   "source": [
    "# Perform two-sample t-test for first season and fifth season bootstrapped sample\n",
    "m1,m2 = bootstrap(first,five,'EFF')\n",
    "print(stats.ttest_ind(m1,m2))\n",
    "print((m2-m1).mean())"
   ]
  },
  {
   "cell_type": "markdown",
   "metadata": {},
   "source": [
    "The hypothesis is the average efficiency of the first and fifth season are the same. The p value is less than 0.05 which means we have enough evidence to reject the null hypothesis. The average difference is 4.7. Thus, efficiency of the first season is lower than the efficiency of the fifth season."
   ]
  },
  {
   "cell_type": "code",
   "execution_count": 193,
   "metadata": {},
   "outputs": [
    {
     "name": "stdout",
     "output_type": "stream",
     "text": [
      "Ttest_indResult(statistic=207.19353456302292, pvalue=0.0)\n",
      "-3.1623627218934818\n"
     ]
    }
   ],
   "source": [
    "# Perform two-sample t-test for fifth season and tenth season\n",
    "m1,m2 = bootstrap(five,ten,'EFF')\n",
    "print(stats.ttest_ind(m1,m2))\n",
    "print((m2-m1).mean())"
   ]
  },
  {
   "cell_type": "markdown",
   "metadata": {},
   "source": [
    "The hypothesis is the average efficiency of the tenth and fifth season are the same. The p value is less than 0.05 which means we have enough evidence to reject the null hypothesis. The average difference is -3.14. Thus, average efficiency of the tenth season is lower than the efficiency of the fifth season."
   ]
  },
  {
   "cell_type": "markdown",
   "metadata": {},
   "source": [
    "Defensive Player Features:\n",
    "\n",
    "**DREB**, **STL**, **BLK**"
   ]
  },
  {
   "cell_type": "markdown",
   "metadata": {},
   "source": [
    "## Steal changes over the year"
   ]
  },
  {
   "cell_type": "code",
   "execution_count": 196,
   "metadata": {},
   "outputs": [
    {
     "data": {
      "text/plain": [
       "Text(0, 0.5, 'Steal Per Game')"
      ]
     },
     "execution_count": 196,
     "metadata": {},
     "output_type": "execute_result"
    },
    {
     "data": {
      "image/png": "[encoded data removed]",
      "text/plain": [
       "<Figure size 432x288 with 1 Axes>"
      ]
     },
     "metadata": {
      "needs_background": "light"
     },
     "output_type": "display_data"
    }
   ],
   "source": [
    "med_pts = []\n",
    "avg_pts = []\n",
    "feature = 'STL'\n",
    "for r in range(10):\n",
    "    med_pts.append(player_10[player_10[feature].T.index % 10 == r][feature].T.describe()[5])\n",
    "    avg_pts.append(player_10[player_10[feature].T.index % 10 == r][feature].T.describe()[1])\n",
    "plt.plot(range(1,11,1),med_pts)\n",
    "plt.title('Steals')\n",
    "plt.xlabel('Season')\n",
    "plt.ylabel('Steal Per Game')"
   ]
  },
  {
   "cell_type": "code",
   "execution_count": 197,
   "metadata": {},
   "outputs": [
    {
     "name": "stdout",
     "output_type": "stream",
     "text": [
      "Ttest_indResult(statistic=-182.56703590494567, pvalue=0.0)\n",
      "0.2095902366863902\n"
     ]
    }
   ],
   "source": [
    "# Perform two-sample t-test for fifth season and tenth season\n",
    "m1,m2 = bootstrap(first,five,feature)\n",
    "print(stats.ttest_ind(m1,m2))\n",
    "print((m2-m1).mean())"
   ]
  },
  {
   "cell_type": "markdown",
   "metadata": {},
   "source": [
    "The hypothesis is the average steal of the fifth and tenth season are the same. The p value is less than 0.05 which means we have enough evidence to reject the null hypothesis. The average difference is 0.2. Thus, average steal of the first season is lower than the average steal of the fifth season."
   ]
  },
  {
   "cell_type": "code",
   "execution_count": 195,
   "metadata": {},
   "outputs": [
    {
     "name": "stdout",
     "output_type": "stream",
     "text": [
      "Ttest_indResult(statistic=203.5289019791758, pvalue=0.0)\n",
      "-0.2192091715976331\n"
     ]
    }
   ],
   "source": [
    "# Perform two-sample t-test for fifth season and tenth season\n",
    "m1,m2 = bootstrap(five,ten,feature)\n",
    "print(stats.ttest_ind(m1,m2))\n",
    "print((m2-m1).mean())"
   ]
  },
  {
   "cell_type": "markdown",
   "metadata": {},
   "source": [
    "The hypothesis is the average steal of the fifth and tenth season are the same. The p value is less than 0.05 which means we have enough evidence to reject the null hypothesis. The average difference is -0.21. Thus, average steal of the fifth season is higher than the average steal of the tenth season."
   ]
  },
  {
   "cell_type": "markdown",
   "metadata": {},
   "source": [
    "## Block"
   ]
  },
  {
   "cell_type": "code",
   "execution_count": 94,
   "metadata": {},
   "outputs": [
    {
     "data": {
      "text/plain": [
       "Text(0, 0.5, 'Block Per Game')"
      ]
     },
     "execution_count": 94,
     "metadata": {},
     "output_type": "execute_result"
    },
    {
     "data": {
      "image/png": "[encoded data removed]",
      "text/plain": [
       "<Figure size 432x288 with 1 Axes>"
      ]
     },
     "metadata": {
      "needs_background": "light"
     },
     "output_type": "display_data"
    }
   ],
   "source": [
    "med_pts = []\n",
    "avg_pts = []\n",
    "feature = 'BLK'\n",
    "for r in range(10):\n",
    "    med_pts.append(player_10[player_10[feature].T.index % 10 == r][feature].T.describe()[5])\n",
    "    avg_pts.append(player_10[player_10[feature].T.index % 10 == r][feature].T.describe()[1])\n",
    "plt.plot(range(1,11,1),med_pts)\n",
    "plt.title('Block')\n",
    "plt.xlabel('Season')\n",
    "plt.ylabel('Block Per Game')"
   ]
  },
  {
   "cell_type": "markdown",
   "metadata": {},
   "source": [
    "The data shows that after six years, the ability of block and rebounds decreases rapidly. This may due to the longer response time of the player as the age grows. "
   ]
  },
  {
   "cell_type": "code",
   "execution_count": 198,
   "metadata": {},
   "outputs": [
    {
     "name": "stdout",
     "output_type": "stream",
     "text": [
      "Ttest_indResult(statistic=-179.18490634249125, pvalue=0.0)\n",
      "0.20802869822485173\n"
     ]
    }
   ],
   "source": [
    "# Perform two-sample t-test for fifth season and tenth season\n",
    "m1,m2 = bootstrap(first,five,feature)\n",
    "print(stats.ttest_ind(m1,m2))\n",
    "print((m2-m1).mean())"
   ]
  },
  {
   "cell_type": "markdown",
   "metadata": {},
   "source": [
    "The hypothesis is the average block of the first and fifth season are the same. The p value is less than 0.05 which means we have enough evidence to reject the null hypothesis. The average difference is 0.20. Thus, average block of the fifth season is higher than the average  block of the first season."
   ]
  },
  {
   "cell_type": "code",
   "execution_count": 95,
   "metadata": {},
   "outputs": [
    {
     "name": "stdout",
     "output_type": "stream",
     "text": [
      "Ttest_indResult(statistic=154.2079915589191, pvalue=0.0)\n",
      "-0.20778816568047317\n"
     ]
    }
   ],
   "source": [
    "# Perform two-sample t-test for fifth season and tenth season\n",
    "m1,m2 = bootstrap(five,ten,feature)\n",
    "print(stats.ttest_ind(m1,m2))\n",
    "print((m2-m1).mean())"
   ]
  },
  {
   "cell_type": "markdown",
   "metadata": {},
   "source": [
    "The hypothesis is the average block of the fifth and tenth season are the same. The p value is less than 0.05 which means we have enough evidence to reject the null hypothesis. The average difference is -0.20. Thus, average block of the fifth season is higher than the average  block of the tenth season."
   ]
  },
  {
   "cell_type": "code",
   "execution_count": 97,
   "metadata": {},
   "outputs": [
    {
     "data": {
      "text/plain": [
       "Text(0.5, 1.0, 'Defensive Rebounds')"
      ]
     },
     "execution_count": 97,
     "metadata": {},
     "output_type": "execute_result"
    },
    {
     "data": {
      "image/png": "[encoded data removed]",
      "text/plain": [
       "<Figure size 432x288 with 1 Axes>"
      ]
     },
     "metadata": {
      "needs_background": "light"
     },
     "output_type": "display_data"
    }
   ],
   "source": [
    "med_pts = []\n",
    "avg_pts = []\n",
    "feature = 'DREB'\n",
    "for r in range(10):\n",
    "    med_pts.append(player_10[player_10[feature].T.index % 10 == r][feature].T.describe()[5])\n",
    "    avg_pts.append(player_10[player_10[feature].T.index % 10 == r][feature].T.describe()[1])\n",
    "plt.plot(range(1,11,1),med_pts)\n",
    "plt.xlabel('Season')\n",
    "plt.ylabel('Defensive Rebounds Per Game')\n",
    "plt.title('Defensive Rebounds')"
   ]
  },
  {
   "cell_type": "code",
   "execution_count": 98,
   "metadata": {},
   "outputs": [
    {
     "name": "stdout",
     "output_type": "stream",
     "text": [
      "Ttest_indResult(statistic=137.09481662329435, pvalue=0.0)\n",
      "-0.633453254437868\n"
     ]
    }
   ],
   "source": [
    "# Perform two-sample t-test for fifth season and tenth season\n",
    "m1,m2 = bootstrap(five,ten,feature)\n",
    "print(stats.ttest_ind(m1,m2))\n",
    "print((m2-m1).mean())"
   ]
  },
  {
   "cell_type": "markdown",
   "metadata": {},
   "source": [
    "The hypothesis is the average defensive rebounds of the fifth and tenth season are the same. The p value is less than 0.05 which means we have enough evidence to reject the null hypothesis. The average difference is -0.6. Thus, average defensive rebounds of the fifth season is lower than the average defensive rebounds of the tenth season."
   ]
  },
  {
   "cell_type": "code",
   "execution_count": 100,
   "metadata": {},
   "outputs": [
    {
     "name": "stdout",
     "output_type": "stream",
     "text": [
      "Ttest_indResult(statistic=-280.7754728637058, pvalue=0.0)\n",
      "1.1749357988165678\n"
     ]
    }
   ],
   "source": [
    "# Perform two-sample t-test for fifth season and tenth season\n",
    "m1,m2 = bootstrap(first,five,feature)\n",
    "print(stats.ttest_ind(m1,m2))\n",
    "print((m2-m1).mean())"
   ]
  },
  {
   "cell_type": "markdown",
   "metadata": {},
   "source": [
    "The hypothesis is the average defensive rebounds of the first and fifth season are the same. The p value is less than 0.05 which means we have enough evidence to reject the null hypothesis. The average difference is 1.17. Thus, average defensive rebounds of the fifth season is higher than the average defensive rebounds of the first season."
   ]
  },
  {
   "cell_type": "code",
   "execution_count": 101,
   "metadata": {},
   "outputs": [
    {
     "data": {
      "text/plain": [
       "Text(0.5, 1.0, 'Personal Fouls')"
      ]
     },
     "execution_count": 101,
     "metadata": {},
     "output_type": "execute_result"
    },
    {
     "data": {
      "image/png": "[encoded data removed]",
      "text/plain": [
       "<Figure size 432x288 with 1 Axes>"
      ]
     },
     "metadata": {
      "needs_background": "light"
     },
     "output_type": "display_data"
    }
   ],
   "source": [
    "med_pts = []\n",
    "avg_pts = []\n",
    "feature = 'PF'\n",
    "for r in range(10):\n",
    "    med_pts.append(player_10[player_10[feature].index % 10 == r][feature].T.describe()[5])\n",
    "    avg_pts.append(player_10[player_10[feature].index % 10 == r][feature].T.describe()[1])\n",
    "plt.plot(range(1,11,1),med_pts)\n",
    "plt.xlabel('Season')\n",
    "plt.ylabel('Personal Fouls per Game')\n",
    "plt.title('Personal Fouls')"
   ]
  },
  {
   "cell_type": "code",
   "execution_count": 102,
   "metadata": {},
   "outputs": [
    {
     "name": "stdout",
     "output_type": "stream",
     "text": [
      "Ttest_indResult(statistic=-197.40500838279974, pvalue=0.0)\n",
      "0.37086301775147934\n"
     ]
    }
   ],
   "source": [
    "# Perform two-sample t-test for fifth season and tenth season\n",
    "m1,m2 = bootstrap(first,five,feature)\n",
    "print(stats.ttest_ind(m1,m2))\n",
    "print((m2-m1).mean())"
   ]
  },
  {
   "cell_type": "markdown",
   "metadata": {},
   "source": [
    "The hypothesis is the average personal fouls of the first and fifth season are the same. The p value is less than 0.05 which means we have enough evidence to reject the null hypothesis. The average difference is 0.37. Thus, average personal fouls of the fifth season is higher than the average personal fouls of the first season."
   ]
  },
  {
   "cell_type": "code",
   "execution_count": 104,
   "metadata": {},
   "outputs": [
    {
     "name": "stdout",
     "output_type": "stream",
     "text": [
      "Ttest_indResult(statistic=276.09035585285943, pvalue=0.0)\n",
      "-0.45487130177514784\n"
     ]
    }
   ],
   "source": [
    "# Perform two-sample t-test for fifth season and tenth season\n",
    "m1,m2 = bootstrap(five,ten,feature)\n",
    "print(stats.ttest_ind(m1,m2))\n",
    "print((m2-m1).mean())"
   ]
  },
  {
   "cell_type": "markdown",
   "metadata": {},
   "source": [
    "The hypothesis is the average personal fouls of the fifth and tenth season are the same. The p value is less than 0.05 which means we have enough evidence to reject the null hypothesis. The average difference is -0.45. Thus, average personal fouls of the fifth season is higher than the average personal fouls of the tenth season."
   ]
  },
  {
   "cell_type": "markdown",
   "metadata": {},
   "source": [
    "Personal fouls of new NBA players increase, this may have two reasons:\n",
    "1. play more aggresively \n",
    "2. lack of experience\n",
    "\n",
    "After players get more experience, The personal foul decreases over time. The reasons behind this trend could be: \n",
    "1. the players play less offensive due to fatigue.\n",
    "2. Players could avoid more personal fouls based on their experience. "
   ]
  }
 ],
 "metadata": {
  "kernelspec": {
   "display_name": "Python 3",
   "language": "python",
   "name": "python3"
  },
  "language_info": {
   "codemirror_mode": {
    "name": "ipython",
    "version": 3
   },
   "file_extension": ".py",
   "mimetype": "text/x-python",
   "name": "python",
   "nbconvert_exporter": "python",
   "pygments_lexer": "ipython3",
   "version": "3.8.3"
  }
 },
 "nbformat": 4,
 "nbformat_minor": 4
}
